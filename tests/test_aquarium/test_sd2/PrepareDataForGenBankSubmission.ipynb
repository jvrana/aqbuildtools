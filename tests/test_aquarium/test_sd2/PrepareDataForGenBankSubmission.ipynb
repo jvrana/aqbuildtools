{
 "cells": [
  {
   "cell_type": "code",
   "execution_count": 7,
   "id": "80335d4c-c51b-4812-b889-171b9ed523c1",
   "metadata": {},
   "outputs": [],
   "source": [
    "from Bio import SeqIO\n",
    "from glob import glob\n",
    "\n",
    "from pydent import AqSession\n",
    "\n",
    "session = AqSession(\"vrana\", \"Mountain5\", \"http://52.27.43.242\")"
   ]
  },
  {
   "cell_type": "code",
   "execution_count": 5,
   "id": "91f0f9aa-7f81-4eed-8d5e-d0d7e9802caf",
   "metadata": {},
   "outputs": [],
   "source": [
    "wset = \"\"\"W5\tr1\n",
    "W8\tr2\n",
    "W10\tr3\n",
    "W14\tr4\n",
    "W17\tr5\n",
    "W19\tr6\n",
    "W20\tr7\n",
    "W22\tr8\n",
    "W34\tr9\n",
    "W36\tr10\n",
    "F1\tr11\n",
    "F2\tr12\n",
    "F3\tr13\n",
    "F4\tr14\n",
    "F5\tr15\n",
    "F6\tr16\n",
    "F7\tr17\n",
    "F8\tr18\n",
    "F9\tr19\n",
    "F10\tr20\n",
    "none\tv1\n",
    "none\tv2\n",
    "none\tv3\n",
    "none\tv4\n",
    "c3\tc3\n",
    "c6\tc6\"\"\"\n",
    "\n",
    "wset_dict = {}\n",
    "for line in wset.splitlines():\n",
    "    t = line.split('\\t')\n",
    "    wset_dict[t[0]] = t[1]"
   ]
  },
  {
   "cell_type": "code",
   "execution_count": 6,
   "id": "4d8dc4da-a47e-4aff-835c-120728e5f7d9",
   "metadata": {},
   "outputs": [
    {
     "data": {
      "text/plain": [
       "'ARS314-bleo_pGRR-r3r2-URGR-r10'"
      ]
     },
     "execution_count": 6,
     "metadata": {},
     "output_type": "execute_result"
    }
   ],
   "source": [
    "import re\n",
    "\n",
    "def sanitize_name(name):\n",
    "    name = re.sub(\"<\", \"_\", name)\n",
    "    name = re.sub(\">\", \"_\", name)\n",
    "    name = re.sub(\"\\(v2\\)\", \"\", name)\n",
    "    name = name.strip()\n",
    "    name = name.strip(\"_\")\n",
    "    for k in wset_dict:\n",
    "        name = re.sub(k, wset_dict[k], name)\n",
    "    return name\n",
    "\n",
    "sanitize_name('ARS314-bleo<pGRR-W10W8-URGR-W36> (v2)')"
   ]
  },
  {
   "cell_type": "code",
   "execution_count": 36,
   "id": "9d488ed9-3193-4c0d-b95e-aee4b96bc03d",
   "metadata": {},
   "outputs": [
    {
     "name": "stdout",
     "output_type": "stream",
     "text": [
      "36353.gb\n",
      "36339.gb\n",
      "36355.gb\n",
      "36263.gb\n",
      "36468.gb\n",
      "36269.gb\n",
      "36471.gb\n",
      "36449.gb\n",
      "5536.gb\n",
      "5533.gb\n",
      "36472.gb\n",
      "36451.gb\n",
      "1096.gb\n",
      "36447.gb\n",
      "36445.gb\n",
      "36332.gb\n",
      "36262.gb\n",
      "36446.gb\n",
      "36483.gb\n",
      "33580.gb\n",
      "36470.gb\n",
      "5535.gb\n",
      "5537.gb\n",
      "36450.gb\n",
      "1380.gb\n",
      "36475.gb\n",
      "5534.gb\n",
      "36469.gb\n",
      "33889.gb\n",
      "36474.gb\n",
      "36473.gb\n",
      "36482.gb\n"
     ]
    }
   ],
   "source": [
    "records = []\n",
    "\n",
    "for path in glob(\"*.gb\"):\n",
    "    sample_id = path.split('.')[0]\n",
    "    sample = session.Sample.find(sample_id)\n",
    "    \n",
    "    with open(path, 'r') as f:\n",
    "        print(path)\n",
    "        record = list(SeqIO.parse(path, format='genbank'))[0]\n",
    "        for f in record.features:\n",
    "            f.qualifiers = {'label': f.qualifiers['label']}\n",
    "        record.id = f\"UWBF_{path.split('.')}\"\n",
    "        records.append(record)\n",
    "        \n",
    "    \n",
    "        \n",
    "with open('allsequences.gb', 'w') as f:\n",
    "    SeqIO.write(records, f, format='genbank')"
   ]
  },
  {
   "cell_type": "code",
   "execution_count": 23,
   "id": "58385cff-ca6c-47ae-8f24-75b041d6658e",
   "metadata": {},
   "outputs": [
    {
     "data": {
      "text/plain": [
       "OrderedDict([('label', ['Tm: 60.4°C']),\n",
       "             ('ApEinfo_revcolor', ['#975fea', '#975fea']),\n",
       "             ('ApEinfo_fwdcolor', ['#975fea'])])"
      ]
     },
     "execution_count": 23,
     "metadata": {},
     "output_type": "execute_result"
    }
   ],
   "source": [
    "f.qualifiers"
   ]
  },
  {
   "cell_type": "code",
   "execution_count": 35,
   "id": "0085b5f7-e5f6-429f-8e68-841cf5bae69a",
   "metadata": {},
   "outputs": [
    {
     "name": "stdout",
     "output_type": "stream",
     "text": [
      "36353.gb\n",
      "36339.gb\n",
      "36355.gb\n",
      "36263.gb\n",
      "36468.gb\n",
      "36269.gb\n",
      "36471.gb\n",
      "36449.gb\n",
      "5536.gb\n",
      "5533.gb\n",
      "36472.gb\n",
      "36451.gb\n",
      "1096.gb\n",
      "36447.gb\n",
      "36445.gb\n",
      "36332.gb\n",
      "36262.gb\n",
      "36446.gb\n",
      "36483.gb\n",
      "33580.gb\n",
      "36470.gb\n",
      "5535.gb\n",
      "5537.gb\n",
      "36450.gb\n",
      "1380.gb\n",
      "36475.gb\n",
      "5534.gb\n",
      "36469.gb\n",
      "33889.gb\n",
      "36474.gb\n",
      "36473.gb\n",
      "36482.gb\n"
     ]
    }
   ],
   "source": [
    "\n",
    "records = []\n",
    "\n",
    "for path in glob(\"*.gb\"):\n",
    "    sample_id = path.split('.')[0]\n",
    "    sample = session.Sample.find(sample_id)\n",
    "    \n",
    "    with open(path, 'r') as f:\n",
    "        print(path)\n",
    "        record = list(SeqIO.parse(path, format='genbank'))[0]\n",
    "        records.append(record)\n",
    "        \n",
    "s = \"\"\n",
    "\n",
    "\n",
    "for record in records:\n",
    "    \n",
    "    s += f\"\\n>Feature {record.id}\"\n",
    "    for f in record.features:\n",
    "        start = int(f.location.start)\n",
    "        end = int(f.location.end)\n",
    "        ftype = f.type\n",
    "\n",
    "\n",
    "        label = f.qualifiers['label'][0]\n",
    "        if 'Tm' not in label:\n",
    "            s += f\"\\n\" + \"\\t\".join([str(start), str(end), ftype, '', ''])\n",
    "            s += f\"\\n\" + \"\\t\".join(['', '', '', 'label', f.qualifiers['label'][0]])\n",
    "with open('feature_table.txt', 'w') as f:\n",
    "    f.write(s)"
   ]
  },
  {
   "cell_type": "code",
   "execution_count": 14,
   "id": "489165ec-bbc2-4806-9200-e360a01877fb",
   "metadata": {},
   "outputs": [],
   "source": [
    "start = int(f.location.start)\n",
    "end = int(f.location.end)"
   ]
  },
  {
   "cell_type": "code",
   "execution_count": 63,
   "id": "1a4e059d-fc00-47d8-97bf-526313cf7a4a",
   "metadata": {},
   "outputs": [
    {
     "name": "stdout",
     "output_type": "stream",
     "text": [
      "36353.gb\n",
      "HIS-HIS<7XTetO-pMinCyc1-URGR-W5>\n",
      "36339.gb\n",
      "HIS-HIS<7XTetO-pMinCyc1-URGR-W34>\n",
      "36355.gb\n",
      "URA-URA<pGRR-W17W34-yeGFP>\n",
      "36263.gb\n",
      "ARS314-pp2_5'hom__v3\n",
      "36468.gb\n",
      "URA-URA<pGRR-W5W8-URGR-W36> (v2)\n",
      "36269.gb\n",
      "(SD2) pp2-pGRR-W5\n",
      "36471.gb\n",
      "ARS314-bleo<pGRR-W10W8-URGR-W36> (v2)\n",
      "36449.gb\n",
      "URA-URA<pGRR-W36W5-yeGFP> (v2)\n",
      "5536.gb\n",
      "pMOD8-pGALZ4-URGR-W17\n",
      "5533.gb\n",
      "pMOD8-pGALZ4-URGR-W10\n",
      "36472.gb\n",
      "URA-URA<pGRR-W8W34-URGR-W10> (v2)\n",
      "36451.gb\n",
      "URA-URA<pGRR-W10W17-yeGFP> (v2)\n",
      "1096.gb\n",
      "pMODKan_HO_pACT1_Zev4\n",
      "36447.gb\n",
      "URA-URA<pGRR-W36W36-yeGFP> (v2)\n",
      "36445.gb\n",
      "URA-URA<pGRR-W20W36-yeGFP> (v2)\n",
      "36332.gb\n",
      "HIS-HIS<7XTetO-pMinCyc1-URGR-W8>\n",
      "36262.gb\n",
      "TS-ARS314-BLEO_3'hom__v3\n",
      "36446.gb\n",
      "URA-URA<pGRR-W17W17-yeGFP> (v2)\n",
      "36483.gb\n",
      "ARS314-bleo<pGRR-W17W17-URGR-W10> (v2)\n",
      "33580.gb\n",
      "pMOD-HO-KanMX-pRPL18B-rtTA-VP16\n",
      "36470.gb\n",
      "LEU-LEU<pGRR-W5W5-URGR-W36> (v2)\n",
      "5535.gb\n",
      "pMOD8-pGALZ4-URGR-W5\n",
      "5537.gb\n",
      "pMOD8-pGALZ4-URGR-W36\n",
      "36450.gb\n",
      "URA-URA<pGRR-W10W20-yeGFP> (v2)\n",
      "1380.gb\n",
      "pMOD4G-dcas9-mxi1\n",
      "36475.gb\n",
      "URA-URA<pGRR-W8W34-URGR-W17> (v2)\n",
      "5534.gb\n",
      "pMOD8-pGALZ4-URGR-W8\n",
      "36469.gb\n",
      "URA-URA<pGRR-W10W8-URGR-W5> (v2)\n",
      "33889.gb\n",
      "PS-URGR-W20-tCyc1-TS\n",
      "36474.gb\n",
      "LEU-LEU<pGRR-W17W17-URGR-W20> (v2)\n",
      "36473.gb\n",
      "ARS314-bleo<pGRR-W8W34-URGR-W17> (v2)\n",
      "36482.gb\n",
      "ARS314-bleo<pGRR-W5W5-URGR-W20> (v2)\n"
     ]
    }
   ],
   "source": [
    "records = []\n",
    "\n",
    "for path in glob(\"*.gb\"):\n",
    "    sample_id = path.split('.')[0]\n",
    "    sample = session.Sample.find(sample_id)\n",
    "    \n",
    "    with open(path, 'r') as f:\n",
    "        print(path)\n",
    "        record = list(SeqIO.parse(path, format='genbank'))[0]\n",
    "    print(sample.name)\n",
    "    record.description = sanitize_name(sample.name)\n",
    "    \n",
    "    record.id = f\"UWBF_{sample.id}\"\n",
    "    records.append(record)"
   ]
  },
  {
   "cell_type": "code",
   "execution_count": 64,
   "id": "bcb29903-81fd-47f8-9a0a-099a93db6490",
   "metadata": {},
   "outputs": [],
   "source": [
    "with open('RobustnessAndReproducibility2022.fasta', 'w') as f:\n",
    "    SeqIO.write(records, f, format='fasta')"
   ]
  },
  {
   "cell_type": "markdown",
   "id": "a964a2a3-3ac9-478a-8721-9d2002af8993",
   "metadata": {},
   "source": [
    "### Prepare Strain Table"
   ]
  },
  {
   "cell_type": "code",
   "execution_count": 80,
   "id": "1d3e3f3f-d2eb-417f-9d5f-365224bc25ba",
   "metadata": {},
   "outputs": [],
   "source": [
    "files = list(glob(\"*.strain.json\"))\n",
    "\n",
    "def to_paper_name(name):\n",
    "    circuit = ''\n",
    "    design = ''\n",
    "    cdm = ''\n",
    "    \n",
    "    if 'DSGRN' in name:\n",
    "        design = 'DSGRN'\n",
    "    if 'GANDER' in name:\n",
    "        design = 'Simple'\n",
    "        \n",
    "    if 'low' in name:\n",
    "        cdm = 'low'\n",
    "    if 'high' in name:\n",
    "        cdm = 'high'\n",
    "        \n",
    "    if 'NOR' in name:\n",
    "        circuit = 'NOR'\n",
    "    elif 'OR' in name:\n",
    "        circuit = 'OR'\n",
    "    return f'{design} {circuit} {cdm}'\n",
    "\n",
    "\n",
    "rows = []\n",
    "for file in files:\n",
    "    sample_id = file.split('.')[0]\n",
    "    sample = session.Sample.find(sample_id)\n",
    "    sample_name = sample.name\n",
    "    paper_name = to_paper_name(sample_name)\n",
    "    \n",
    "    row = {'Strain': paper_name, 'StrainId': f'UWBF_{sample_id}'}\n",
    "    \n",
    "    with open(file, 'r') as f:\n",
    "        data = json.load(f)\n",
    "        integrants = data['strains'][0]['integrants']\n",
    "        \n",
    "        full_name = ' | '.join([sanitize_name(x.split(':')[-1]) for x in integrants])\n",
    "        row['FullName'] = full_name\n",
    "        row['Description'] = sample_name + \" \" + sample.description\n",
    "        for i, integrant in enumerate(integrants):\n",
    "            integrant_id = integrant.split(':')[1]\n",
    "            row[f'Integrant{i+1}'] = f'UWBF_{integrant_id}'\n",
    "    rows.append(row)\n",
    "df = pd.DataFrame(rows)\n",
    "df.to_csv(\"RobustnessAndReproducibility2022_Strains.csv\")"
   ]
  },
  {
   "cell_type": "code",
   "execution_count": 76,
   "id": "052a3b1b-8106-4d8d-9aba-a34a54c058c4",
   "metadata": {},
   "outputs": [
    {
     "data": {
      "text/plain": [
       "'Doxycycline and Beta-estradiol inducible OR circuit. GANDER topology. Predicted high performance gRNA selection by CDM.'"
      ]
     },
     "execution_count": 76,
     "metadata": {},
     "output_type": "execute_result"
    }
   ],
   "source": [
    "sample.description"
   ]
  },
  {
   "cell_type": "code",
   "execution_count": null,
   "id": "e65fa7ae-67ba-4cb4-bedf-9c8da4cb58c7",
   "metadata": {},
   "outputs": [],
   "source": []
  }
 ],
 "metadata": {
  "kernelspec": {
   "display_name": "Python 3 (ipykernel)",
   "language": "python",
   "name": "python3"
  },
  "language_info": {
   "codemirror_mode": {
    "name": "ipython",
    "version": 3
   },
   "file_extension": ".py",
   "mimetype": "text/x-python",
   "name": "python",
   "nbconvert_exporter": "python",
   "pygments_lexer": "ipython3",
   "version": "3.8.13"
  }
 },
 "nbformat": 4,
 "nbformat_minor": 5
}
