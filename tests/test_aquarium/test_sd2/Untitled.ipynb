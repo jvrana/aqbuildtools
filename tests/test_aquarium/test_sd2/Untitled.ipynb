{
 "cells": [
  {
   "cell_type": "code",
   "execution_count": null,
   "id": "d181415c-c140-49aa-b972-c034f917118d",
   "metadata": {},
   "outputs": [],
   "source": [
    "import json\n",
    "from glob import glob\n",
    "\n",
    "integrants = set()\n",
    "for path in glob(\"*.strain.json\"):\n",
    "    with open(path, 'r') as f:\n",
    "        d = json.load(f)\n",
    "        integrants.update(set(d['strains'][0]['integrants']))"
   ]
  },
  {
   "cell_type": "code",
   "execution_count": null,
   "id": "2ae11eb1-8e5a-4523-a897-eaa096851a71",
   "metadata": {
    "tags": []
   },
   "outputs": [
    {
     "data": {
      "text/plain": [
       "[36339,\n",
       " 36447,\n",
       " 36473,\n",
       " 36355,\n",
       " 36450,\n",
       " 1096,\n",
       " 5533,\n",
       " 33580,\n",
       " 36475,\n",
       " 5536,\n",
       " 36353,\n",
       " 5535,\n",
       " 5534,\n",
       " 36449,\n",
       " 36451,\n",
       " 36332,\n",
       " 36469,\n",
       " 36472,\n",
       " 36474,\n",
       " 36446,\n",
       " 5537,\n",
       " 36483,\n",
       " 36470,\n",
       " 36445,\n",
       " 1380,\n",
       " 36471,\n",
       " 36482,\n",
       " 36468]"
      ]
     },
     "execution_count": 2,
     "metadata": {},
     "output_type": "execute_result"
    }
   ],
   "source": [
    "[int(i.split(':')[1]) for i in integrants]"
   ]
  },
  {
   "cell_type": "code",
   "execution_count": null,
   "id": "96c00e3a-488e-4cf9-99a8-d5e77353ba57",
   "metadata": {},
   "outputs": [],
   "source": []
  }
 ],
 "metadata": {
  "kernelspec": {
   "display_name": "Python 3 (ipykernel)",
   "language": "python",
   "name": "python3"
  },
  "language_info": {
   "codemirror_mode": {
    "name": "ipython",
    "version": 3
   },
   "file_extension": ".py",
   "mimetype": "text/x-python",
   "name": "python",
   "nbconvert_exporter": "python",
   "pygments_lexer": "ipython3",
   "version": "3.8.8"
  }
 },
 "nbformat": 4,
 "nbformat_minor": 5
}
