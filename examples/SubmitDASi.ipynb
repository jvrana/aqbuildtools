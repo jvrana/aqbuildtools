{
 "cells": [
  {
   "cell_type": "markdown",
   "metadata": {},
   "source": [
    "# DASi Submission"
   ]
  },
  {
   "cell_type": "code",
   "execution_count": 1,
   "metadata": {},
   "outputs": [
    {
     "data": {
      "text/plain": [
       "{'default': {'aquarium': <AqSession(name=None, AqHTTP=<AqHTTP(user='vrana', url='http://52.27.43.242')>), parent=4516379384)>,\n",
       "  'benchling': <benchlingapi.session.Session at 0x133ee84f0>,\n",
       "  'registry': <aqbt.aquarium.registry.LabDNARegistry at 0x133f13790>}}"
      ]
     },
     "execution_count": 1,
     "metadata": {},
     "output_type": "execute_result"
    }
   ],
   "source": [
    "from aqbt.tools import config_to_sessions\n",
    "from aqbt.tools import parse_config\n",
    "import toml\n",
    "\n",
    "def config(config_path):\n",
    "    with open(config_path, \"r\") as f:\n",
    "        return parse_config(toml.load(f))\n",
    "\n",
    "\n",
    "def sessions(config):\n",
    "    return config_to_sessions(config)\n",
    "\n",
    "\n",
    "sessions = sessions(config('config.toml'))\n",
    "sessions"
   ]
  },
  {
   "cell_type": "markdown",
   "metadata": {},
   "source": [
    "#### Post on Benchling"
   ]
  },
  {
   "cell_type": "code",
   "execution_count": 2,
   "metadata": {},
   "outputs": [],
   "source": [
    "benchling = sessions['default']['benchling']\n",
    "\n",
    "folder = benchling.Folder.find_by_name(\"2020Campaign\")"
   ]
  },
  {
   "cell_type": "code",
   "execution_count": 3,
   "metadata": {},
   "outputs": [
    {
     "data": {
      "text/plain": [
       "'2.1.12'"
      ]
     },
     "execution_count": 3,
     "metadata": {},
     "output_type": "execute_result"
    }
   ],
   "source": [
    "from benchlingapi import __version__\n",
    "__version__"
   ]
  },
  {
   "cell_type": "code",
   "execution_count": 4,
   "metadata": {},
   "outputs": [],
   "source": [
    "from aqbt.bioadapter import convert\n",
    "from aqbt import biopython\n",
    "from glob import glob\n",
    "\n",
    "records = biopython.load_genbank_glob(glob('output_plasmids/*.gb'))\n",
    "\n",
    "seqs = []\n",
    "for record in records:\n",
    "    data = convert(record, to='benchling_dna_json')\n",
    "    data['folder_id'] = folder.id\n",
    "    seq = benchling.DNASequence.load(data)\n",
    "    seqs.append(seq)"
   ]
  },
  {
   "cell_type": "code",
   "execution_count": 5,
   "metadata": {},
   "outputs": [],
   "source": [
    "# import tqdm\n",
    "\n",
    "# for seq in seqs:\n",
    "#     print(seq.name)\n",
    "#     seq.save()"
   ]
  },
  {
   "cell_type": "code",
   "execution_count": 7,
   "metadata": {},
   "outputs": [],
   "source": [
    "sessions['default']['registry'].session.using_cache = True"
   ]
  },
  {
   "cell_type": "code",
   "execution_count": 8,
   "metadata": {},
   "outputs": [],
   "source": [
    "import pickle\n",
    "from os.path import abspath\n",
    "from os.path import dirname\n",
    "from os.path import isfile\n",
    "from os.path import join\n",
    "\n",
    "from dasi import LibraryDesign\n",
    "\n",
    "from aqbt.bioadapter import convert\n",
    "from aqbt.design.dasi.dfs import KlavinsLabDnaDb\n",
    "\n",
    "\n",
    "here = abspath(dirname(\".\"))\n",
    "DEFAULT_FILEPATH = join(here, \"inventory.df\")\n",
    "\n",
    "from aqbt.design.dasi.dasi_to_aquarium import design_from_benchling_links, inventory_df\n",
    "\n",
    "def inventory_df(registry=None, force_new: bool = False, filepath: str = None):\n",
    "    if filepath is None:\n",
    "        filepath = DEFAULT_FILEPATH\n",
    "    df = None\n",
    "    if isfile(filepath) and not force_new:\n",
    "        with open(filepath, \"rb\") as f:\n",
    "            try:\n",
    "                return pickle.load(f)\n",
    "            except Exception as e:\n",
    "                print(\"Could not load pickled file.\")\n",
    "                print(e)\n",
    "    if df is None:\n",
    "        db = KlavinsLabDnaDb(registry)\n",
    "        db.build(dna_limit=None, primer_limit=None)\n",
    "        print(db.df['is_available'])\n",
    "        df = db.df[db.df[\"is_available\"] == True]\n",
    "        df.drop(\"benchling_sequence\", axis=1, inplace=True)\n",
    "        with open(filepath, \"wb\") as f:\n",
    "            pickle.dump(df, f)\n",
    "\n",
    "    # clean\n",
    "    df[\"trashed\"] = [s.name.lower().startswith(\"trashed\") for s in df[\"sample\"]]\n",
    "    df = df[df[\"is_available\"] == True]\n",
    "    df = df[~df[\"trashed\"]]\n",
    "    return df\n",
    "\n",
    "df = inventory_df(sessions['default']['registry'])"
   ]
  },
  {
   "cell_type": "code",
   "execution_count": 9,
   "metadata": {},
   "outputs": [
    {
     "data": {
      "text/plain": [
       "Index(['entity_registry_id', 'is_available', 'is_circular', 'record',\n",
       "       'record_uuid', 'sample', 'sample_id', 'sample_type', 'sequence_hash'],\n",
       "      dtype='object')"
      ]
     },
     "execution_count": 9,
     "metadata": {},
     "output_type": "execute_result"
    }
   ],
   "source": [
    "df.columns"
   ]
  },
  {
   "cell_type": "code",
   "execution_count": null,
   "metadata": {},
   "outputs": [
    {
     "name": "stderr",
     "output_type": "stream",
     "text": [
      "\n",
      "                                             \n",
      " 80%|████████  | 4/5 [03:48<00:22, 22.59s/it]\n",
      "  0%|          | 0/5 [00:00<?, ?it/s]\u001b[A"
     ]
    },
    {
     "name": "stdout",
     "output_type": "stream",
     "text": [
      "\u001b[37mINFO - ProgressLoggable(LibraryDesign(id=5674661680)) - 2020-07-20 15:40:49,601 - Running blast\u001b[0m\n"
     ]
    },
    {
     "name": "stderr",
     "output_type": "stream",
     "text": [
      "                                             \n",
      " 80%|████████  | 4/5 [04:05<00:22, 22.59s/it]\n",
      "  0%|          | 0/5 [00:17<?, ?it/s]\u001b[A"
     ]
    },
    {
     "name": "stdout",
     "output_type": "stream",
     "text": [
      "\u001b[37mINFO - LibraryDesign(id=5674661680) - 2020-07-20 15:41:06,874 - Number of template matches: 45711\u001b[0m\n"
     ]
    },
    {
     "name": "stderr",
     "output_type": "stream",
     "text": [
      "                                             \n",
      " 80%|████████  | 4/5 [04:07<00:22, 22.59s/it]\n",
      "  0%|          | 0/5 [00:18<?, ?it/s]\u001b[A"
     ]
    },
    {
     "name": "stdout",
     "output_type": "stream",
     "text": [
      "\u001b[37mINFO - LibraryDesign(id=5674661680) - 2020-07-20 15:41:08,444 - Number of perfect fragment matches: 64\u001b[0m\n"
     ]
    },
    {
     "name": "stderr",
     "output_type": "stream",
     "text": [
      "                                             \n",
      " 80%|████████  | 4/5 [04:16<00:22, 22.59s/it]\n",
      "  0%|          | 0/5 [00:28<?, ?it/s]\u001b[A"
     ]
    },
    {
     "name": "stdout",
     "output_type": "stream",
     "text": [
      "\u001b[37mINFO - LibraryDesign(id=5674661680) - 2020-07-20 15:41:17,700 - Number of perfect primers: 3343\u001b[0m\n"
     ]
    },
    {
     "name": "stderr",
     "output_type": "stream",
     "text": [
      "                                             \n",
      " 80%|████████  | 4/5 [04:17<00:22, 22.59s/it]\n",
      "  0%|          | 0/5 [00:29<?, ?it/s]\u001b[A\n",
      "                                             \u001b[A\n",
      " 80%|████████  | 4/5 [04:17<00:22, 22.59s/it]\n",
      " 20%|██        | 1/5 [00:29<01:56, 29.12s/it]\u001b[A"
     ]
    },
    {
     "name": "stdout",
     "output_type": "stream",
     "text": [
      "\u001b[37mINFO - ProgressLoggable(LibraryDesign(id=5674661680)) - 2020-07-20 15:41:18,710 - Running shared fragment blast\u001b[0m\n",
      "\u001b[37mINFO - LibraryDesign(id=5674661680) - 2020-07-20 15:41:18,718 - === Expanding shared library fragments ===\u001b[0m\n"
     ]
    },
    {
     "name": "stderr",
     "output_type": "stream",
     "text": [
      "                                             \n",
      " 80%|████████  | 4/5 [04:21<00:22, 22.59s/it]\n",
      " 20%|██        | 1/5 [00:32<01:56, 29.12s/it]\u001b[A"
     ]
    },
    {
     "name": "stdout",
     "output_type": "stream",
     "text": [
      "\u001b[37mINFO - LibraryDesign(id=5674661680) - 2020-07-20 15:41:21,974 - Found 5026 shared alignments between the queries\u001b[0m\n"
     ]
    },
    {
     "name": "stderr",
     "output_type": "stream",
     "text": [
      "                                             \n",
      " 80%|████████  | 4/5 [04:21<00:22, 22.59s/it]\n",
      " 20%|██        | 1/5 [00:33<01:56, 29.12s/it]\u001b[A\n",
      " 80%|████████  | 4/5 [00:33<00:20, 20.79s/it]\u001b[A"
     ]
    },
    {
     "name": "stdout",
     "output_type": "stream",
     "text": [
      "\u001b[37mINFO - ProgressLoggable(LibraryDesign(id=5674661680)) - 2020-07-20 15:41:22,826 - Finding shared clusters\u001b[0m\n"
     ]
    }
   ],
   "source": [
    "df = df[df['is_available'] == True]\n",
    "# df = df[~df['trashed']]\n",
    "\n",
    "def _get_records(st):\n",
    "    return list(df[df[\"sample_type\"] == st][\"record\"])\n",
    "\n",
    "fragments = _get_records('Fragment')\n",
    "plasmids = _get_records(\"Plasmid\")\n",
    "primers = _get_records(\"Primer\")\n",
    "\n",
    "\n",
    "biopython.make_cyclic(records)\n",
    "biopython.make_linear(fragments)\n",
    "biopython.make_linear(primers)\n",
    "biopython.make_linear(plasmids)\n",
    "\n",
    "span_cost = dasi.cost.cached_span_cost()\n",
    "design = LibraryDesign(span_cost=span_cost)\n",
    "design.FAVOR_SHARED_SEQUENCES = 10.0\n",
    "design.add_materials(\n",
    "    primers=primers, fragments=fragments, templates=plasmids, queries=records\n",
    ")\n",
    "design.logger.set_level(\"DEBUG\")\n",
    "design.run(n_paths=1)"
   ]
  },
  {
   "cell_type": "code",
   "execution_count": 13,
   "metadata": {},
   "outputs": [],
   "source": [
    "import dasi"
   ]
  },
  {
   "cell_type": "code",
   "execution_count": 18,
   "metadata": {},
   "outputs": [],
   "source": [
    "span_cost = dasi.cost.cached_span_cost()"
   ]
  },
  {
   "cell_type": "code",
   "execution_count": null,
   "metadata": {},
   "outputs": [],
   "source": []
  }
 ],
 "metadata": {
  "kernelspec": {
   "display_name": "Python 3",
   "language": "python",
   "name": "python3"
  },
  "language_info": {
   "codemirror_mode": {
    "name": "ipython",
    "version": 3
   },
   "file_extension": ".py",
   "mimetype": "text/x-python",
   "name": "python",
   "nbconvert_exporter": "python",
   "pygments_lexer": "ipython3",
   "version": "3.8.3"
  }
 },
 "nbformat": 4,
 "nbformat_minor": 4
}
