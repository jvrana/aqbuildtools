{
 "cells": [
  {
   "cell_type": "code",
   "execution_count": 1,
   "id": "marine-instruction",
   "metadata": {},
   "outputs": [
    {
     "data": {
      "text/plain": [
       "['/home/justin/Github/aqbuildtools',\n",
       " '/home/justin/Github/aqbuildtools/examples',\n",
       " '/home/justin/anaconda3/envs/aqbt/lib/python38.zip',\n",
       " '/home/justin/anaconda3/envs/aqbt/lib/python3.8',\n",
       " '/home/justin/anaconda3/envs/aqbt/lib/python3.8/lib-dynload',\n",
       " '',\n",
       " '/home/justin/anaconda3/envs/aqbt/lib/python3.8/site-packages',\n",
       " '/home/justin/anaconda3/envs/aqbt/lib/python3.8/site-packages/IPython/extensions',\n",
       " '/home/justin/.ipython']"
      ]
     },
     "execution_count": 1,
     "metadata": {},
     "output_type": "execute_result"
    }
   ],
   "source": [
    "import sys\n",
    "import os\n",
    "\n",
    "path = os.path.abspath('..')\n",
    "if path not in sys.path:\n",
    "    sys.path.insert(0, os.path.abspath('..'))\n",
    "    \n",
    "sys.path"
   ]
  },
  {
   "cell_type": "code",
   "execution_count": 2,
   "id": "approximate-advice",
   "metadata": {},
   "outputs": [],
   "source": [
    "from aqbt import AquariumBuildTools\n",
    "aqtools = AquariumBuildTools.from_toml('creds.secret.toml')\n",
    "aqtools.sessions\n",
    "\n",
    "aq = aqtools.sessions['default']['aquarium']\n"
   ]
  },
  {
   "cell_type": "code",
   "execution_count": null,
   "id": "desperate-merchant",
   "metadata": {},
   "outputs": [],
   "source": [
    "get_all_primers = {\n",
    "    '__model__': 'Sample',\n",
    "    '__description__': 'get all primers',\n",
    "    '__query__': {\n",
    "        'sample_type': {\n",
    "            '__query__': {\n",
    "                'name': 'Primer'\n",
    "            }\n",
    "        },\n",
    "        '__return__': {'field_values': []}\n",
    "    }\n",
    "}\n",
    "\n",
    "primers = aq.query(get_all_primers)"
   ]
  },
  {
   "cell_type": "code",
   "execution_count": 99,
   "id": "exposed-cisco",
   "metadata": {},
   "outputs": [
    {
     "data": {
      "application/vnd.jupyter.widget-view+json": {
       "model_id": "9a676f17533a4ad4804bbd2c864d8b38",
       "version_major": 2,
       "version_minor": 0
      },
      "text/plain": [
       "  0%|          | 0/36221 [00:00<?, ?it/s]"
      ]
     },
     "metadata": {},
     "output_type": "display_data"
    }
   ],
   "source": [
    "from tqdm.auto import tqdm\n",
    "\n",
    "def pagination(query, page_size, model=\"Sample\", pbar=True, pbar_desc=None, limit=None):\n",
    "    \n",
    "    if limit:\n",
    "        last_id = aq.model_interface(model).first(1, query=query, opts={'offset': limit})[0].id\n",
    "    else:\n",
    "        last_id = aq.model_interface(model).last(1, query=query)[0].id\n",
    "\n",
    "    opts = {}\n",
    "    if limit:\n",
    "        opts['limit'] = limit\n",
    "    iterator = aq.model_interface(model).pagination(query=query, page_size=page_size, opts=opts)\n",
    "    if pbar:\n",
    "        pbar_iter = tqdm(iterator, total=last_id)\n",
    "    \n",
    "        if pbar_desc:\n",
    "            pbar_iter.set_description(pbar_desc)\n",
    "        last_max_id = -1\n",
    "        for primers in pbar_iter:\n",
    " \n",
    "            ids = [m.id for m in primers]\n",
    "            max_id = max(ids)\n",
    "            pbar_iter.update(max_id - last_max_id)\n",
    "            last_max_id = max_id\n",
    "            yield primers\n",
    "    else:\n",
    "        yield from iterator\n",
    "        \n",
    "def get_primers(sess, page_size=500, pbar=True, limit=None):\n",
    "    all_primers = []\n",
    "    for primers in pagination({'sample_type_id': sess.SampleType.find_by_name('Primer').id}, page_size=page_size, limit=limit, pbar=True, pbar_desc='collecting primer seqs'):\n",
    "        sess.browser.get(primers, {'sample_type': 'field_types', 'field_values': 'field_type'})\n",
    "        all_primers += primers\n",
    "    return all_primers\n",
    "\n",
    "with aq.with_cache(timeout=50) as sess:\n",
    "    primers = get_primers(sess)\n"
   ]
  },
  {
   "cell_type": "code",
   "execution_count": 114,
   "id": "assisted-assembly",
   "metadata": {},
   "outputs": [],
   "source": [
    "from json import JSONDecodeError\n",
    "import re\n",
    "\n",
    "def clean_seq(seq):\n",
    "    return re.sub('\\s', '', seq)\n",
    "\n",
    "for p in primers:\n",
    "    try:\n",
    "        p.properties\n",
    "        overhang = clean_seq(p.properties['Overhang Sequence'] or '')\n",
    "        anneal = clean_seq(p.properties['Anneal Sequence'] or '')\n",
    "        \n",
    "        sequence = overhang + anneal\n",
    "        p.overhang = overhang\n",
    "        p.anneal = anneal\n",
    "        p.sequence = sequence\n",
    "    except JSONDecodeError as e:\n",
    "        pass"
   ]
  },
  {
   "cell_type": "code",
   "execution_count": 117,
   "id": "vocal-linux",
   "metadata": {},
   "outputs": [
    {
     "data": {
      "text/plain": [
       "''"
      ]
     },
     "execution_count": 117,
     "metadata": {},
     "output_type": "execute_result"
    }
   ],
   "source": [
    "primers[-10].overhang"
   ]
  },
  {
   "cell_type": "code",
   "execution_count": 118,
   "id": "synthetic-differential",
   "metadata": {},
   "outputs": [],
   "source": [
    "import primer3plus"
   ]
  },
  {
   "cell_type": "code",
   "execution_count": 120,
   "id": "celtic-quest",
   "metadata": {},
   "outputs": [
    {
     "data": {
      "text/plain": [
       "\u001b[0;31mSignature:\u001b[0m\n",
       "\u001b[0mprimer3plus\u001b[0m\u001b[0;34m.\u001b[0m\u001b[0mutils\u001b[0m\u001b[0;34m.\u001b[0m\u001b[0manneal_iter\u001b[0m\u001b[0;34m(\u001b[0m\u001b[0;34m\u001b[0m\n",
       "\u001b[0;34m\u001b[0m    \u001b[0mseq\u001b[0m\u001b[0;34m:\u001b[0m \u001b[0mstr\u001b[0m\u001b[0;34m,\u001b[0m\u001b[0;34m\u001b[0m\n",
       "\u001b[0;34m\u001b[0m    \u001b[0mprimer_list\u001b[0m\u001b[0;34m:\u001b[0m \u001b[0mList\u001b[0m\u001b[0;34m[\u001b[0m\u001b[0mUnion\u001b[0m\u001b[0;34m[\u001b[0m\u001b[0mstr\u001b[0m\u001b[0;34m,\u001b[0m \u001b[0mTuple\u001b[0m\u001b[0;34m[\u001b[0m\u001b[0mstr\u001b[0m\u001b[0;34m,\u001b[0m \u001b[0mstr\u001b[0m\u001b[0;34m]\u001b[0m\u001b[0;34m]\u001b[0m\u001b[0;34m]\u001b[0m\u001b[0;34m,\u001b[0m\u001b[0;34m\u001b[0m\n",
       "\u001b[0;34m\u001b[0m    \u001b[0mn_bases\u001b[0m\u001b[0;34m=\u001b[0m\u001b[0;36m10\u001b[0m\u001b[0;34m,\u001b[0m\u001b[0;34m\u001b[0m\n",
       "\u001b[0;34m\u001b[0m    \u001b[0mignore_case\u001b[0m\u001b[0;34m=\u001b[0m\u001b[0;32mTrue\u001b[0m\u001b[0;34m,\u001b[0m\u001b[0;34m\u001b[0m\n",
       "\u001b[0;34m\u001b[0m\u001b[0;34m)\u001b[0m \u001b[0;34m->\u001b[0m \u001b[0mTuple\u001b[0m\u001b[0;34m[\u001b[0m\u001b[0mIterator\u001b[0m\u001b[0;34m[\u001b[0m\u001b[0mDict\u001b[0m\u001b[0;34m[\u001b[0m\u001b[0mstr\u001b[0m\u001b[0;34m,\u001b[0m \u001b[0mUnion\u001b[0m\u001b[0;34m[\u001b[0m\u001b[0mstr\u001b[0m\u001b[0;34m,\u001b[0m \u001b[0mint\u001b[0m\u001b[0;34m]\u001b[0m\u001b[0;34m]\u001b[0m\u001b[0;34m]\u001b[0m\u001b[0;34m,\u001b[0m \u001b[0mIterator\u001b[0m\u001b[0;34m[\u001b[0m\u001b[0mDict\u001b[0m\u001b[0;34m[\u001b[0m\u001b[0mstr\u001b[0m\u001b[0;34m,\u001b[0m \u001b[0mUnion\u001b[0m\u001b[0;34m[\u001b[0m\u001b[0mstr\u001b[0m\u001b[0;34m,\u001b[0m \u001b[0mint\u001b[0m\u001b[0;34m]\u001b[0m\u001b[0;34m]\u001b[0m\u001b[0;34m]\u001b[0m\u001b[0;34m]\u001b[0m\u001b[0;34m\u001b[0m\u001b[0;34m\u001b[0m\u001b[0m\n",
       "\u001b[0;31mDocstring:\u001b[0m\n",
       "Anneal a list of primers to the sequence. Returns two iterables with\n",
       "elements of the forms:\n",
       "\n",
       ".. code-block:: JSON\n",
       "\n",
       "    {\n",
       "        \"name\": \"<str> the name of the primer annealed\",\n",
       "        \"anneal\": \"<str> the 5'->3' sequence of the annealing portion of the\n",
       "                    primer\"\n",
       "        \"overhang\": \"<str> the 5'->3' sequence of the remaining portion of the\n",
       "                    primer\"\n",
       "        \"start\": \"<int> the inclusive starting position of the primer\"\n",
       "        \"length\": \"<int> the length of the annealing portion of the primer\",\n",
       "        \"top_strand_slice\": \"tuple[int, int] the location on the top strand of the\n",
       "                             annealing portion of the primer.\"\n",
       "    }\n",
       "\n",
       "Note the position conventions\n",
       "between fwd and reverse are different in order to match the conventions used\n",
       "by primer3. It is often more intuitive to use the 'top_strand_slice' key.\n",
       "\n",
       "::\n",
       "    0123456789\n",
       "    |--------------------------------|\n",
       "      [<-----)      start=2  length=7  strand = 1\n",
       "     (----->]       start=8  length=7  strand = -1\n",
       "\n",
       "    However, the top_strand_slice in both cases would be [2,9)\n",
       "\n",
       ":param seq: the template sequence\n",
       ":param primer_list: a list of either Tuples[name, bases] or just bases\n",
       ":param n_bases: number of bases for seed matching (default: 10)\n",
       ":return: Two iterators of dictionary results.\n",
       "\u001b[0;31mFile:\u001b[0m      ~/anaconda3/envs/aqbt/lib/python3.8/site-packages/primer3plus/utils/__init__.py\n",
       "\u001b[0;31mType:\u001b[0m      function\n"
      ]
     },
     "metadata": {},
     "output_type": "display_data"
    }
   ],
   "source": [
    "primer3plus.utils.anneal_iter?"
   ]
  },
  {
   "cell_type": "code",
   "execution_count": null,
   "id": "worth-castle",
   "metadata": {},
   "outputs": [],
   "source": []
  }
 ],
 "metadata": {
  "kernelspec": {
   "display_name": "Python 3",
   "language": "python",
   "name": "python3"
  },
  "language_info": {
   "codemirror_mode": {
    "name": "ipython",
    "version": 3
   },
   "file_extension": ".py",
   "mimetype": "text/x-python",
   "name": "python",
   "nbconvert_exporter": "python",
   "pygments_lexer": "ipython3",
   "version": "3.8.5"
  }
 },
 "nbformat": 4,
 "nbformat_minor": 5
}
