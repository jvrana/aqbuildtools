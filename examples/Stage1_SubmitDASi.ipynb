{
 "cells": [
  {
   "cell_type": "markdown",
   "metadata": {},
   "source": [
    "# DASi Submission\n",
    "\n",
    "This notebook plans molecular biology assembly of new plasmids.\n",
    "\n",
    "**Inputs**\n",
    "\n",
    "* Session credentials (`config.toml`)\n",
    "* Sequences at`output_plasmids/*.gb`\n",
    "\n",
    "**Outputs**\n",
    "\n",
    "* Inventory csv\n",
    "* Selected Inventory csv\n",
    "* Selected Inventory filter txt\n",
    "* `design.out.json`\n",
    "\n",
    "*Note: this script takes 10-25 minutes for ~32 plasmids. Please be patient."
   ]
  },
  {
   "cell_type": "code",
   "execution_count": 9,
   "metadata": {},
   "outputs": [
    {
     "name": "stdout",
     "output_type": "stream",
     "text": [
      "0.1.0\n",
      "True\n"
     ]
    }
   ],
   "source": [
    "# check versioning\n",
    "import dasi\n",
    "print(dasi.__version__)\n",
    "\n",
    "import pyblast \n",
    "print(pyblast.cli.is_installed())"
   ]
  },
  {
   "cell_type": "code",
   "execution_count": 11,
   "metadata": {},
   "outputs": [],
   "source": [
    "# login to Benchling & Aquarium\n",
    "from aqbt.tools import config_to_sessions\n",
    "from aqbt.tools import parse_config\n",
    "import toml\n",
    "\n",
    "def config(config_path):\n",
    "    with open(config_path, \"r\") as f:\n",
    "        return parse_config(toml.load(f))\n",
    "\n",
    "\n",
    "def sessions(config):\n",
    "    return config_to_sessions(config)\n",
    "\n",
    "\n",
    "sessions = sessions(config('config.toml'))\n",
    "\n",
    "benchling = sessions['default']['benchling']\n",
    "registry = sessions['default']['registry']\n",
    "session = sessions['default']['aquarium']"
   ]
  },
  {
   "cell_type": "markdown",
   "metadata": {},
   "source": [
    "#### Load genbank files\n",
    "\n",
    "There are the **new** sequences we aim to build."
   ]
  },
  {
   "cell_type": "code",
   "execution_count": 12,
   "metadata": {},
   "outputs": [],
   "source": [
    "from aqbt.bioadapter import convert\n",
    "from aqbt import biopython\n",
    "from glob import glob\n",
    "\n",
    "records = biopython.load_genbank_glob(glob('output_plasmids/*.gb'))"
   ]
  },
  {
   "cell_type": "markdown",
   "metadata": {},
   "source": [
    "### Collect Inventory\n",
    "\n",
    "This is the **existing** inventory we have to build from. This is pulled from a semi-complicated script that connects Aquarium DB to Benchling DB and filters those sequences that exist as an item in Aquarium. This was saved as a `csv` file."
   ]
  },
  {
   "cell_type": "code",
   "execution_count": 13,
   "metadata": {},
   "outputs": [],
   "source": [
    "import pickle\n",
    "from os.path import abspath\n",
    "from os.path import dirname\n",
    "from os.path import isfile\n",
    "from os.path import join\n",
    "\n",
    "from dasi import LibraryDesign\n",
    "\n",
    "from aqbt.bioadapter import convert\n",
    "from aqbt.design.dasi.dfs import KlavinsLabDnaDb\n",
    "\n",
    "\n",
    "here = abspath(dirname(\".\"))\n",
    "DEFAULT_FILEPATH = join(here, \"inventory.df\")\n",
    "\n",
    "from aqbt.design.dasi.dasi_to_aquarium import design_from_benchling_links, inventory_df\n",
    "\n",
    "def inventory_df(registry=None, force_new: bool = False, filepath: str = None):\n",
    "    if filepath is None:\n",
    "        filepath = DEFAULT_FILEPATH\n",
    "    df = None\n",
    "    if isfile(filepath) and not force_new:\n",
    "        with open(filepath, \"rb\") as f:\n",
    "            try:\n",
    "                return pickle.load(f)\n",
    "            except Exception as e:\n",
    "                print(\"Could not load pickled file.\")\n",
    "                print(e)\n",
    "    if df is None:\n",
    "        db = KlavinsLabDnaDb(registry)\n",
    "        db.build(dna_limit=None, primer_limit=None)\n",
    "        df = db.df[db.df[\"is_available\"] == True]\n",
    "        df.drop(\"benchling_sequence\", axis=1, inplace=True)\n",
    "        with open(filepath, \"wb\") as f:\n",
    "            pickle.dump(df, f)\n",
    "\n",
    "    # clean\n",
    "    df[\"trashed\"] = [s.name.lower().startswith(\"trashed\") for s in df[\"sample\"]]\n",
    "    df = df[df[\"is_available\"] == True]\n",
    "    df = df[~df[\"trashed\"]]\n",
    "    return df\n",
    "\n",
    "df = inventory_df(sessions['default']['registry'])"
   ]
  },
  {
   "cell_type": "markdown",
   "metadata": {},
   "source": [
    "We do some additional filtering on the inventory database."
   ]
  },
  {
   "cell_type": "code",
   "execution_count": 14,
   "metadata": {},
   "outputs": [],
   "source": [
    "import json\n",
    "import pandas as pd\n",
    "\n",
    "filtered_rows = []\n",
    "\n",
    "for _, row in df.iterrows():\n",
    "    if not (row['sample_id'] < 20000 and \\\n",
    "            row['sample_type'] in ['Fragment', 'Plasmid']) and row['sample_id'] > 1000:\n",
    "        filtered_rows.append(row)\n",
    "\n",
    "df.to_csv(\"InventoryDataFrame.csv\")\n",
    "selected_df = pd.DataFrame(filtered_rows)\n",
    "selected_df.to_csv(\"SelectedInventory.csv\")\n",
    "\n",
    "with open('SelectionInventoryFilter.txt', 'w') as f:\n",
    "    f.write(\"\"\"\n",
    "# filter\n",
    "for _, row in df.iterrows():\n",
    "    if not (row['sample_id'] < 20000 and \\\n",
    "            row['sample_type'] in ['Fragment', 'Plasmid']) and row['sample_id'] > 1000:\n",
    "        filtered_rows.append(row) \n",
    "\"\"\")"
   ]
  },
  {
   "cell_type": "code",
   "execution_count": null,
   "metadata": {
    "jupyter": {
     "source_hidden": true
    }
   },
   "outputs": [],
   "source": [
    "# inv_df = dasi_df\n",
    "# fragments = _get_records(inv_df, 'Fragment')\n",
    "# plasmids = _get_records(inv_df, \"Plasmid\")\n",
    "# primers = _get_records(inv_df, \"Primer\")\n",
    "\n",
    "# biopython.make_linear(fragments)\n",
    "# biopython.make_linear(primers)\n",
    "# biopython.make_cyclic(plasmids)\n",
    "# biopython.make_cyclic(records)\n",
    "\n",
    "# from Bio.Alphabet import generic_dna\n",
    "\n",
    "# def add_alphabet(recs):\n",
    "#     for r in recs:\n",
    "#         r.seq.alphabet = generic_dna\n",
    "        \n",
    "# add_alphabet(fragments + plasmids + primers + records)\n",
    "\n",
    "# # save to github\n",
    "\n",
    "# from os.path import join, abspath, dirname\n",
    "\n",
    "# path = '/home/justin/Github/DASi-DNA-Design/tests/test_examples/fixtures/'\n",
    "\n",
    "# from Bio import SeqIO\n",
    "\n",
    "\n",
    "# SeqIO.write(fragments, join(path, 'fragments_0.gb'), format='genbank')\n",
    "# SeqIO.write(plasmids, join(path, 'plasmids_0.gb'), format='genbank')\n",
    "# SeqIO.write(primers, join(path, 'primers_0.gb'), format='genbank')\n",
    "# SeqIO.write(records, join(path, 'goals_0.gb'), format='genbank')"
   ]
  },
  {
   "cell_type": "markdown",
   "metadata": {},
   "source": [
    "## DASi Submission\n",
    "\n",
    "### Prepare Inventory Dataframe"
   ]
  },
  {
   "cell_type": "code",
   "execution_count": 15,
   "metadata": {},
   "outputs": [],
   "source": [
    "def _filter_available(df):\n",
    "    return df[df['is_available'] == True]\n",
    "\n",
    "def _get_records(df, st):\n",
    "    return list(df[df[\"sample_type\"] == st][\"record\"])\n",
    "\n",
    "dasi_df = _filter_available(selected_df)"
   ]
  },
  {
   "cell_type": "markdown",
   "metadata": {},
   "source": [
    "### Run test design\n",
    "\n",
    "This may take a few minutes."
   ]
  },
  {
   "cell_type": "code",
   "execution_count": 16,
   "metadata": {},
   "outputs": [],
   "source": [
    "from Bio.SeqRecord import SeqRecord\n",
    "from typing import List\n",
    "from dasi import Design\n",
    "\n",
    "\n",
    "def new_design(inv_df: pd.DataFrame, records: List[SeqRecord], \n",
    "               favor_shared_sequences: int = 2.0, \n",
    "               log_level='ERROR'):\n",
    "    fragments = _get_records(inv_df, 'Fragment')\n",
    "    plasmids = _get_records(inv_df, \"Plasmid\")\n",
    "    primers = _get_records(inv_df, \"Primer\")\n",
    "\n",
    "    biopython.make_cyclic(records)\n",
    "    biopython.make_linear(fragments)\n",
    "    biopython.make_linear(primers)\n",
    "    biopython.make_linear(plasmids)\n",
    "    \n",
    "    design = LibraryDesign()\n",
    "    design.FAVOR_SHARED_SEQUENCES = favor_shared_sequences\n",
    "    design.add_materials(\n",
    "        primers=primers, fragments=fragments, templates=plasmids, queries=records\n",
    "    )\n",
    "    design.logger.set_level(log_level)\n",
    "    return design\n",
    "\n",
    "def run_design(inv_df: pd.DataFrame, records: List[SeqRecord], \n",
    "               favor_shared_sequences: int = 2.0, \n",
    "               log_level='ERROR', \n",
    "               n_jobs: int = 6):\n",
    "    \n",
    "    design = new_design(inv_df, records, favor_shared_sequences, log_level)\n",
    "    design.pooled_run(16, 1)\n",
    "    return design"
   ]
  },
  {
   "cell_type": "code",
   "execution_count": 18,
   "metadata": {},
   "outputs": [
    {
     "name": "stderr",
     "output_type": "stream",
     "text": [
      "  0%|          | 0/5 [00:00<?, ?it/s]"
     ]
    },
    {
     "name": "stdout",
     "output_type": "stream",
     "text": [
      "\u001b[37mINFO - ProgressLoggable(LibraryDesign(id=139823003969760)) - 2020-07-30 11:33:21,099 - Running blast\u001b[0m\n"
     ]
    },
    {
     "name": "stderr",
     "output_type": "stream",
     "text": [
      "  0%|          | 0/5 [00:02<?, ?it/s]"
     ]
    },
    {
     "name": "stdout",
     "output_type": "stream",
     "text": [
      "\u001b[37mINFO - LibraryDesign(id=139823003969760) - 2020-07-30 11:33:23,513 - Number of template matches: 9622\u001b[0m\n"
     ]
    },
    {
     "name": "stderr",
     "output_type": "stream",
     "text": [
      "  0%|          | 0/5 [00:03<?, ?it/s]"
     ]
    },
    {
     "name": "stdout",
     "output_type": "stream",
     "text": [
      "\u001b[37mINFO - LibraryDesign(id=139823003969760) - 2020-07-30 11:33:24,787 - Number of perfect fragment matches: 64\u001b[0m\n"
     ]
    },
    {
     "name": "stderr",
     "output_type": "stream",
     "text": [
      "  0%|          | 0/5 [00:09<?, ?it/s]"
     ]
    },
    {
     "name": "stdout",
     "output_type": "stream",
     "text": [
      "\u001b[37mINFO - LibraryDesign(id=139823003969760) - 2020-07-30 11:33:30,488 - Number of perfect primers: 2842\u001b[0m\n"
     ]
    },
    {
     "name": "stderr",
     "output_type": "stream",
     "text": [
      " 20%|██        | 1/5 [00:09<00:38,  9.60s/it]"
     ]
    },
    {
     "name": "stdout",
     "output_type": "stream",
     "text": [
      "\u001b[37mINFO - ProgressLoggable(LibraryDesign(id=139823003969760)) - 2020-07-30 11:33:30,698 - Running shared fragment blast\u001b[0m\n",
      "\u001b[37mINFO - LibraryDesign(id=139823003969760) - 2020-07-30 11:33:30,702 - === Expanding shared library fragments ===\u001b[0m\n"
     ]
    },
    {
     "name": "stderr",
     "output_type": "stream",
     "text": [
      " 20%|██        | 1/5 [00:12<00:38,  9.60s/it]"
     ]
    },
    {
     "name": "stdout",
     "output_type": "stream",
     "text": [
      "\u001b[37mINFO - LibraryDesign(id=139823003969760) - 2020-07-30 11:33:33,355 - Found 6272 shared alignments between the queries\u001b[0m\n"
     ]
    },
    {
     "name": "stderr",
     "output_type": "stream",
     "text": [
      " 20%|██        | 1/5 [00:12<00:38,  9.60s/it]"
     ]
    },
    {
     "name": "stdout",
     "output_type": "stream",
     "text": [
      "\u001b[37mINFO - LibraryDesign(id=139823003969760) - 2020-07-30 11:33:33,892 - baabe288-8fca-4274-af42-b85684d9ac09: Expanded PCR_PRODUCT using SHARED_SYNTHESIZED_FRAGMENT and found 0 new alignments.\u001b[0m\n",
      "\u001b[37mINFO - LibraryDesign(id=139823003969760) - 2020-07-30 11:33:33,900 - ced4fcbc-c71a-4a25-bca7-9c8719400c05: Expanded PCR_PRODUCT using SHARED_SYNTHESIZED_FRAGMENT and found 0 new alignments.\u001b[0m\n",
      "\u001b[37mINFO - LibraryDesign(id=139823003969760) - 2020-07-30 11:33:33,910 - f6a9746b-1730-42a3-9dba-f8848a656ae9: Expanded PCR_PRODUCT using SHARED_SYNTHESIZED_FRAGMENT and found 0 new alignments.\u001b[0m\n",
      "\u001b[37mINFO - LibraryDesign(id=139823003969760) - 2020-07-30 11:33:33,918 - 685fb20f-a1a9-4e0c-a974-3ce02bcc8f66: Expanded PCR_PRODUCT using SHARED_SYNTHESIZED_FRAGMENT and found 0 new alignments.\u001b[0m\n",
      "\u001b[37mINFO - LibraryDesign(id=139823003969760) - 2020-07-30 11:33:33,924 - e98db1ea-d74e-4c7d-875a-c317b45c9734: Expanded PCR_PRODUCT using SHARED_SYNTHESIZED_FRAGMENT and found 0 new alignments.\u001b[0m\n",
      "\u001b[37mINFO - LibraryDesign(id=139823003969760) - 2020-07-30 11:33:33,929 - b9f8c612-5aff-47ec-846b-f8d39b12c9a1: Expanded PCR_PRODUCT using SHARED_SYNTHESIZED_FRAGMENT and found 0 new alignments.\u001b[0m\n",
      "\u001b[37mINFO - LibraryDesign(id=139823003969760) - 2020-07-30 11:33:33,935 - eee0ed16-4c1d-44fe-b56d-9a7008a71396: Expanded PCR_PRODUCT using SHARED_SYNTHESIZED_FRAGMENT and found 0 new alignments.\u001b[0m\n",
      "\u001b[37mINFO - LibraryDesign(id=139823003969760) - 2020-07-30 11:33:33,943 - a8be990d-b268-4e26-9a95-a5b2b6555799: Expanded PCR_PRODUCT using SHARED_SYNTHESIZED_FRAGMENT and found 0 new alignments.\u001b[0m\n",
      "\u001b[37mINFO - LibraryDesign(id=139823003969760) - 2020-07-30 11:33:33,950 - 016ad861-af14-4b0c-b603-a81b405578b9: Expanded PCR_PRODUCT using SHARED_SYNTHESIZED_FRAGMENT and found 0 new alignments.\u001b[0m\n",
      "\u001b[37mINFO - LibraryDesign(id=139823003969760) - 2020-07-30 11:33:33,957 - cfd3bfa9-03f9-484a-a57f-57830c61e15f: Expanded PCR_PRODUCT using SHARED_SYNTHESIZED_FRAGMENT and found 0 new alignments.\u001b[0m\n",
      "\u001b[37mINFO - LibraryDesign(id=139823003969760) - 2020-07-30 11:33:33,962 - 406db4ff-69b5-4ced-a075-c1ec89a8e5d5: Expanded PCR_PRODUCT using SHARED_SYNTHESIZED_FRAGMENT and found 0 new alignments.\u001b[0m\n",
      "\u001b[37mINFO - LibraryDesign(id=139823003969760) - 2020-07-30 11:33:33,970 - 21d1be43-f3c2-4cae-9d90-ee7e020af752: Expanded PCR_PRODUCT using SHARED_SYNTHESIZED_FRAGMENT and found 0 new alignments.\u001b[0m\n",
      "\u001b[37mINFO - LibraryDesign(id=139823003969760) - 2020-07-30 11:33:33,977 - 865261e9-5893-4095-845d-aa129f94a928: Expanded PCR_PRODUCT using SHARED_SYNTHESIZED_FRAGMENT and found 0 new alignments.\u001b[0m\n",
      "\u001b[37mINFO - LibraryDesign(id=139823003969760) - 2020-07-30 11:33:33,984 - 8265cc41-02fc-4c19-b677-44087e8c2769: Expanded PCR_PRODUCT using SHARED_SYNTHESIZED_FRAGMENT and found 0 new alignments.\u001b[0m\n",
      "\u001b[37mINFO - LibraryDesign(id=139823003969760) - 2020-07-30 11:33:33,993 - 40b86672-9a67-4478-9fe9-4906253e708c: Expanded PCR_PRODUCT using SHARED_SYNTHESIZED_FRAGMENT and found 0 new alignments.\u001b[0m\n",
      "\u001b[37mINFO - LibraryDesign(id=139823003969760) - 2020-07-30 11:33:34,003 - d8b31f69-62f5-4b44-b98a-c628c5a95825: Expanded PCR_PRODUCT using SHARED_SYNTHESIZED_FRAGMENT and found 0 new alignments.\u001b[0m\n",
      "\u001b[37mINFO - LibraryDesign(id=139823003969760) - 2020-07-30 11:33:34,008 - 603ec206-6296-4b99-bdd7-c3d1ee869438: Expanded PCR_PRODUCT using SHARED_SYNTHESIZED_FRAGMENT and found 0 new alignments.\u001b[0m\n",
      "\u001b[37mINFO - LibraryDesign(id=139823003969760) - 2020-07-30 11:33:34,016 - af70a746-1479-43b9-a342-7d191bdb45d1: Expanded PCR_PRODUCT using SHARED_SYNTHESIZED_FRAGMENT and found 0 new alignments.\u001b[0m\n",
      "\u001b[37mINFO - LibraryDesign(id=139823003969760) - 2020-07-30 11:33:34,022 - ce355ef4-d191-4bfb-b248-3ea687c79d34: Expanded PCR_PRODUCT using SHARED_SYNTHESIZED_FRAGMENT and found 0 new alignments.\u001b[0m\n",
      "\u001b[37mINFO - LibraryDesign(id=139823003969760) - 2020-07-30 11:33:34,028 - 7a01829c-5f72-4db1-8c54-e28116e4053c: Expanded PCR_PRODUCT using SHARED_SYNTHESIZED_FRAGMENT and found 0 new alignments.\u001b[0m\n",
      "\u001b[37mINFO - LibraryDesign(id=139823003969760) - 2020-07-30 11:33:34,035 - 10d49969-37c3-4723-9dbd-94bcae770be8: Expanded PCR_PRODUCT using SHARED_SYNTHESIZED_FRAGMENT and found 0 new alignments.\u001b[0m\n",
      "\u001b[37mINFO - LibraryDesign(id=139823003969760) - 2020-07-30 11:33:34,042 - 7b2d3ef9-4f15-4dd4-af8a-10e35c66a3f2: Expanded PCR_PRODUCT using SHARED_SYNTHESIZED_FRAGMENT and found 0 new alignments.\u001b[0m\n",
      "\u001b[37mINFO - LibraryDesign(id=139823003969760) - 2020-07-30 11:33:34,048 - 8a8d961f-3f85-4c82-a2ac-917c649f7309: Expanded PCR_PRODUCT using SHARED_SYNTHESIZED_FRAGMENT and found 0 new alignments.\u001b[0m\n",
      "\u001b[37mINFO - LibraryDesign(id=139823003969760) - 2020-07-30 11:33:34,054 - 3fa31e37-d911-4ff9-bc78-c5b070063391: Expanded PCR_PRODUCT using SHARED_SYNTHESIZED_FRAGMENT and found 0 new alignments.\u001b[0m\n",
      "\u001b[37mINFO - LibraryDesign(id=139823003969760) - 2020-07-30 11:33:34,058 - 7ceacbf9-bb61-454d-9006-67e70ca6758d: Expanded PCR_PRODUCT using SHARED_SYNTHESIZED_FRAGMENT and found 0 new alignments.\u001b[0m\n",
      "\u001b[37mINFO - LibraryDesign(id=139823003969760) - 2020-07-30 11:33:34,066 - fe3bb034-4745-4b79-be1e-d21cff3fd7d2: Expanded PCR_PRODUCT using SHARED_SYNTHESIZED_FRAGMENT and found 0 new alignments.\u001b[0m\n",
      "\u001b[37mINFO - LibraryDesign(id=139823003969760) - 2020-07-30 11:33:34,075 - ee7cd806-5e02-4d54-8c72-fd94bca92c6e: Expanded PCR_PRODUCT using SHARED_SYNTHESIZED_FRAGMENT and found 0 new alignments.\u001b[0m\n",
      "\u001b[37mINFO - LibraryDesign(id=139823003969760) - 2020-07-30 11:33:34,082 - b3bdfd52-a4f1-44fd-97df-7514bcc279f3: Expanded PCR_PRODUCT using SHARED_SYNTHESIZED_FRAGMENT and found 0 new alignments.\u001b[0m\n",
      "\u001b[37mINFO - LibraryDesign(id=139823003969760) - 2020-07-30 11:33:34,089 - 5529989d-50f5-4581-9f53-df47ed142931: Expanded PCR_PRODUCT using SHARED_SYNTHESIZED_FRAGMENT and found 0 new alignments.\u001b[0m\n"
     ]
    },
    {
     "name": "stderr",
     "output_type": "stream",
     "text": [
      " 80%|████████  | 4/5 [00:13<00:07,  7.06s/it]"
     ]
    },
    {
     "name": "stdout",
     "output_type": "stream",
     "text": [
      "\u001b[37mINFO - LibraryDesign(id=139823003969760) - 2020-07-30 11:33:34,095 - 29786f88-8e96-46ff-b35b-3d890f2a5613: Expanded PCR_PRODUCT using SHARED_SYNTHESIZED_FRAGMENT and found 0 new alignments.\u001b[0m\n",
      "\u001b[37mINFO - LibraryDesign(id=139823003969760) - 2020-07-30 11:33:34,102 - c04f5ad4-8e78-4bf7-a534-a2e140977a0a: Expanded PCR_PRODUCT using SHARED_SYNTHESIZED_FRAGMENT and found 0 new alignments.\u001b[0m\n",
      "\u001b[37mINFO - LibraryDesign(id=139823003969760) - 2020-07-30 11:33:34,108 - 5f2e56d5-105c-44ae-b4c9-7106faa9bc40: Expanded PCR_PRODUCT using SHARED_SYNTHESIZED_FRAGMENT and found 0 new alignments.\u001b[0m\n",
      "\u001b[37mINFO - ProgressLoggable(LibraryDesign(id=139823003969760)) - 2020-07-30 11:33:34,109 - Finding shared clusters\u001b[0m\n"
     ]
    },
    {
     "name": "stderr",
     "output_type": "stream",
     "text": [
      " 80%|████████  | 4/5 [01:44<00:26, 26.07s/it]"
     ]
    },
    {
     "name": "stdout",
     "output_type": "stream",
     "text": [
      "{'eee0ed16-4c1d-44fe-b56d-9a7008a71396': [(5078, 5152)], 'b9f8c612-5aff-47ec-846b-f8d39b12c9a1': [(4897, 4971)], '10d49969-37c3-4723-9dbd-94bcae770be8': [(5078, 5152)], '603ec206-6296-4b99-bdd7-c3d1ee869438': [(4897, 4971)], '7ceacbf9-bb61-454d-9006-67e70ca6758d': [(4897, 4971), (4969, 5043)], 'b3bdfd52-a4f1-44fd-97df-7514bcc279f3': [(5078, 5152)], 'ce355ef4-d191-4bfb-b248-3ea687c79d34': [(5078, 5152), (5150, 5224)], 'baabe288-8fca-4274-af42-b85684d9ac09': [(4897, 4971)]}\n",
      "{'10d49969-37c3-4723-9dbd-94bcae770be8': [(4722, 4753), (4686, 4717)], 'b3bdfd52-a4f1-44fd-97df-7514bcc279f3': [(4686, 4717), (4722, 4753)], 'ce355ef4-d191-4bfb-b248-3ea687c79d34': [(4686, 4717), (4722, 4753)], 'eee0ed16-4c1d-44fe-b56d-9a7008a71396': [(4686, 4717), (4722, 4753)]}\n",
      "{'10d49969-37c3-4723-9dbd-94bcae770be8': [(4651, 4686), (4686, 4721)], 'eee0ed16-4c1d-44fe-b56d-9a7008a71396': [(4651, 4686), (4686, 4721)], 'ce355ef4-d191-4bfb-b248-3ea687c79d34': [(4651, 4686), (4686, 4721)], 'b3bdfd52-a4f1-44fd-97df-7514bcc279f3': [(4686, 4721), (4651, 4686)]}\n",
      "{'b3bdfd52-a4f1-44fd-97df-7514bcc279f3': [(4531, 4566), (4566, 4601)], '10d49969-37c3-4723-9dbd-94bcae770be8': [(4531, 4566), (4566, 4601)], 'eee0ed16-4c1d-44fe-b56d-9a7008a71396': [(4566, 4601), (4531, 4566)], 'ce355ef4-d191-4bfb-b248-3ea687c79d34': [(4566, 4601), (4531, 4566)]}\n",
      "{'10d49969-37c3-4723-9dbd-94bcae770be8': [(4494, 4530), (4530, 4566)], 'ce355ef4-d191-4bfb-b248-3ea687c79d34': [(4494, 4530), (4530, 4566)], 'b3bdfd52-a4f1-44fd-97df-7514bcc279f3': [(4494, 4530), (4530, 4566)], 'eee0ed16-4c1d-44fe-b56d-9a7008a71396': [(4530, 4566), (4494, 4530)]}\n",
      "{'eee0ed16-4c1d-44fe-b56d-9a7008a71396': [(4709, 4753), (4566, 4610)], '10d49969-37c3-4723-9dbd-94bcae770be8': [(4709, 4753), (4566, 4610)], 'ce355ef4-d191-4bfb-b248-3ea687c79d34': [(4566, 4610), (4709, 4753)], 'b3bdfd52-a4f1-44fd-97df-7514bcc279f3': [(4709, 4753), (4566, 4610)]}\n",
      "{'10d49969-37c3-4723-9dbd-94bcae770be8': [(4494, 4539), (4708, 4753)], 'b3bdfd52-a4f1-44fd-97df-7514bcc279f3': [(4494, 4539), (4708, 4753)], 'ce355ef4-d191-4bfb-b248-3ea687c79d34': [(4494, 4539), (4708, 4753)], 'eee0ed16-4c1d-44fe-b56d-9a7008a71396': [(4708, 4753), (4494, 4539)]}\n",
      "{'eee0ed16-4c1d-44fe-b56d-9a7008a71396': [(4638, 4686), (4566, 4614)], 'b3bdfd52-a4f1-44fd-97df-7514bcc279f3': [(4638, 4686), (4566, 4614)], '10d49969-37c3-4723-9dbd-94bcae770be8': [(4638, 4686), (4566, 4614)], 'ce355ef4-d191-4bfb-b248-3ea687c79d34': [(4566, 4614), (4638, 4686)]}\n",
      "{'eee0ed16-4c1d-44fe-b56d-9a7008a71396': [(4494, 4543), (4637, 4686)], 'ce355ef4-d191-4bfb-b248-3ea687c79d34': [(4637, 4686), (4494, 4543)], '10d49969-37c3-4723-9dbd-94bcae770be8': [(4637, 4686), (4494, 4543)], 'b3bdfd52-a4f1-44fd-97df-7514bcc279f3': [(4637, 4686), (4494, 4543)]}\n",
      "{'10d49969-37c3-4723-9dbd-94bcae770be8': [(4508, 4566), (4686, 4744)], 'ce355ef4-d191-4bfb-b248-3ea687c79d34': [(4508, 4566), (4686, 4744)], 'eee0ed16-4c1d-44fe-b56d-9a7008a71396': [(4686, 4744), (4508, 4566)], 'b3bdfd52-a4f1-44fd-97df-7514bcc279f3': [(4508, 4566), (4686, 4744)]}\n",
      "{'eee0ed16-4c1d-44fe-b56d-9a7008a71396': [(4579, 4646), (4615, 4682), (4686, 4753)], '10d49969-37c3-4723-9dbd-94bcae770be8': [(4686, 4753), (4579, 4646), (4615, 4682)], 'b3bdfd52-a4f1-44fd-97df-7514bcc279f3': [(4579, 4646), (4686, 4753), (4615, 4682)], 'ce355ef4-d191-4bfb-b248-3ea687c79d34': [(4686, 4753), (4579, 4646), (4615, 4682)]}\n",
      "{'10d49969-37c3-4723-9dbd-94bcae770be8': [(4566, 4637), (4495, 4566)], 'b3bdfd52-a4f1-44fd-97df-7514bcc279f3': [(4566, 4637), (4495, 4566)], 'ce355ef4-d191-4bfb-b248-3ea687c79d34': [(4566, 4637), (4495, 4566)], 'eee0ed16-4c1d-44fe-b56d-9a7008a71396': [(4566, 4637), (4495, 4566)]}\n",
      "{'b3bdfd52-a4f1-44fd-97df-7514bcc279f3': [(4601, 4673), (4494, 4566)], 'eee0ed16-4c1d-44fe-b56d-9a7008a71396': [(4494, 4566), (4601, 4673)], '10d49969-37c3-4723-9dbd-94bcae770be8': [(4601, 4673), (4494, 4566)], 'ce355ef4-d191-4bfb-b248-3ea687c79d34': [(4494, 4566), (4601, 4673)]}\n",
      "{'10d49969-37c3-4723-9dbd-94bcae770be8': [(4566, 4650), (4602, 4686)], 'eee0ed16-4c1d-44fe-b56d-9a7008a71396': [(4602, 4686), (4566, 4650)], 'b3bdfd52-a4f1-44fd-97df-7514bcc279f3': [(4566, 4650), (4602, 4686)], 'ce355ef4-d191-4bfb-b248-3ea687c79d34': [(4566, 4650), (4602, 4686)]}\n",
      "{'a8be990d-b268-4e26-9a95-a5b2b6555799': [(6100, 6285), (4682, 4867)], '8a8d961f-3f85-4c82-a2ac-917c649f7309': [(6120, 6305), (4682, 4867)], 'ee7cd806-5e02-4d54-8c72-fd94bca92c6e': [(6393, 6578), (4682, 4867)], '865261e9-5893-4095-845d-aa129f94a928': [(4682, 4867), (7675, 7860)], 'ced4fcbc-c71a-4a25-bca7-9c8719400c05': [(7968, 8153), (4682, 4867)], 'af70a746-1479-43b9-a342-7d191bdb45d1': [(7948, 8133), (4682, 4867)], 'f6a9746b-1730-42a3-9dba-f8848a656ae9': [(6373, 6558), (4682, 4867)], '5529989d-50f5-4581-9f53-df47ed142931': [(4682, 4867), (7968, 8153)], 'd8b31f69-62f5-4b44-b98a-c628c5a95825': [(7695, 7880), (4682, 4867)], '016ad861-af14-4b0c-b603-a81b405578b9': [(4682, 4867), (7695, 7880)], '21d1be43-f3c2-4cae-9d90-ee7e020af752': [(6393, 6578), (4682, 4867)], '7b2d3ef9-4f15-4dd4-af8a-10e35c66a3f2': [(4682, 4867), (6120, 6305)]}\n",
      "{'b3bdfd52-a4f1-44fd-97df-7514bcc279f3': [(5078, 5150), (5150, 5222)], '10d49969-37c3-4723-9dbd-94bcae770be8': [(5150, 5222), (5078, 5150)], 'b9f8c612-5aff-47ec-846b-f8d39b12c9a1': [(4969, 5041), (4897, 4969)], 'baabe288-8fca-4274-af42-b85684d9ac09': [(4969, 5041), (4897, 4969)], '7ceacbf9-bb61-454d-9006-67e70ca6758d': [(4897, 4969)], 'ce355ef4-d191-4bfb-b248-3ea687c79d34': [(5078, 5150)], '603ec206-6296-4b99-bdd7-c3d1ee869438': [(4969, 5041), (4897, 4969)], 'eee0ed16-4c1d-44fe-b56d-9a7008a71396': [(5078, 5150), (5150, 5222)]}\n",
      "{'b9f8c612-5aff-47ec-846b-f8d39b12c9a1': [(5908, 6148), (4, 244)], '3fa31e37-d911-4ff9-bc78-c5b070063391': [(22, 262), (6713, 6953)], '10d49969-37c3-4723-9dbd-94bcae770be8': [(4, 244), (6047, 6287)], '603ec206-6296-4b99-bdd7-c3d1ee869438': [(6706, 6946), (4, 244)], '5529989d-50f5-4581-9f53-df47ed142931': [(22, 262)], 'b3bdfd52-a4f1-44fd-97df-7514bcc279f3': [(6887, 7127), (4, 244)], 'fe3bb034-4745-4b79-be1e-d21cff3fd7d2': [(6829, 7069), (22, 262)], 'a8be990d-b268-4e26-9a95-a5b2b6555799': [(22, 262)], '40b86672-9a67-4478-9fe9-4906253e708c': [(22, 262), (6929, 7169)], '7ceacbf9-bb61-454d-9006-67e70ca6758d': [(4, 244), (6358, 6598)], 'baabe288-8fca-4274-af42-b85684d9ac09': [(5866, 6106), (4, 244)], 'eee0ed16-4c1d-44fe-b56d-9a7008a71396': [(6089, 6329), (4, 244)], 'cfd3bfa9-03f9-484a-a57f-57830c61e15f': [(6823, 7063), (22, 262)], 'f6a9746b-1730-42a3-9dba-f8848a656ae9': [(22, 262)], '8265cc41-02fc-4c19-b677-44087e8c2769': [(22, 262), (6953, 7193)], 'ced4fcbc-c71a-4a25-bca7-9c8719400c05': [(22, 262)], '7a01829c-5f72-4db1-8c54-e28116e4053c': [(6920, 7160), (22, 262)], '7b2d3ef9-4f15-4dd4-af8a-10e35c66a3f2': [(22, 262)], '016ad861-af14-4b0c-b603-a81b405578b9': [(22, 262)], 'd8b31f69-62f5-4b44-b98a-c628c5a95825': [(22, 262)], 'af70a746-1479-43b9-a342-7d191bdb45d1': [(22, 262)], 'ce355ef4-d191-4bfb-b248-3ea687c79d34': [(4, 244), (6539, 6779)], '8a8d961f-3f85-4c82-a2ac-917c649f7309': [(22, 262)], 'e98db1ea-d74e-4c7d-875a-c317b45c9734': [(6881, 7121), (22, 262)], '685fb20f-a1a9-4e0c-a974-3ce02bcc8f66': [(22, 262), (6845, 7085)], '29786f88-8e96-46ff-b35b-3d890f2a5613': [(6797, 7037), (22, 262)], '406db4ff-69b5-4ced-a075-c1ec89a8e5d5': [(22, 262), (6726, 6966)], 'c04f5ad4-8e78-4bf7-a534-a2e140977a0a': [(22, 262), (6737, 6977)], '21d1be43-f3c2-4cae-9d90-ee7e020af752': [(22, 262)], '865261e9-5893-4095-845d-aa129f94a928': [(22, 262)], 'ee7cd806-5e02-4d54-8c72-fd94bca92c6e': [(22, 262)], '5f2e56d5-105c-44ae-b4c9-7106faa9bc40': [(6729, 6969), (22, 262)]}\n",
      "[['baabe288-8fca-4274-af42-b85684d9ac09'], ['ced4fcbc-c71a-4a25-bca7-9c8719400c05'], ['f6a9746b-1730-42a3-9dba-f8848a656ae9'], ['685fb20f-a1a9-4e0c-a974-3ce02bcc8f66'], ['e98db1ea-d74e-4c7d-875a-c317b45c9734'], ['b9f8c612-5aff-47ec-846b-f8d39b12c9a1'], ['eee0ed16-4c1d-44fe-b56d-9a7008a71396'], ['a8be990d-b268-4e26-9a95-a5b2b6555799'], ['016ad861-af14-4b0c-b603-a81b405578b9'], ['cfd3bfa9-03f9-484a-a57f-57830c61e15f'], ['406db4ff-69b5-4ced-a075-c1ec89a8e5d5'], ['21d1be43-f3c2-4cae-9d90-ee7e020af752'], ['865261e9-5893-4095-845d-aa129f94a928'], ['8265cc41-02fc-4c19-b677-44087e8c2769'], ['40b86672-9a67-4478-9fe9-4906253e708c'], ['d8b31f69-62f5-4b44-b98a-c628c5a95825'], ['603ec206-6296-4b99-bdd7-c3d1ee869438'], ['af70a746-1479-43b9-a342-7d191bdb45d1'], ['ce355ef4-d191-4bfb-b248-3ea687c79d34'], ['7a01829c-5f72-4db1-8c54-e28116e4053c'], ['10d49969-37c3-4723-9dbd-94bcae770be8'], ['7b2d3ef9-4f15-4dd4-af8a-10e35c66a3f2'], ['8a8d961f-3f85-4c82-a2ac-917c649f7309'], ['3fa31e37-d911-4ff9-bc78-c5b070063391'], ['7ceacbf9-bb61-454d-9006-67e70ca6758d'], ['fe3bb034-4745-4b79-be1e-d21cff3fd7d2'], ['ee7cd806-5e02-4d54-8c72-fd94bca92c6e'], ['b3bdfd52-a4f1-44fd-97df-7514bcc279f3'], ['5529989d-50f5-4581-9f53-df47ed142931'], ['29786f88-8e96-46ff-b35b-3d890f2a5613'], ['c04f5ad4-8e78-4bf7-a534-a2e140977a0a'], ['5f2e56d5-105c-44ae-b4c9-7106faa9bc40']]\n"
     ]
    },
    {
     "name": "stderr",
     "output_type": "stream",
     "text": [
      "\n",
      "/home/justin/anaconda3/envs/aqbt/lib/python3.8/site-packages/dasi/utils/sequence/sequence_partitioner.py:24: FutureWarning: elementwise comparison failed; returning scalar instead, but in the future will perform elementwise comparison\n",
      "  elif j == \"STOP\":\n",
      "/home/justin/anaconda3/envs/aqbt/lib/python3.8/site-packages/numpy/core/fromnumeric.py:3372: RuntimeWarning: Mean of empty slice.\n",
      "  return _methods._mean(a, axis=axis, dtype=dtype,\n",
      "/home/justin/anaconda3/envs/aqbt/lib/python3.8/site-packages/numpy/core/_methods.py:162: RuntimeWarning: invalid value encountered in true_divide\n",
      "  ret = um.true_divide(\n",
      "/home/justin/anaconda3/envs/aqbt/lib/python3.8/site-packages/dasi/utils/sequence/sequence_partitioner.py:22: FutureWarning: elementwise comparison failed; returning scalar instead, but in the future will perform elementwise comparison\n",
      "  if i == \"STOP\":\n",
      "/home/justin/anaconda3/envs/aqbt/lib/python3.8/site-packages/dasi/utils/sequence/sequence_partitioner.py:24: FutureWarning: elementwise comparison failed; returning scalar instead, but in the future will perform elementwise comparison\n",
      "  elif j == \"STOP\":\n",
      "/home/justin/anaconda3/envs/aqbt/lib/python3.8/site-packages/numpy/core/fromnumeric.py:3372: RuntimeWarning: Mean of empty slice.\n",
      "  return _methods._mean(a, axis=axis, dtype=dtype,\n",
      "/home/justin/anaconda3/envs/aqbt/lib/python3.8/site-packages/numpy/core/_methods.py:162: RuntimeWarning: invalid value encountered in true_divide\n",
      "  ret = um.true_divide(\n",
      "/home/justin/anaconda3/envs/aqbt/lib/python3.8/site-packages/dasi/utils/sequence/sequence_partitioner.py:24: FutureWarning: elementwise comparison failed; returning scalar instead, but in the future will perform elementwise comparison\n",
      "  elif j == \"STOP\":\n",
      "/home/justin/anaconda3/envs/aqbt/lib/python3.8/site-packages/numpy/core/fromnumeric.py:3372: RuntimeWarning: Mean of empty slice.\n",
      "  return _methods._mean(a, axis=axis, dtype=dtype,\n",
      "/home/justin/anaconda3/envs/aqbt/lib/python3.8/site-packages/numpy/core/_methods.py:162: RuntimeWarning: invalid value encountered in true_divide\n",
      "  ret = um.true_divide(\n",
      "/home/justin/anaconda3/envs/aqbt/lib/python3.8/site-packages/dasi/utils/sequence/sequence_partitioner.py:22: FutureWarning: elementwise comparison failed; returning scalar instead, but in the future will perform elementwise comparison\n",
      "  if i == \"STOP\":\n",
      "/home/justin/anaconda3/envs/aqbt/lib/python3.8/site-packages/dasi/utils/sequence/sequence_partitioner.py:24: FutureWarning: elementwise comparison failed; returning scalar instead, but in the future will perform elementwise comparison\n",
      "  elif j == \"STOP\":\n",
      "/home/justin/anaconda3/envs/aqbt/lib/python3.8/site-packages/numpy/core/fromnumeric.py:3372: RuntimeWarning: Mean of empty slice.\n",
      "  return _methods._mean(a, axis=axis, dtype=dtype,\n",
      "/home/justin/anaconda3/envs/aqbt/lib/python3.8/site-packages/numpy/core/_methods.py:162: RuntimeWarning: invalid value encountered in true_divide\n",
      "  ret = um.true_divide(\n",
      "/home/justin/anaconda3/envs/aqbt/lib/python3.8/site-packages/dasi/utils/sequence/sequence_partitioner.py:22: FutureWarning: elementwise comparison failed; returning scalar instead, but in the future will perform elementwise comparison\n",
      "  if i == \"STOP\":\n",
      "/home/justin/anaconda3/envs/aqbt/lib/python3.8/site-packages/dasi/utils/sequence/sequence_partitioner.py:22: FutureWarning: elementwise comparison failed; returning scalar instead, but in the future will perform elementwise comparison\n",
      "  if i == \"STOP\":\n",
      "/home/justin/anaconda3/envs/aqbt/lib/python3.8/site-packages/dasi/utils/sequence/sequence_partitioner.py:24: FutureWarning: elementwise comparison failed; returning scalar instead, but in the future will perform elementwise comparison\n",
      "  elif j == \"STOP\":\n",
      "/home/justin/anaconda3/envs/aqbt/lib/python3.8/site-packages/numpy/core/fromnumeric.py:3372: RuntimeWarning: Mean of empty slice.\n",
      "  return _methods._mean(a, axis=axis, dtype=dtype,\n",
      "/home/justin/anaconda3/envs/aqbt/lib/python3.8/site-packages/numpy/core/_methods.py:162: RuntimeWarning: invalid value encountered in true_divide\n",
      "  ret = um.true_divide(\n",
      "<lambdifygenerated-1>:2: RuntimeWarning: invalid value encountered in true_divide\n",
      "  return (material/efficiency)\n",
      "/home/justin/anaconda3/envs/aqbt/lib/python3.8/site-packages/dasi/utils/sequence/sequence_partitioner.py:24: FutureWarning: elementwise comparison failed; returning scalar instead, but in the future will perform elementwise comparison\n",
      "  elif j == \"STOP\":\n",
      "/home/justin/anaconda3/envs/aqbt/lib/python3.8/site-packages/numpy/core/fromnumeric.py:3372: RuntimeWarning: Mean of empty slice.\n",
      "  return _methods._mean(a, axis=axis, dtype=dtype,\n",
      "/home/justin/anaconda3/envs/aqbt/lib/python3.8/site-packages/numpy/core/_methods.py:162: RuntimeWarning: invalid value encountered in true_divide\n",
      "  ret = um.true_divide(\n",
      "/home/justin/anaconda3/envs/aqbt/lib/python3.8/site-packages/dasi/utils/sequence/sequence_partitioner.py:22: FutureWarning: elementwise comparison failed; returning scalar instead, but in the future will perform elementwise comparison\n",
      "  if i == \"STOP\":\n",
      "/home/justin/anaconda3/envs/aqbt/lib/python3.8/site-packages/dasi/design/optimize.py:180: RuntimeWarning: invalid value encountered in multiply\n",
      "  e = e1 * e2.max(1)\n",
      "/home/justin/anaconda3/envs/aqbt/lib/python3.8/site-packages/dasi/design/optimize.py:182: RuntimeWarning: invalid value encountered in true_divide\n",
      "  w = np.divide(m, e)\n",
      "/home/justin/anaconda3/envs/aqbt/lib/python3.8/site-packages/dasi/utils/sequence/sequence_partitioner.py:22: FutureWarning: elementwise comparison failed; returning scalar instead, but in the future will perform elementwise comparison\n",
      "  if i == \"STOP\":\n",
      "<lambdifygenerated-1>:2: RuntimeWarning: invalid value encountered in true_divide\n",
      "  return (material/efficiency)\n",
      "<lambdifygenerated-1>:2: RuntimeWarning: invalid value encountered in true_divide\n",
      "  return (material/efficiency)\n",
      "<lambdifygenerated-1>:2: RuntimeWarning: invalid value encountered in true_divide\n",
      "  return (material/efficiency)\n",
      "<lambdifygenerated-1>:2: RuntimeWarning: invalid value encountered in true_divide\n",
      "  return (material/efficiency)\n",
      "/home/justin/anaconda3/envs/aqbt/lib/python3.8/site-packages/dasi/design/optimize.py:180: RuntimeWarning: invalid value encountered in multiply\n",
      "  e = e1 * e2.max(1)\n",
      "/home/justin/anaconda3/envs/aqbt/lib/python3.8/site-packages/dasi/design/optimize.py:182: RuntimeWarning: invalid value encountered in true_divide\n",
      "  w = np.divide(m, e)\n",
      "<lambdifygenerated-1>:2: RuntimeWarning: invalid value encountered in true_divide\n",
      "  return (material/efficiency)\n",
      "/home/justin/anaconda3/envs/aqbt/lib/python3.8/site-packages/dasi/design/optimize.py:180: RuntimeWarning: invalid value encountered in multiply\n",
      "  e = e1 * e2.max(1)\n",
      "/home/justin/anaconda3/envs/aqbt/lib/python3.8/site-packages/dasi/design/optimize.py:182: RuntimeWarning: invalid value encountered in true_divide\n",
      "  w = np.divide(m, e)\n",
      "/home/justin/anaconda3/envs/aqbt/lib/python3.8/site-packages/dasi/design/optimize.py:180: RuntimeWarning: invalid value encountered in multiply\n",
      "  e = e1 * e2.max(1)\n",
      "/home/justin/anaconda3/envs/aqbt/lib/python3.8/site-packages/dasi/design/optimize.py:182: RuntimeWarning: invalid value encountered in true_divide\n",
      "  w = np.divide(m, e)\n",
      "/home/justin/anaconda3/envs/aqbt/lib/python3.8/site-packages/dasi/design/optimize.py:180: RuntimeWarning: invalid value encountered in multiply\n",
      "  e = e1 * e2.max(1)\n",
      "/home/justin/anaconda3/envs/aqbt/lib/python3.8/site-packages/dasi/design/optimize.py:182: RuntimeWarning: invalid value encountered in true_divide\n",
      "  w = np.divide(m, e)\n",
      "/home/justin/anaconda3/envs/aqbt/lib/python3.8/site-packages/dasi/design/optimize.py:180: RuntimeWarning: invalid value encountered in multiply\n",
      "  e = e1 * e2.max(1)\n",
      "/home/justin/anaconda3/envs/aqbt/lib/python3.8/site-packages/dasi/design/optimize.py:182: RuntimeWarning: invalid value encountered in true_divide\n",
      "  w = np.divide(m, e)\n",
      "<lambdifygenerated-8>:2: RuntimeWarning: invalid value encountered in true_divide\n",
      "  return (material/efficiency)\n",
      "<lambdifygenerated-15>:2: RuntimeWarning: invalid value encountered in true_divide\n",
      "  return (material/efficiency)\n",
      "<lambdifygenerated-8>:2: RuntimeWarning: invalid value encountered in true_divide\n",
      "  return (material/efficiency)\n",
      "<lambdifygenerated-15>:2: RuntimeWarning: invalid value encountered in true_divide\n",
      "  return (material/efficiency)\n",
      "<lambdifygenerated-8>:2: RuntimeWarning: invalid value encountered in true_divide\n",
      "  return (material/efficiency)\n",
      "<lambdifygenerated-8>:2: RuntimeWarning: invalid value encountered in true_divide\n",
      "  return (material/efficiency)\n",
      "<lambdifygenerated-8>:2: RuntimeWarning: invalid value encountered in true_divide\n",
      "  return (material/efficiency)\n",
      "<lambdifygenerated-15>:2: RuntimeWarning: invalid value encountered in true_divide\n",
      "  return (material/efficiency)\n",
      "<lambdifygenerated-8>:2: RuntimeWarning: invalid value encountered in true_divide\n",
      "  return (material/efficiency)\n",
      "<lambdifygenerated-15>:2: RuntimeWarning: invalid value encountered in true_divide\n",
      "  return (material/efficiency)\n",
      "<lambdifygenerated-15>:2: RuntimeWarning: invalid value encountered in true_divide\n",
      "  return (material/efficiency)\n",
      "<lambdifygenerated-15>:2: RuntimeWarning: invalid value encountered in true_divide\n",
      "  return (material/efficiency)\n",
      "<lambdifygenerated-22>:2: RuntimeWarning: invalid value encountered in true_divide\n",
      "  return (material/efficiency)\n",
      "<lambdifygenerated-22>:2: RuntimeWarning: invalid value encountered in true_divide\n",
      "  return (material/efficiency)\n",
      "<lambdifygenerated-22>:2: RuntimeWarning: invalid value encountered in true_divide\n",
      "  return (material/efficiency)\n",
      "<lambdifygenerated-22>:2: RuntimeWarning: invalid value encountered in true_divide\n",
      "  return (material/efficiency)\n",
      "<lambdifygenerated-22>:2: RuntimeWarning: invalid value encountered in true_divide\n",
      "  return (material/efficiency)\n",
      "<lambdifygenerated-22>:2: RuntimeWarning: invalid value encountered in true_divide\n",
      "  return (material/efficiency)\n",
      "<lambdifygenerated-29>:2: RuntimeWarning: invalid value encountered in true_divide\n",
      "  return (material/efficiency)\n",
      "<lambdifygenerated-29>:2: RuntimeWarning: invalid value encountered in true_divide\n",
      "  return (material/efficiency)\n",
      "<lambdifygenerated-36>:2: RuntimeWarning: invalid value encountered in true_divide\n",
      "  return (material/efficiency)\n",
      "<lambdifygenerated-29>:2: RuntimeWarning: invalid value encountered in true_divide\n",
      "  return (material/efficiency)\n",
      "<lambdifygenerated-36>:2: RuntimeWarning: invalid value encountered in true_divide\n",
      "  return (material/efficiency)\n",
      "<lambdifygenerated-36>:2: RuntimeWarning: invalid value encountered in true_divide\n",
      "  return (material/efficiency)\n",
      "<lambdifygenerated-29>:2: RuntimeWarning: invalid value encountered in true_divide\n",
      "  return (material/efficiency)\n",
      "<lambdifygenerated-36>:2: RuntimeWarning: invalid value encountered in true_divide\n",
      "  return (material/efficiency)\n",
      "<lambdifygenerated-29>:2: RuntimeWarning: invalid value encountered in true_divide\n",
      "  return (material/efficiency)\n",
      "<lambdifygenerated-36>:2: RuntimeWarning: invalid value encountered in true_divide\n",
      "  return (material/efficiency)\n",
      "<lambdifygenerated-29>:2: RuntimeWarning: invalid value encountered in true_divide\n",
      "  return (material/efficiency)\n",
      "<lambdifygenerated-43>:2: RuntimeWarning: invalid value encountered in true_divide\n",
      "  return (material/efficiency)\n",
      "<lambdifygenerated-36>:2: RuntimeWarning: invalid value encountered in true_divide\n",
      "  return (material/efficiency)\n",
      "<lambdifygenerated-43>:2: RuntimeWarning: invalid value encountered in true_divide\n",
      "  return (material/efficiency)\n",
      "<lambdifygenerated-43>:2: RuntimeWarning: invalid value encountered in true_divide\n",
      "  return (material/efficiency)\n",
      "<lambdifygenerated-43>:2: RuntimeWarning: invalid value encountered in true_divide\n",
      "  return (material/efficiency)\n",
      "<lambdifygenerated-50>:2: RuntimeWarning: invalid value encountered in true_divide\n",
      "  return (material/efficiency)\n",
      "<lambdifygenerated-57>:2: RuntimeWarning: invalid value encountered in true_divide\n",
      "  return (material/efficiency)\n",
      "<lambdifygenerated-50>:2: RuntimeWarning: invalid value encountered in true_divide\n",
      "  return (material/efficiency)\n",
      "<lambdifygenerated-50>:2: RuntimeWarning: invalid value encountered in true_divide\n",
      "  return (material/efficiency)\n",
      "<lambdifygenerated-57>:2: RuntimeWarning: invalid value encountered in true_divide\n",
      "  return (material/efficiency)\n",
      "<lambdifygenerated-57>:2: RuntimeWarning: invalid value encountered in true_divide\n",
      "  return (material/efficiency)\n",
      "<lambdifygenerated-50>:2: RuntimeWarning: invalid value encountered in true_divide\n",
      "  return (material/efficiency)\n",
      "<lambdifygenerated-57>:2: RuntimeWarning: invalid value encountered in true_divide\n",
      "  return (material/efficiency)\n"
     ]
    }
   ],
   "source": [
    "from dasi.config import Config\n",
    "\n",
    "Config.SequenceScoringConfig.post_process_stages = ('SCORE_COMPLEXITY',\n",
    " 'SCORE_LONG_PCR_PRODUCTS',\n",
    " 'SCORE_MISPRIMINGS', Config.SequenceScoringConfig.PARTITION)\n",
    "\n",
    "Config.SequenceScoringConfig.post_process_stages\n",
    "\n",
    "from dasi.design.graph_builder import SequenceScoringConfig\n",
    "\n",
    "SequenceScoringConfig.edge_threshold = 0.000001\n",
    "\n",
    "design = new_design(dasi_df, records, log_level='INFO')\n",
    "design.run(n_jobs=6)"
   ]
  },
  {
   "cell_type": "code",
   "execution_count": 21,
   "metadata": {},
   "outputs": [],
   "source": [
    "out = design.out(elim_extra_reactions=True)"
   ]
  },
  {
   "cell_type": "markdown",
   "metadata": {},
   "source": [
    "#### Plot Results"
   ]
  },
  {
   "cell_type": "code",
   "execution_count": 78,
   "metadata": {},
   "outputs": [
    {
     "data": {
      "image/png": "[encoded data removed]",
      "text/plain": [
       "<Figure size 432x288 with 1 Axes>"
      ]
     },
     "metadata": {
      "needs_background": "light"
     },
     "output_type": "display_data"
    }
   ],
   "source": [
    "import seaborn as sns\n",
    "import pylab as plt\n",
    "\n",
    "def get(d, keys):\n",
    "    v = d\n",
    "    for k in keys:\n",
    "        \n",
    "        v = v[k]\n",
    "    return v\n",
    "\n",
    "def plot_results(out, design, keys):\n",
    "    x = []\n",
    "    y = []\n",
    "    default = 0.\n",
    "    for k, d in out['designs'].items():\n",
    "        seq = design.seqdb[k]\n",
    "        x.append(seq.name)\n",
    "        if d['assemblies']:\n",
    "            a = d['assemblies'][0]\n",
    "            y.append(get(a, keys))\n",
    "        else:\n",
    "            y.append(default)\n",
    "    return x, y\n",
    "\n",
    "def plot_complexity(out, design,):\n",
    "    plt.xticks(rotation=90)\n",
    "    x, y = plot_results(out, design, ('cost', 'max synthesis complexity'))\n",
    "    sns.barplot(x, y)\n",
    "\n",
    "def plot_efficiency(out, design):\n",
    "    plt.xticks(rotation=90)\n",
    "    x, y = plot_results(out, design, ('cost', 'assembly efficiency'))\n",
    "    sns.barplot(x, y)\n",
    "    \n",
    "# plot_complexity(out, design)\n",
    "# plt.show()\n",
    "plot_efficiency(out, design)"
   ]
  },
  {
   "cell_type": "code",
   "execution_count": null,
   "metadata": {},
   "outputs": [
    {
     "data": {
      "text/plain": [
       "['pMOD6_backbone_Input_node_be_jub1',\n",
       " 'pMOD8_Backbone_medium_exp_strong_ad_tet',\n",
       " 'pMOD8_Backbone_strong_exp_med_ad_tet',\n",
       " 'pMOD-HO-KanMX_output_node_4b2_anac102_stable_gfp',\n",
       " 'pMOD-HO-KanMX_output_node_6b2_ataf1_stable_gfp',\n",
       " 'pMOD6_backbone_Input_node_be_ataf1',\n",
       " 'pMOD6_backbone_Input_node_doxy_ataf1',\n",
       " 'pMOD8_Backbone_strong_exp_med_ad_zev',\n",
       " 'pMOD8_Backbone_medium_exp_strong_ad_zev',\n",
       " 'pMOD-HO-KanMX_output_node_4b2_ant_stable_gfp',\n",
       " 'pMOD-HO-KanMX_output_node_2b2_ant_stable_gfp',\n",
       " 'pMOD8_Backbone_weak_exp_med_ad_tet',\n",
       " 'pMOD8_Backbone_strong_exp_strong_ad_zev',\n",
       " 'pMOD-HO-KanMX_output_node_6b2_anac102_stable_gfp',\n",
       " 'pMOD-HO-KanMX_output_node_6b2_jub1_stable_gfp',\n",
       " 'pMOD8_Backbone_weak_exp_strong_ad_zev',\n",
       " 'pMOD6_backbone_Input_node_be_ant',\n",
       " 'pMOD8_Backbone_strong_exp_strong_ad_tet',\n",
       " 'pMOD6_backbone_Input_node_doxy_anac102',\n",
       " 'pMOD-HO-KanMX_output_node_6b2_ant_stable_gfp',\n",
       " 'pMOD6_backbone_Input_node_doxy_jub1',\n",
       " 'pMOD8_Backbone_medium_exp_med_ad_zev',\n",
       " 'pMOD8_Backbone_weak_exp_med_ad_zev',\n",
       " 'pMOD-HO-KanMX_output_node_2b2_ataf1_stable_gfp',\n",
       " 'pMOD6_backbone_Input_node_be_anac102',\n",
       " 'pMOD-HO-KanMX_output_node_4b2_jub1_stable_gfp',\n",
       " 'pMOD8_Backbone_medium_exp_med_ad_tet',\n",
       " 'pMOD6_backbone_Input_node_doxy_ant',\n",
       " 'pMOD8_Backbone_weak_exp_strong_ad_tet',\n",
       " 'pMOD-HO-KanMX_output_node_4b2_ataf1_stable_gfp',\n",
       " 'pMOD-HO-KanMX_output_node_2b2_anac102_stable_gfp',\n",
       " 'pMOD-HO-KanMX_output_node_2b2_jub1_stable_gfp']"
      ]
     },
     "execution_count": 80,
     "metadata": {},
     "output_type": "execute_result"
    }
   ],
   "source": [
    "passable_query_keys = []\n",
    "\n",
    "x, y = plot_results(out, design, ('cost', 'max synthesis complexity'))\n",
    "z = list(zip(x, y))\n",
    "z = [_z[0] for _z in z if _z[1] < 10.]"
   ]
  },
  {
   "cell_type": "code",
   "execution_count": 18,
   "metadata": {
    "jupyter": {
     "source_hidden": true
    }
   },
   "outputs": [
    {
     "name": "stdout",
     "output_type": "stream",
     "text": [
      "http://www.benchling.com/jvrana/f/lib_SjLcTsG4-apitrash/seq_khozsStE-pmod6_backbone_input_node_be_jub1/edit\n"
     ]
    }
   ],
   "source": [
    "# record = records[0]\n",
    "# import webbrowser\n",
    "\n",
    "# def to_benchling(record, folder_id):\n",
    "#     data = convert(record, to=\"benchling_dna_json\")\n",
    "#     data['folder_id'] = folder_id\n",
    "#     seq = benchling.DNASequence.load(data)\n",
    "#     return seq\n",
    "\n",
    "# def dna_open(record, folder_name='APITrash'):\n",
    "#     seq = to_benchling(record, benchling.Folder.find_by_name('APITrash').id)\n",
    "#     seq.save()\n",
    "#     url = 'http://www.benchling.com' + seq.url\n",
    "#     print(url)\n",
    "#     webbrowser.open(url)\n",
    "    \n",
    "# dna_open(record)"
   ]
  },
  {
   "cell_type": "code",
   "execution_count": 22,
   "metadata": {
    "jupyter": {
     "source_hidden": true
    }
   },
   "outputs": [
    {
     "name": "stdout",
     "output_type": "stream",
     "text": [
      "/jvrana/f/lib_SjLcTsG4-apitrash/seq_rZilO9j6-pmod6_backbone_input_node_be_jub1/edit\n"
     ]
    }
   ],
   "source": [
    "# trash_folder = benchling.Folder.find_by_name(\"APITrash\")\n",
    "\n",
    "# from aqbt.bioadapter import convert\n",
    "\n",
    "# data = convert(records[0], to=\"benchling_dna_json\", benchling_session=benchling, folder_id=trash_folder.id)\n",
    "# data['folder_id'] = trash_folder.id\n",
    "# seq = benchling.DNASequence.load(data)\n",
    "# seq.save()\n",
    "# print(seq.url)"
   ]
  },
  {
   "cell_type": "markdown",
   "metadata": {},
   "source": [
    "### Output design"
   ]
  },
  {
   "cell_type": "code",
   "execution_count": 84,
   "metadata": {},
   "outputs": [
    {
     "name": "stdout",
     "output_type": "stream",
     "text": [
      "\u001b[31mERROR - LibraryDesign(id=139823003969760) - 2020-07-30 12:06:27,646 - Query pMOD6_backbone_Input_node_be_ant 16 yielded no assembly\u001b[0m\n",
      "\u001b[31mERROR - LibraryDesign(id=139823003969760) - 2020-07-30 12:06:27,699 - Query pMOD6_backbone_Input_node_be_anac102 24 yielded no assembly\u001b[0m\n"
     ]
    }
   ],
   "source": [
    "df1, df2, file_location_json = design.to_df()\n",
    "\n",
    "with open('design_files.json', 'w') as f:\n",
    "    json.dump(file_location_json, f)\n",
    "    \n",
    "df1.to_csv(\"design_info_1.csv\")\n",
    "df2.to_csv(\"design_info_2.csv\")\n",
    "\n",
    "# save output \n",
    "json_output = design.out(elim_extra_reactions=True)\n",
    "with open('design.out.json', 'w') as f:\n",
    "    json.dump(json_output, f, indent=2)"
   ]
  },
  {
   "cell_type": "markdown",
   "metadata": {},
   "source": [
    "##### Report"
   ]
  },
  {
   "cell_type": "code",
   "execution_count": null,
   "metadata": {},
   "outputs": [],
   "source": []
  },
  {
   "cell_type": "code",
   "execution_count": null,
   "metadata": {},
   "outputs": [],
   "source": []
  },
  {
   "cell_type": "code",
   "execution_count": null,
   "metadata": {},
   "outputs": [],
   "source": []
  },
  {
   "cell_type": "code",
   "execution_count": null,
   "metadata": {},
   "outputs": [],
   "source": []
  },
  {
   "cell_type": "code",
   "execution_count": null,
   "metadata": {},
   "outputs": [],
   "source": []
  }
 ],
 "metadata": {
  "kernelspec": {
   "display_name": "Python 3",
   "language": "python",
   "name": "python3"
  },
  "language_info": {
   "codemirror_mode": {
    "name": "ipython",
    "version": 3
   },
   "file_extension": ".py",
   "mimetype": "text/x-python",
   "name": "python",
   "nbconvert_exporter": "python",
   "pygments_lexer": "ipython3",
   "version": "3.8.3"
  }
 },
 "nbformat": 4,
 "nbformat_minor": 4
}
