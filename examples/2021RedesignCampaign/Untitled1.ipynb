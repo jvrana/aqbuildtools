{
 "cells": [
  {
   "cell_type": "code",
   "execution_count": 1,
   "id": "sapphire-diary",
   "metadata": {},
   "outputs": [
    {
     "data": {
      "text/plain": [
       "['/home/justin/Github/aqbuildtools',\n",
       " '/home/justin/Github/aqbuildtools/examples/2021RedesignCampaign',\n",
       " '/home/justin/anaconda3/envs/aqbt/lib/python38.zip',\n",
       " '/home/justin/anaconda3/envs/aqbt/lib/python3.8',\n",
       " '/home/justin/anaconda3/envs/aqbt/lib/python3.8/lib-dynload',\n",
       " '',\n",
       " '/home/justin/anaconda3/envs/aqbt/lib/python3.8/site-packages',\n",
       " '/home/justin/anaconda3/envs/aqbt/lib/python3.8/site-packages/IPython/extensions',\n",
       " '/home/justin/.ipython']"
      ]
     },
     "execution_count": 1,
     "metadata": {},
     "output_type": "execute_result"
    }
   ],
   "source": [
    "import sys\n",
    "import os\n",
    "\n",
    "path = os.path.abspath('../..')\n",
    "if path not in sys.path:\n",
    "    sys.path.insert(0, path)\n",
    "    \n",
    "sys.path"
   ]
  },
  {
   "cell_type": "code",
   "execution_count": 2,
   "id": "sensitive-trinity",
   "metadata": {},
   "outputs": [],
   "source": [
    "from aqbt import AquariumBuildTools\n",
    "aqtools = AquariumBuildTools.from_toml('creds.secret.toml')\n",
    "aqtools.sessions\n",
    "\n",
    "aq = aqtools.sessions['production']['aquarium']\n",
    "aq.set_timeout(70)"
   ]
  },
  {
   "cell_type": "code",
   "execution_count": 21,
   "id": "eastern-aquarium",
   "metadata": {},
   "outputs": [
    {
     "data": {
      "text/plain": [
       "495774"
      ]
     },
     "execution_count": 21,
     "metadata": {},
     "output_type": "execute_result"
    }
   ],
   "source": [
    "aq.Collection.last(100, query={'object_type_id': 440, 'location': 'deleted'})[-1].id"
   ]
  },
  {
   "cell_type": "code",
   "execution_count": 31,
   "id": "antique-shuttle",
   "metadata": {},
   "outputs": [
    {
     "data": {
      "text/plain": [
       "{'id': 511123,\n",
       " 'location': 'M20.23.8.23',\n",
       " 'quantity': 1,\n",
       " 'object_type_id': 821,\n",
       " 'created_at': '2021-03-09T09:43:14.000-08:00',\n",
       " 'updated_at': '2021-03-09T09:43:14.000-08:00',\n",
       " 'inuse': 0,\n",
       " 'sample_id': 36335,\n",
       " 'data': None,\n",
       " 'locator_id': 51473,\n",
       " 'is_part': False}"
      ]
     },
     "execution_count": 31,
     "metadata": {},
     "output_type": "execute_result"
    }
   ],
   "source": [
    "aq.Item.find(511123).raw"
   ]
  }
 ],
 "metadata": {
  "kernelspec": {
   "display_name": "Python 3",
   "language": "python",
   "name": "python3"
  },
  "language_info": {
   "codemirror_mode": {
    "name": "ipython",
    "version": 3
   },
   "file_extension": ".py",
   "mimetype": "text/x-python",
   "name": "python",
   "nbconvert_exporter": "python",
   "pygments_lexer": "ipython3",
   "version": "3.8.5"
  }
 },
 "nbformat": 4,
 "nbformat_minor": 5
}
