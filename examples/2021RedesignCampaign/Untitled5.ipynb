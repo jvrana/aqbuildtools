{
 "cells": [
  {
   "cell_type": "code",
   "execution_count": 10,
   "id": "elect-german",
   "metadata": {},
   "outputs": [],
   "source": [
    "import sys\n",
    "import os\n",
    "import pandas as pd\n",
    "\n",
    "path = os.path.abspath('../..')\n",
    "if path not in sys.path:\n",
    "    sys.path.insert(0, path)\n",
    "    \n",
    "sys.path\n",
    "\n",
    "from primer3plus.utils import reverse_complement as rc\n",
    "import primer3\n",
    "from aqbt.contrib.uwbf import primer_utils\n",
    "from aqbt import AquariumBuildTools\n",
    "aqtools = AquariumBuildTools.from_toml('creds.secret.toml')\n",
    "aqtools.sessions\n",
    "\n",
    "aq = aqtools.sessions['production']['aquarium']"
   ]
  },
  {
   "cell_type": "code",
   "execution_count": 47,
   "id": "taken-award",
   "metadata": {},
   "outputs": [
    {
     "name": "stdout",
     "output_type": "stream",
     "text": [
      "done\n",
      "done\n",
      "done\n",
      "done\n",
      "error\n",
      "done\n",
      "error\n",
      "done\n",
      "done\n"
     ]
    }
   ],
   "source": [
    "opids = [ja.operation_id for ja in aq.JobAssociation.where({'job_id': 124856})]\n",
    "\n",
    "ops = aq.Operation.find(opids)\n",
    "\n",
    "for op in ops:\n",
    "    print(op.status)"
   ]
  },
  {
   "cell_type": "code",
   "execution_count": 53,
   "id": "heated-kazakhstan",
   "metadata": {},
   "outputs": [
    {
     "data": {
      "text/plain": [
       "865"
      ]
     },
     "execution_count": 53,
     "metadata": {},
     "output_type": "execute_result"
    }
   ],
   "source": [
    "op.field_values[0].item.object_type_id"
   ]
  },
  {
   "cell_type": "code",
   "execution_count": 68,
   "id": "silver-fifteen",
   "metadata": {},
   "outputs": [
    {
     "data": {
      "text/plain": [
       "347"
      ]
     },
     "execution_count": 68,
     "metadata": {},
     "output_type": "execute_result"
    }
   ],
   "source": [
    "aq.Operation.find(347510).outputs[0].allowable_field_type.object_type_id"
   ]
  },
  {
   "cell_type": "code",
   "execution_count": 89,
   "id": "reflected-anthropology",
   "metadata": {},
   "outputs": [
    {
     "data": {
      "text/plain": [
       "{'part': False,\n",
       " 'preferred_operation_type_id': None,\n",
       " 'ftype': 'sample',\n",
       " 'choices': None,\n",
       " 'parent_class': 'OperationType',\n",
       " 'preferred_field_type_id': None,\n",
       " 'id': 23783,\n",
       " 'updated_at': '2021-04-02T13:13:52.000-07:00',\n",
       " 'role': 'input',\n",
       " 'created_at': '2021-04-02T13:13:52.000-07:00',\n",
       " 'name': 'Overnight',\n",
       " 'array': False,\n",
       " 'required': None,\n",
       " 'routing': 'YS',\n",
       " 'parent_id': 756,\n",
       " 'rid': 11407}"
      ]
     },
     "execution_count": 89,
     "metadata": {},
     "output_type": "execute_result"
    }
   ],
   "source": [
    "aq.FieldType.where({'parent_id': })"
   ]
  },
  {
   "cell_type": "code",
   "execution_count": 115,
   "id": "alleged-bolivia",
   "metadata": {},
   "outputs": [
    {
     "data": {
      "text/plain": [
       "'Inoculate Yeast Comp Cells'"
      ]
     },
     "execution_count": 115,
     "metadata": {},
     "output_type": "execute_result"
    }
   ],
   "source": [
    "aq.Operation.find(347828).operation_type.name"
   ]
  },
  {
   "cell_type": "code",
   "execution_count": 109,
   "id": "veterinary-morrison",
   "metadata": {},
   "outputs": [
    {
     "data": {
      "text/plain": [
       "'http:/52.27.43.242/plans?plan_id=41094'"
      ]
     },
     "execution_count": 109,
     "metadata": {},
     "output_type": "execute_result"
    }
   ],
   "source": [
    "ops[0].operation_type_id = 756\n",
    "\n",
    "ops[0].plan\n",
    "\n",
    "from pydent import Planner\n",
    "\n",
    "planner = Planner(aq.Plan.find(ops[0].plan.id))\n",
    "\n",
    "for op in planner.operations:\n",
    "    op.operation_type_id = 756\n",
    "    for fv in op.field_values:\n",
    "        ft = aq.FieldType.where({'name': fv.name, 'parent_id': op.operation_type_id, 'parent_class': 'OperationType'})[0]\n",
    "        fv.field_type_id = ft.id\n",
    "        fv.field_type = ft\n",
    "        \n",
    "        \n",
    "        if fv.item:\n",
    "            fv.allowable_field_type_id = aq.AllowableFieldType(\n",
    "                {'object_type_id': fv.item.object_type_id, \n",
    "                 'sample_type_id': fv.item.sample.sample_type_id, \n",
    "                 'field_type_id': fv.field_type_id}\n",
    "            ).id\n",
    "        else:\n",
    "            fv.allowable_field_type_id = aq.AllowableFieldType({\n",
    "                'object_type_id': ft.allowable_field_types[0].object_type_id,\n",
    "                'sample_type_id': ft.allowable_field_types[0].sample_type_id\n",
    "            }).id\n",
    "\n",
    "planner.save()\n",
    "planner.url"
   ]
  },
  {
   "cell_type": "code",
   "execution_count": 9,
   "id": "rural-feedback",
   "metadata": {},
   "outputs": [
    {
     "data": {
      "application/vnd.jupyter.widget-view+json": {
       "model_id": "a27985afa8ec4497a1e85c196af14120",
       "version_major": 2,
       "version_minor": 0
      },
      "text/plain": [
       "  0%|          | 0/18 [00:00<?, ?it/s]"
      ]
     },
     "metadata": {},
     "output_type": "display_data"
    },
    {
     "name": "stdout",
     "output_type": "stream",
     "text": [
      "URA-URA<pGRR-W20W36-yeGFP> (v2)\n",
      "URA-URA<pGRR-W17W17-yeGFP> (v2)\n",
      "URA-URA<pGRR-W36W36-yeGFP> (v2)\n",
      "URA-URA<pGRR-W5W36-yeGFP> (v2)\n",
      "URA-URA<pGRR-W36W5-yeGFP> (v2)\n",
      "URA-URA<pGRR-W10W20-yeGFP> (v2)\n",
      "URA-URA<pGRR-W10W17-yeGFP> (v2)\n",
      "URA-URA<pGRR-W5W8-URGR-W36> (v2)\n",
      "URA-URA<pGRR-W10W8-URGR-W5> (v2)\n",
      "LEU-LEU<pGRR-W5W5-URGR-W36> (v2)\n",
      "ARS314-bleo<pGRR-W10W8-URGR-W36> (v2)\n",
      "URA-URA<pGRR-W8W34-URGR-W10> (v2)\n",
      "ARS314-bleo<pGRR-W8W34-URGR-W17> (v2)\n",
      "LEU-LEU<pGRR-W17W17-URGR-W20> (v2)\n",
      "URA-URA<pGRR-W8W34-URGR-W17> (v2)\n",
      "ARS314-bleo<pGRR-W5W5-URGR-W20> (v2)\n",
      "ARS314-bleo<pGRR-W17W17-URGR-W10> (v2)\n",
      "URA-URA<pGRR-W17W34-yeGFP> (v2)\n"
     ]
    }
   ],
   "source": [
    "from tqdm.auto import tqdm\n",
    "\n",
    "samples = aq.Sample.where(\"user_id = 66 AND sample_type_id = {}\".format(\n",
    "aq.SampleType.find_by_name(\"Fragment\").id))\n",
    "to_update = []\n",
    "for s in samples:\n",
    "    if ' (v2)' in s.name:\n",
    "        to_update.append(s)\n",
    "        \n",
    "for s in tqdm(to_update):\n",
    "    print(s.name)\n",
    "    s.update_properties({'Template': s})\n",
    "    s.save()"
   ]
  }
 ],
 "metadata": {
  "kernelspec": {
   "display_name": "Python 3",
   "language": "python",
   "name": "python3"
  },
  "language_info": {
   "codemirror_mode": {
    "name": "ipython",
    "version": 3
   },
   "file_extension": ".py",
   "mimetype": "text/x-python",
   "name": "python",
   "nbconvert_exporter": "python",
   "pygments_lexer": "ipython3",
   "version": "3.8.5"
  }
 },
 "nbformat": 4,
 "nbformat_minor": 5
}
