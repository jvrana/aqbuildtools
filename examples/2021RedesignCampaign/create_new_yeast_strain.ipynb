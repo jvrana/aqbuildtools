{
 "cells": [
  {
   "cell_type": "code",
   "execution_count": 1,
   "id": "elementary-accused",
   "metadata": {},
   "outputs": [],
   "source": [
    "import sys\n",
    "import os\n",
    "import pandas as pd\n",
    "\n",
    "path = os.path.abspath('../..')\n",
    "if path not in sys.path:\n",
    "    sys.path.insert(0, path)\n",
    "    \n",
    "sys.path\n",
    "\n",
    "from primer3plus.utils import reverse_complement as rc\n",
    "import primer3\n",
    "from aqbt.contrib.uwbf import primer_utils\n",
    "from aqbt import AquariumBuildTools\n",
    "aqtools = AquariumBuildTools.from_toml('creds.secret.toml')\n",
    "aqtools.sessions\n",
    "\n",
    "aq = aqtools.sessions['production']['aquarium']"
   ]
  },
  {
   "cell_type": "code",
   "execution_count": 2,
   "id": "greatest-emission",
   "metadata": {},
   "outputs": [],
   "source": [
    "from pydent import ModelBase\n",
    "\n",
    "def get_sample(session, x, *args, **kwargs):\n",
    "    if isinstance(x, int):\n",
    "        return session.Sample.find(x, *args, **kwargs)\n",
    "    elif isinstance(x, str):\n",
    "        return session.Sample.find_by_name(x, *args, **kwargs)\n",
    "    elif isinstance(x, dict):\n",
    "        return session.Sample.where(x, *args, **kwargs)\n",
    "    elif issubclass(x.__class__, ModelBase):\n",
    "        return x\n",
    "    \n",
    "    \n",
    "def create_new_strain(parent, integrant, qc1, qc2, qcl, project):\n",
    "    parent = get_sample(aq, parent)\n",
    "    integrant = get_sample(aq, integrant)\n",
    "\n",
    "    properties = {\n",
    "        'Parent': parent,\n",
    "        'Integrant': integrant,\n",
    "        'Plasmid': None,\n",
    "        'Integrated Marker(s)': integrant.properties['Yeast Marker'],\n",
    "        'Mating Type': parent.properties['Mating Type'],\n",
    "        'Comp_cell_limit': 'No',\n",
    "        'Has this strain passed QC?': 'No',\n",
    "        'Haploids': [],\n",
    "#         'QC Primer1': get_sample(aq, qc1),\n",
    "#         'QC Primer2': get_sample(aq, qc2),\n",
    "#         'QC_length': qcl\n",
    "    }\n",
    "\n",
    "    return aq.Sample.new(\n",
    "        name = parent.name + ' | ' + integrant.name,\n",
    "        description='',\n",
    "        sample_type_id=parent.sample_type_id,\n",
    "        project=project,\n",
    "        properties=properties\n",
    "    )"
   ]
  },
  {
   "cell_type": "code",
   "execution_count": 18,
   "id": "passive-spain",
   "metadata": {},
   "outputs": [
    {
     "name": "stdout",
     "output_type": "stream",
     "text": [
      "36502\n"
     ]
    }
   ],
   "source": [
    "sample = create_new_strain(36492, 36483, None, None, None, \"SD2 2021 Redesigns\")\n",
    "exists = aq.Sample.find_by_name(sample.name)\n",
    "if exists:\n",
    "    print('exists: {}'.format(exists.id))\n",
    "else:\n",
    "    sample.save()\n",
    "    print(sample.id)"
   ]
  },
  {
   "cell_type": "code",
   "execution_count": 19,
   "id": "subsequent-kennedy",
   "metadata": {},
   "outputs": [
    {
     "name": "stdout",
     "output_type": "stream",
     "text": [
      "36476\n",
      "36399\n",
      "36477\n",
      "36478\n",
      "36479\n",
      "36480\n",
      "36481\n",
      "36400\n",
      "36401\n"
     ]
    }
   ],
   "source": [
    "for _, row in df.iterrows():\n",
    "    parent = aq.Sample.find(int(row['Parent ID']))\n",
    "    integrant = aq.Sample.find(int(row['DNA ID']))\n",
    "    new_strain = create_new_strain(parent, integrant, None, None, None, 'SD2 2021 Redesigns')\n",
    "    existing = aq.Sample.find_by_name(new_strain.name)\n",
    "    \n",
    "    if existing:\n",
    "        print(existing.id)\n",
    "    else:\n",
    "        new_strain.save()\n",
    "        print(new_strain.id)"
   ]
  }
 ],
 "metadata": {
  "kernelspec": {
   "display_name": "Python 3",
   "language": "python",
   "name": "python3"
  },
  "language_info": {
   "codemirror_mode": {
    "name": "ipython",
    "version": 3
   },
   "file_extension": ".py",
   "mimetype": "text/x-python",
   "name": "python",
   "nbconvert_exporter": "python",
   "pygments_lexer": "ipython3",
   "version": "3.8.5"
  }
 },
 "nbformat": 4,
 "nbformat_minor": 5
}
