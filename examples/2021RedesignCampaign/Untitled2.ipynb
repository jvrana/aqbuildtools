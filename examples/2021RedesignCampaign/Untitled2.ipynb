{
 "cells": [
  {
   "cell_type": "code",
   "execution_count": 2,
   "id": "hidden-moore",
   "metadata": {},
   "outputs": [
    {
     "data": {
      "text/plain": [
       "['/home/justin/Github/aqbuildtools',\n",
       " '/home/justin/Github/aqbuildtools/examples/2021RedesignCampaign',\n",
       " '/home/justin/anaconda3/envs/aqbt/lib/python38.zip',\n",
       " '/home/justin/anaconda3/envs/aqbt/lib/python3.8',\n",
       " '/home/justin/anaconda3/envs/aqbt/lib/python3.8/lib-dynload',\n",
       " '',\n",
       " '/home/justin/anaconda3/envs/aqbt/lib/python3.8/site-packages',\n",
       " '/home/justin/anaconda3/envs/aqbt/lib/python3.8/site-packages/IPython/extensions',\n",
       " '/home/justin/.ipython']"
      ]
     },
     "execution_count": 2,
     "metadata": {},
     "output_type": "execute_result"
    }
   ],
   "source": [
    "import sys\n",
    "import os\n",
    "\n",
    "path = os.path.abspath('../..')\n",
    "if path not in sys.path:\n",
    "    sys.path.insert(0, path)\n",
    "    \n",
    "sys.path"
   ]
  },
  {
   "cell_type": "code",
   "execution_count": 3,
   "id": "stainless-belly",
   "metadata": {},
   "outputs": [],
   "source": [
    "from aqbt import AquariumBuildTools\n",
    "aqtools = AquariumBuildTools.from_toml('creds.secret.toml')\n",
    "aqtools.sessions\n",
    "\n",
    "aq = aqtools.sessions['production']['aquarium']\n",
    "aq.set_timeout(70)"
   ]
  },
  {
   "cell_type": "code",
   "execution_count": 1,
   "id": "australian-qatar",
   "metadata": {},
   "outputs": [],
   "source": [
    "fragment_names = ['HIS-HIS<7XTetO-pMinCyc1-URGR-W8>',\n",
    " 'URA-URA<pGRR-W10W8-URGR-W5>',\n",
    " 'ARS314-bleo<pGRR-W5W5-URGR-W20>',\n",
    " 'LEU-LEU<pGRR-W5W5-URGR-W36>',\n",
    " 'URA-URA<pGRR-W20W36-yeGFP>',\n",
    " 'ARS314-bleo<pGRR-W10W8-URGR-W5>',\n",
    " 'TRP-TRP<pGRR-W5W5-URGR-W20>',\n",
    " 'HIS-HIS<7XTetO-pMinCyc1-URGR-W34>',\n",
    " 'URA-URA<pGRR-W8W34-URGR-W17>',\n",
    " 'ARS314-bleo<pGRR-W17W17-URGR-W10>',\n",
    " 'LEU-LEU<pGRR-W17W17-URGR-W20>',\n",
    " 'URA-URA<pGRR-W10W20-yeGFP>',\n",
    " 'ARS314-bleo<pGRR-W8W34-URGR-W17>',\n",
    " 'TRP-TRP<pGRR-W17W17-URGR-W10>',\n",
    " 'ARS314-bleo<pGRR-W10W8-URGR-W36>',\n",
    " 'URA-URA<pGRR-W5W36-yeGFP>',\n",
    " 'TRP-TRP<pGRR-W10W8-URGR-W36>',\n",
    " 'URA-URA<pGRR-W8W34-URGR-W10>',\n",
    " 'URA-URA<pGRR-W10W17-yeGFP>',\n",
    " 'ARS314-bleo<pGRR-W8W34-URGR-W10>',\n",
    " 'TRP-TRP<pGRR-W8W34-URGR-W17>',\n",
    " 'HIS-HIS<7XTetO-pMinCyc1-URGR-W5>',\n",
    " 'URA-URA<pGRR-W36W5-yeGFP>',\n",
    " 'URA-URA<pGRR-W17W34-yeGFP>',\n",
    " 'URA-URA<pGRR-W5W8-URGR-W36>',\n",
    " 'URA-URA<pGRR-W36W36-yeGFP>',\n",
    " 'ARS314-bleo<pGRR-W5W8-URGR-W36>',\n",
    " 'URA-URA<pGRR-W17W17-yeGFP>']"
   ]
  },
  {
   "cell_type": "code",
   "execution_count": 6,
   "id": "solar-position",
   "metadata": {},
   "outputs": [],
   "source": [
    "sess = aq.with_cache()"
   ]
  },
  {
   "cell_type": "code",
   "execution_count": 8,
   "id": "consecutive-account",
   "metadata": {},
   "outputs": [
    {
     "name": "stdout",
     "output_type": "stream",
     "text": [
      "HIS-HIS<7XTetO-pMinCyc1-URGR-W8>\n",
      "pHIS_F\n",
      "3'_HIS_hom__rev\n",
      "\n",
      "URA-URA<pGRR-W10W8-URGR-W5>\n",
      "pURA_F\n",
      "3'_URA_hom__rev\n",
      "\n",
      "ARS314-bleo<pGRR-W5W5-URGR-W20>\n",
      "5'_ARS314_hom__fwd\n",
      "3'_ARS314_hom__rev\n",
      "\n",
      "LEU-LEU<pGRR-W5W5-URGR-W36>\n",
      "5'_LEU_hom__fwd\n",
      "LEU_outer_left\n",
      "\n",
      "URA-URA<pGRR-W20W36-yeGFP>\n",
      "pURA_F\n",
      "3'_URA_hom__rev\n",
      "\n",
      "ARS314-bleo<pGRR-W10W8-URGR-W5>\n",
      "5'_ARS314_hom__fwd\n",
      "3'_ARS314_hom__rev\n",
      "\n",
      "TRP-TRP<pGRR-W5W5-URGR-W20>\n",
      "j5_0436_(pMODkan-HO)_forward\n",
      "pp2-tADH1_R(pMOD) CONTROL\n",
      "\n",
      "HIS-HIS<7XTetO-pMinCyc1-URGR-W34>\n",
      "pHIS_F\n",
      "3'_HIS_hom__rev\n",
      "\n",
      "URA-URA<pGRR-W8W34-URGR-W17>\n",
      "pURA_F\n",
      "3'_URA_hom__rev\n",
      "\n",
      "ARS314-bleo<pGRR-W17W17-URGR-W10>\n",
      "5'_ARS314_hom__fwd\n",
      "3'_ARS314_hom__rev\n",
      "\n",
      "LEU-LEU<pGRR-W17W17-URGR-W20>\n",
      "5'_LEU_hom__fwd\n",
      "LEU_outer_left\n",
      "\n",
      "URA-URA<pGRR-W10W20-yeGFP>\n",
      "pURA_F\n",
      "3'_URA_hom__rev\n",
      "\n",
      "ARS314-bleo<pGRR-W8W34-URGR-W17>\n",
      "5'_ARS314_hom__fwd\n",
      "3'_ARS314_hom__rev\n",
      "\n",
      "TRP-TRP<pGRR-W17W17-URGR-W10>\n",
      "j5_0436_(pMODkan-HO)_forward\n",
      "pp2-tADH1_R(pMOD) CONTROL\n",
      "\n",
      "ARS314-bleo<pGRR-W10W8-URGR-W36>\n",
      "5'_ARS314_hom__fwd\n",
      "3'_ARS314_hom__rev\n",
      "\n",
      "URA-URA<pGRR-W5W36-yeGFP>\n",
      "pURA_F\n",
      "3'_URA_hom__rev\n",
      "\n",
      "TRP-TRP<pGRR-W10W8-URGR-W36>\n",
      "j5_0436_(pMODkan-HO)_forward\n",
      "pp2-tADH1_R(pMOD) CONTROL\n",
      "\n",
      "URA-URA<pGRR-W8W34-URGR-W10>\n",
      "pURA_F\n",
      "3'_URA_hom__rev\n",
      "\n",
      "URA-URA<pGRR-W10W17-yeGFP>\n",
      "pURA_F\n",
      "3'_URA_hom__rev\n",
      "\n",
      "ARS314-bleo<pGRR-W8W34-URGR-W10>\n",
      "5'_ARS314_hom__fwd\n",
      "3'_ARS314_hom__rev\n",
      "\n",
      "TRP-TRP<pGRR-W8W34-URGR-W17>\n",
      "pTRP_F\n",
      "3'_TRP_hom__rev\n",
      "\n",
      "HIS-HIS<7XTetO-pMinCyc1-URGR-W5>\n",
      "pHIS_F\n",
      "3'_HIS_hom__rev\n",
      "\n",
      "URA-URA<pGRR-W36W5-yeGFP>\n",
      "pURA_F\n",
      "3'_URA_hom__rev\n",
      "\n",
      "URA-URA<pGRR-W17W34-yeGFP>\n",
      "pURA_F\n",
      "3'_URA_hom__rev\n",
      "\n",
      "URA-URA<pGRR-W5W8-URGR-W36>\n",
      "pURA_F\n",
      "3'_URA_hom__rev\n",
      "\n",
      "URA-URA<pGRR-W36W36-yeGFP>\n",
      "pURA_F\n",
      "3'_URA_hom__rev\n",
      "\n",
      "ARS314-bleo<pGRR-W5W8-URGR-W36>\n",
      "5'_ARS314_hom__fwd\n",
      "3'_ARS314_hom__rev\n",
      "\n",
      "URA-URA<pGRR-W17W17-yeGFP>\n",
      "pURA_F\n",
      "3'_URA_hom__rev\n",
      "\n"
     ]
    }
   ],
   "source": [
    "from tqdm.auto import tqdm\n",
    "\n",
    "for name in fragment_names:\n",
    "    frag = aq.Sample.find_by_name(name)\n",
    "    \n",
    "    props = frag.properties\n",
    "    frag.update_properties({\n",
    "        'Template': frag\n",
    "    })\n",
    "    frag.save()"
   ]
  },
  {
   "cell_type": "code",
   "execution_count": 53,
   "id": "arabic-suite",
   "metadata": {},
   "outputs": [
    {
     "name": "stdout",
     "output_type": "stream",
     "text": [
      "Repeat 343212 (plan_id=40805, sample=TRP-TRP<pGRR-W5W5-URGR-W20>)\n",
      "Repeat 343261 (plan_id=40806, sample=TRP-TRP<pGRR-W17W17-URGR-W10>)\n",
      "Repeat 343534 (plan_id=40814, sample=TRP-TRP<pGRR-W10W8-URGR-W36>)\n",
      "343310\n"
     ]
    }
   ],
   "source": [
    "frags = props['Fragment Mix Array']\n",
    "f1 = [f for f in frags if \"5'\" in f.name][0]\n",
    "f2 = [f for f in frags if \"3'\" in f.name][0]\n",
    "\n",
    "\n",
    "for name in fragment_names:\n",
    "    if 'TRP' in name:\n",
    "        \n",
    "        s = aq.Sample.find_by_name(name)\n",
    "        fvs = aq.FieldValue.where({'child_sample_id': s.id, 'role': 'output', 'parent_class': 'Operation'})\n",
    "        for fv in fvs:\n",
    "            op = fv.operation\n",
    "            if op.operation_type.name == 'Make PCR Fragment':\n",
    "                if op.status == 'done':\n",
    "                    print(\"Repeat {} (plan_id={}, sample={})\".format(op.id, op.plan.id, name))\n",
    "                elif op.status == 'waiting':\n",
    "                    print(op.id)"
   ]
  },
  {
   "cell_type": "code",
   "execution_count": 55,
   "id": "flush-neighborhood",
   "metadata": {},
   "outputs": [
    {
     "data": {
      "text/plain": [
       "40808"
      ]
     },
     "execution_count": 55,
     "metadata": {},
     "output_type": "execute_result"
    }
   ],
   "source": [
    "op =aq.Operation.find(343310)\n",
    "op.plan.id"
   ]
  },
  {
   "cell_type": "code",
   "execution_count": 49,
   "id": "lasting-fetish",
   "metadata": {},
   "outputs": [],
   "source": [
    "from pydent import Planner\n",
    "\n",
    "planner = Planner(op.plan)\n",
    "op = planner.get_op(343310)\n"
   ]
  },
  {
   "cell_type": "code",
   "execution_count": 51,
   "id": "decent-arkansas",
   "metadata": {},
   "outputs": [
    {
     "data": {
      "text/plain": [
       "<pydent.models.field_value.FieldValue at 0x7fe2d3b6b600>"
      ]
     },
     "execution_count": 51,
     "metadata": {},
     "output_type": "execute_result"
    }
   ],
   "source": [
    "planner.set_field_value(op.input('Forward Primer'), sample=op.outputs[0].sample.properties['Forward Primer'])\n",
    "planner.set_field_value(op.input('Reverse Primer'), sample=op.outputs[0].sample.properties['Reverse Primer'])"
   ]
  },
  {
   "cell_type": "code",
   "execution_count": 56,
   "id": "compressed-prime",
   "metadata": {},
   "outputs": [
    {
     "data": {
      "text/plain": [
       "{'Sequence': '',\n",
       " 'Length': 3550.0,\n",
       " 'Template': None,\n",
       " 'Forward Primer': <pydent.models.sample.Sample at 0x7fe2d4fe5ec0>,\n",
       " 'Reverse Primer': <pydent.models.sample.Sample at 0x7fe2d4fd23c0>,\n",
       " 'Restriction Enzyme(s)': None,\n",
       " 'Yeast Marker': 'URA',\n",
       " 'Fragment Mix Array': [<pydent.models.sample.Sample at 0x7fe2d4fc7640>,\n",
       "  <pydent.models.sample.Sample at 0x7fe2d4f53a40>,\n",
       "  <pydent.models.sample.Sample at 0x7fe2d4f9db80>,\n",
       "  <pydent.models.sample.Sample at 0x7fe2d4fd2ac0>,\n",
       "  <pydent.models.sample.Sample at 0x7fe2d5003dc0>]}"
      ]
     },
     "execution_count": 56,
     "metadata": {},
     "output_type": "execute_result"
    }
   ],
   "source": [
    "frag.properties"
   ]
  }
 ],
 "metadata": {
  "kernelspec": {
   "display_name": "Python 3",
   "language": "python",
   "name": "python3"
  },
  "language_info": {
   "codemirror_mode": {
    "name": "ipython",
    "version": 3
   },
   "file_extension": ".py",
   "mimetype": "text/x-python",
   "name": "python",
   "nbconvert_exporter": "python",
   "pygments_lexer": "ipython3",
   "version": "3.8.5"
  }
 },
 "nbformat": 4,
 "nbformat_minor": 5
}
