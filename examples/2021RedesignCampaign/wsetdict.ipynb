{
 "cells": [
  {
   "cell_type": "code",
   "execution_count": 1,
   "id": "gross-collectible",
   "metadata": {},
   "outputs": [],
   "source": [
    "wset_dict = \"\"\"\n",
    "W5\tr1\n",
    "W8\tr2\n",
    "W10\tr3\n",
    "W14\tr4\n",
    "W17\tr5\n",
    "W19\tr6\n",
    "W20\tr7\n",
    "W22\tr8\n",
    "W34\tr9\n",
    "W36\tr10\n",
    "F1\tr11\n",
    "F2\tr12\n",
    "F3\tr13\n",
    "F4\tr14\n",
    "F5\tr15\n",
    "F6\tr16\n",
    "F7\tr17\n",
    "F8\tr18\n",
    "F9\tr19\n",
    "F10\tr20\n",
    "\"\"\".strip().splitlines()\n",
    "wset_to_rset_dict = {a: b for a, b in [x.split('\\t') for x in wset_dict]}\n",
    "rset_to_wset_dict = {v: k for k, v in wset_to_rset_dict.items()}"
   ]
  }
 ],
 "metadata": {
  "kernelspec": {
   "display_name": "Python 3",
   "language": "python",
   "name": "python3"
  },
  "language_info": {
   "codemirror_mode": {
    "name": "ipython",
    "version": 3
   },
   "file_extension": ".py",
   "mimetype": "text/x-python",
   "name": "python",
   "nbconvert_exporter": "python",
   "pygments_lexer": "ipython3",
   "version": "3.8.5"
  }
 },
 "nbformat": 4,
 "nbformat_minor": 5
}
