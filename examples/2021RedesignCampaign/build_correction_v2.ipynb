{
 "cells": [
  {
   "cell_type": "code",
   "execution_count": 11,
   "id": "introductory-montreal",
   "metadata": {},
   "outputs": [],
   "source": [
    "import sys\n",
    "import os\n",
    "import pandas as pd\n",
    "\n",
    "path = os.path.abspath('../..')\n",
    "if path not in sys.path:\n",
    "    sys.path.insert(0, path)\n",
    "    \n",
    "sys.path\n",
    "\n",
    "from primer3plus.utils import reverse_complement as rc\n",
    "import primer3\n",
    "from aqbt.contrib.uwbf import primer_utils\n",
    "from aqbt import AquariumBuildTools\n",
    "aqtools = AquariumBuildTools.from_toml('creds.secret.toml')\n",
    "aqtools.sessions\n",
    "\n",
    "aq = aqtools.sessions['production']['aquarium']"
   ]
  },
  {
   "cell_type": "code",
   "execution_count": 38,
   "id": "insured-saying",
   "metadata": {},
   "outputs": [],
   "source": [
    "import json\n",
    "import re\n",
    "\n",
    "\n",
    "with open('build_permutations_2021-03-08T10:16:09.773080-08:00_corrected.json', 'r') as f:\n",
    "    builds = json.load(f)\n",
    "    \n",
    "for b in builds:\n",
    "    if b['permutation'] == 0:\n",
    "        for part in b['parts']:\n",
    "            sname = part['sample']['name']\n",
    "            \n",
    "            if 'W5W36' in sname:\n",
    "                sname = re.sub('W5W36', 'W36W5', sname)\n",
    "            if re.search('W\\d+', sname) and 'pGRR' in sname:\n",
    "                replacement = sname + \" (v2)\"\n",
    "                replacement_sample = aq.Sample.find_by_name(replacement)\n",
    "                assert replacement_sample\n",
    "                part['sample'] = replacement_sample.dump()\n",
    "                \n",
    "            if sname == 'pMOD-HO-KanMX-pREV1-rtTA-VPR':\n",
    "                replacement = 'pMOD-HO-KanMX-pRPL18B-rtTA-VP16'\n",
    "                replacement_sample = aq.Sample.find_by_name(replacement)\n",
    "                assert replacement_sample\n",
    "                part['sample'] = replacement_sample.dump()"
   ]
  },
  {
   "cell_type": "code",
   "execution_count": 41,
   "id": "responsible-platinum",
   "metadata": {},
   "outputs": [],
   "source": [
    "with open('build_permutations_2021-03-08T10:16:09.773080-08:00_corrected_v2.json', 'w') as f:\n",
    "    json.dump(builds, f)"
   ]
  }
 ],
 "metadata": {
  "kernelspec": {
   "display_name": "Python 3",
   "language": "python",
   "name": "python3"
  },
  "language_info": {
   "codemirror_mode": {
    "name": "ipython",
    "version": 3
   },
   "file_extension": ".py",
   "mimetype": "text/x-python",
   "name": "python",
   "nbconvert_exporter": "python",
   "pygments_lexer": "ipython3",
   "version": "3.8.5"
  }
 },
 "nbformat": 4,
 "nbformat_minor": 5
}
