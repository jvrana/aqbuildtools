{
 "cells": [
  {
   "cell_type": "code",
   "execution_count": 1,
   "id": "simple-hundred",
   "metadata": {},
   "outputs": [],
   "source": [
    "import sys\n",
    "import os\n",
    "import pandas as pd\n",
    "\n",
    "path = os.path.abspath('../..')\n",
    "if path not in sys.path:\n",
    "    sys.path.insert(0, path)\n",
    "    \n",
    "sys.path\n",
    "\n",
    "from primer3plus.utils import reverse_complement as rc\n",
    "import primer3\n",
    "from aqbt.contrib.uwbf import primer_utils\n",
    "from aqbt import AquariumBuildTools\n",
    "aqtools = AquariumBuildTools.from_toml('creds.secret.toml')\n",
    "aqtools.sessions\n",
    "\n",
    "aq = aqtools.sessions['production']['aquarium']"
   ]
  },
  {
   "cell_type": "code",
   "execution_count": 11,
   "id": "improved-evolution",
   "metadata": {},
   "outputs": [],
   "source": [
    "samples = aq.Sample.where(\"id > 36000 AND user_id = 66 AND sample_type_id = {}\".format(aq.SampleType.find_by_name(\"Fragment\").id))"
   ]
  },
  {
   "cell_type": "code",
   "execution_count": 23,
   "id": "confidential-synthetic",
   "metadata": {},
   "outputs": [],
   "source": [
    "p3 = \"<pGRR-W(\\d+)W(\\d+)-\"\n",
    "\n",
    "parts = []\n",
    "for s in samples:\n",
    "    m = re.search(p3, s.name)\n",
    "    if m:\n",
    "        parts.append(m.groups())\n",
    "        \n",
    "parts = list(set(parts))"
   ]
  },
  {
   "cell_type": "code",
   "execution_count": 34,
   "id": "clear-bowling",
   "metadata": {},
   "outputs": [
    {
     "data": {
      "application/vnd.jupyter.widget-view+json": {
       "model_id": "0f98816a4e9c42f9ae76f13ca7991465",
       "version_major": 2,
       "version_minor": 0
      },
      "text/plain": [
       "  0%|          | 0/12 [00:00<?, ?it/s]"
      ]
     },
     "metadata": {},
     "output_type": "display_data"
    }
   ],
   "source": [
    "import re\n",
    "from tqdm.auto import tqdm\n",
    "\n",
    "p1 = '(SD2) pp2-pGRR-W{i}'\n",
    "\n",
    "p2 = '(SD2) W{i}W{j}-pGRR-ps'\n",
    "\n",
    "\n",
    "name_ = '(SD2) pp2-pGRR-W{i}W{j}-ps'\n",
    "PROJECT = \"SD2 2021 Redesigns\"\n",
    "\n",
    "new_frags = []\n",
    "for i, j in tqdm(parts):\n",
    "    f1 = p1.format(i=i)\n",
    "    f2 = p2.format(i=i, j=j)\n",
    "    name = name_.format(i=i, j=j)\n",
    "    \n",
    "    frag1 = aq.Sample.find_by_name(f1)\n",
    "    frag2 = aq.Sample.find_by_name(f2)\n",
    "    assert frag1\n",
    "    assert frag2\n",
    "    \n",
    "    length = frag1.properties['Length'] + frag2.properties['Length'] - 20\n",
    "    \n",
    "    props = {\n",
    "        'id': None,\n",
    "        'sample_type_id': aq.SampleType.find_by_name('Fragment').id,\n",
    "        'name': name,\n",
    "        'Length': int(length),\n",
    "        'Template': name,\n",
    "        'project': PROJECT,\n",
    "        'Yeast Marker': None,\n",
    "        'Forward Primer': frag1.properties['Forward Primer'].name,\n",
    "        'Reverse Primer': frag2.properties['Reverse Primer'].name,\n",
    "        'Fragment Mix Array': [frag1, frag2],\n",
    "    }\n",
    "    \n",
    "    new_frag = aq.Sample.new(\n",
    "        name=name,\n",
    "        project=PROJECT,\n",
    "        description='',\n",
    "        sample_type_id=aq.SampleType.find_by_name('Fragment').id,\n",
    "        properties={\n",
    "            'Length': int(length),\n",
    "            'Yeast Marker': None,\n",
    "            'Forward Primer': frag1.properties['Forward Primer'],\n",
    "            'Reverse Primer': frag2.properties['Reverse Primer'],\n",
    "            'Fragment Mix Array': [frag1, frag2],\n",
    "            'Sequence': ''\n",
    "        }\n",
    "    )\n",
    "    \n",
    "    new_frags.append(new_frag)\n",
    "    \n",
    "    "
   ]
  },
  {
   "cell_type": "code",
   "execution_count": 35,
   "id": "figured-ownership",
   "metadata": {},
   "outputs": [
    {
     "data": {
      "application/vnd.jupyter.widget-view+json": {
       "model_id": "280552880fc34772a36d07392284837a",
       "version_major": 2,
       "version_minor": 0
      },
      "text/plain": [
       "  0%|          | 0/12 [00:00<?, ?it/s]"
      ]
     },
     "metadata": {},
     "output_type": "display_data"
    },
    {
     "ename": "TridentRequestError",
     "evalue": "Error response:\nName The sample name '(SD2) pp2-pGRR-W10W8-ps' is the name of an existing sample",
     "output_type": "error",
     "traceback": [
      "\u001b[0;31m---------------------------------------------------------------------------\u001b[0m",
      "\u001b[0;31mTridentRequestError\u001b[0m                       Traceback (most recent call last)",
      "\u001b[0;32m<ipython-input-35-270c9b1675ab>\u001b[0m in \u001b[0;36m<module>\u001b[0;34m\u001b[0m\n\u001b[1;32m      1\u001b[0m \u001b[0;32mfor\u001b[0m \u001b[0mf\u001b[0m \u001b[0;32min\u001b[0m \u001b[0mtqdm\u001b[0m\u001b[0;34m(\u001b[0m\u001b[0mnew_frags\u001b[0m\u001b[0;34m)\u001b[0m\u001b[0;34m:\u001b[0m\u001b[0;34m\u001b[0m\u001b[0;34m\u001b[0m\u001b[0m\n\u001b[0;32m----> 2\u001b[0;31m     \u001b[0mf\u001b[0m\u001b[0;34m.\u001b[0m\u001b[0msave\u001b[0m\u001b[0;34m(\u001b[0m\u001b[0;34m)\u001b[0m\u001b[0;34m\u001b[0m\u001b[0;34m\u001b[0m\u001b[0m\n\u001b[0m\u001b[1;32m      3\u001b[0m \u001b[0;34m\u001b[0m\u001b[0m\n\u001b[1;32m      4\u001b[0m     \u001b[0mf_\u001b[0m \u001b[0;34m=\u001b[0m \u001b[0maq\u001b[0m\u001b[0;34m.\u001b[0m\u001b[0mSample\u001b[0m\u001b[0;34m.\u001b[0m\u001b[0mfind_by_name\u001b[0m\u001b[0;34m(\u001b[0m\u001b[0mf\u001b[0m\u001b[0;34m.\u001b[0m\u001b[0mname\u001b[0m\u001b[0;34m)\u001b[0m\u001b[0;34m\u001b[0m\u001b[0;34m\u001b[0m\u001b[0m\n\u001b[1;32m      5\u001b[0m     \u001b[0mf_\u001b[0m\u001b[0;34m.\u001b[0m\u001b[0mupdate_properties\u001b[0m\u001b[0;34m(\u001b[0m\u001b[0;34m{\u001b[0m\u001b[0;34m'Template'\u001b[0m\u001b[0;34m:\u001b[0m \u001b[0mf_\u001b[0m\u001b[0;34m}\u001b[0m\u001b[0;34m)\u001b[0m\u001b[0;34m\u001b[0m\u001b[0;34m\u001b[0m\u001b[0m\n",
      "\u001b[0;32m~/anaconda3/envs/aqbt/lib/python3.8/site-packages/pydent/models/sample.py\u001b[0m in \u001b[0;36msave\u001b[0;34m(self)\u001b[0m\n\u001b[1;32m    172\u001b[0m             \u001b[0mself\u001b[0m\u001b[0;34m.\u001b[0m\u001b[0mupdate\u001b[0m\u001b[0;34m(\u001b[0m\u001b[0;34m)\u001b[0m\u001b[0;34m\u001b[0m\u001b[0;34m\u001b[0m\u001b[0m\n\u001b[1;32m    173\u001b[0m         \u001b[0;32melse\u001b[0m\u001b[0;34m:\u001b[0m\u001b[0;34m\u001b[0m\u001b[0;34m\u001b[0m\u001b[0m\n\u001b[0;32m--> 174\u001b[0;31m             \u001b[0mself\u001b[0m\u001b[0;34m.\u001b[0m\u001b[0mcreate\u001b[0m\u001b[0;34m(\u001b[0m\u001b[0;34m)\u001b[0m\u001b[0;34m\u001b[0m\u001b[0;34m\u001b[0m\u001b[0m\n\u001b[0m\u001b[1;32m    175\u001b[0m \u001b[0;34m\u001b[0m\u001b[0m\n\u001b[1;32m    176\u001b[0m     \u001b[0;32mdef\u001b[0m \u001b[0mupdate\u001b[0m\u001b[0;34m(\u001b[0m\u001b[0mself\u001b[0m\u001b[0;34m)\u001b[0m \u001b[0;34m->\u001b[0m \u001b[0;34m\"Sample\"\u001b[0m\u001b[0;34m:\u001b[0m\u001b[0;34m\u001b[0m\u001b[0;34m\u001b[0m\u001b[0m\n",
      "\u001b[0;32m~/anaconda3/envs/aqbt/lib/python3.8/site-packages/pydent/models/sample.py\u001b[0m in \u001b[0;36mcreate\u001b[0;34m(self)\u001b[0m\n\u001b[1;32m    138\u001b[0m         \"\"\"\n\u001b[1;32m    139\u001b[0m         \u001b[0mself\u001b[0m\u001b[0;34m.\u001b[0m\u001b[0mis_savable\u001b[0m\u001b[0;34m(\u001b[0m\u001b[0mdo_raise\u001b[0m\u001b[0;34m=\u001b[0m\u001b[0;32mTrue\u001b[0m\u001b[0;34m)\u001b[0m\u001b[0;34m\u001b[0m\u001b[0;34m\u001b[0m\u001b[0m\n\u001b[0;32m--> 140\u001b[0;31m         \u001b[0;32mreturn\u001b[0m \u001b[0mself\u001b[0m\u001b[0;34m.\u001b[0m\u001b[0msession\u001b[0m\u001b[0;34m.\u001b[0m\u001b[0mutils\u001b[0m\u001b[0;34m.\u001b[0m\u001b[0mcreate_samples\u001b[0m\u001b[0;34m(\u001b[0m\u001b[0;34m[\u001b[0m\u001b[0mself\u001b[0m\u001b[0;34m]\u001b[0m\u001b[0;34m)\u001b[0m\u001b[0;34m\u001b[0m\u001b[0;34m\u001b[0m\u001b[0m\n\u001b[0m\u001b[1;32m    141\u001b[0m \u001b[0;34m\u001b[0m\u001b[0m\n\u001b[1;32m    142\u001b[0m     \u001b[0;32mdef\u001b[0m \u001b[0mis_savable\u001b[0m\u001b[0;34m(\u001b[0m\u001b[0mself\u001b[0m\u001b[0;34m,\u001b[0m \u001b[0mdo_raise\u001b[0m\u001b[0;34m:\u001b[0m \u001b[0mbool\u001b[0m \u001b[0;34m=\u001b[0m \u001b[0;32mTrue\u001b[0m\u001b[0;34m)\u001b[0m \u001b[0;34m->\u001b[0m \u001b[0mTuple\u001b[0m\u001b[0;34m[\u001b[0m\u001b[0mbool\u001b[0m\u001b[0;34m,\u001b[0m \u001b[0mList\u001b[0m\u001b[0;34m[\u001b[0m\u001b[0mstr\u001b[0m\u001b[0;34m]\u001b[0m\u001b[0;34m]\u001b[0m\u001b[0;34m:\u001b[0m\u001b[0;34m\u001b[0m\u001b[0;34m\u001b[0m\u001b[0m\n",
      "\u001b[0;32m~/anaconda3/envs/aqbt/lib/python3.8/site-packages/pydent/interfaces.py\u001b[0m in \u001b[0;36mcreate_samples\u001b[0;34m(self, samples)\u001b[0m\n\u001b[1;32m    219\u001b[0m         \u001b[0mjson_data\u001b[0m \u001b[0;34m=\u001b[0m \u001b[0;34m[\u001b[0m\u001b[0ms\u001b[0m\u001b[0;34m.\u001b[0m\u001b[0mdump\u001b[0m\u001b[0;34m(\u001b[0m\u001b[0minclude\u001b[0m\u001b[0;34m=\u001b[0m\u001b[0;34m(\u001b[0m\u001b[0;34m\"field_values\"\u001b[0m\u001b[0;34m,\u001b[0m\u001b[0;34m)\u001b[0m\u001b[0;34m)\u001b[0m \u001b[0;32mfor\u001b[0m \u001b[0ms\u001b[0m \u001b[0;32min\u001b[0m \u001b[0msamples\u001b[0m\u001b[0;34m]\u001b[0m\u001b[0;34m\u001b[0m\u001b[0;34m\u001b[0m\u001b[0m\n\u001b[1;32m    220\u001b[0m \u001b[0;34m\u001b[0m\u001b[0m\n\u001b[0;32m--> 221\u001b[0;31m         updated_sample_data = self.aqhttp.post(\n\u001b[0m\u001b[1;32m    222\u001b[0m             \u001b[0;34m\"browser/create_samples\"\u001b[0m\u001b[0;34m,\u001b[0m \u001b[0;34m{\u001b[0m\u001b[0;34m\"samples\"\u001b[0m\u001b[0;34m:\u001b[0m \u001b[0mjson_data\u001b[0m\u001b[0;34m}\u001b[0m\u001b[0;34m\u001b[0m\u001b[0;34m\u001b[0m\u001b[0m\n\u001b[1;32m    223\u001b[0m         )\n",
      "\u001b[0;32m~/anaconda3/envs/aqbt/lib/python3.8/site-packages/pydent/aqhttp.py\u001b[0m in \u001b[0;36mpost\u001b[0;34m(self, path, json_data, timeout, allow_none, **kwargs)\u001b[0m\n\u001b[1;32m    328\u001b[0m         \u001b[0;34m:\u001b[0m\u001b[0mrtype\u001b[0m\u001b[0;34m:\u001b[0m \u001b[0mdict\u001b[0m\u001b[0;34m\u001b[0m\u001b[0;34m\u001b[0m\u001b[0m\n\u001b[1;32m    329\u001b[0m         \"\"\"\n\u001b[0;32m--> 330\u001b[0;31m         return self.request(\n\u001b[0m\u001b[1;32m    331\u001b[0m             \u001b[0;34m\"post\"\u001b[0m\u001b[0;34m,\u001b[0m\u001b[0;34m\u001b[0m\u001b[0;34m\u001b[0m\u001b[0m\n\u001b[1;32m    332\u001b[0m             \u001b[0mpath\u001b[0m\u001b[0;34m,\u001b[0m\u001b[0;34m\u001b[0m\u001b[0;34m\u001b[0m\u001b[0m\n",
      "\u001b[0;32m~/anaconda3/envs/aqbt/lib/python3.8/site-packages/pydent/aqhttp.py\u001b[0m in \u001b[0;36mrequest\u001b[0;34m(self, method, path, timeout, allow_none, **kwargs)\u001b[0m\n\u001b[1;32m    259\u001b[0m         \u001b[0mself\u001b[0m\u001b[0;34m.\u001b[0m\u001b[0mlog\u001b[0m\u001b[0;34m.\u001b[0m\u001b[0minfo\u001b[0m\u001b[0;34m(\u001b[0m\u001b[0mself\u001b[0m\u001b[0;34m.\u001b[0m\u001b[0m_format_response_info\u001b[0m\u001b[0;34m(\u001b[0m\u001b[0mresponse\u001b[0m\u001b[0;34m)\u001b[0m\u001b[0;34m)\u001b[0m\u001b[0;34m\u001b[0m\u001b[0;34m\u001b[0m\u001b[0m\n\u001b[1;32m    260\u001b[0m         \u001b[0mself\u001b[0m\u001b[0;34m.\u001b[0m\u001b[0m_dispatch_response\u001b[0m\u001b[0;34m(\u001b[0m\u001b[0mresponse\u001b[0m\u001b[0;34m)\u001b[0m\u001b[0;34m\u001b[0m\u001b[0;34m\u001b[0m\u001b[0m\n\u001b[0;32m--> 261\u001b[0;31m         \u001b[0;32mreturn\u001b[0m \u001b[0mself\u001b[0m\u001b[0;34m.\u001b[0m\u001b[0m_response_to_json\u001b[0m\u001b[0;34m(\u001b[0m\u001b[0mresponse\u001b[0m\u001b[0;34m)\u001b[0m\u001b[0;34m\u001b[0m\u001b[0;34m\u001b[0m\u001b[0m\n\u001b[0m\u001b[1;32m    262\u001b[0m \u001b[0;34m\u001b[0m\u001b[0m\n\u001b[1;32m    263\u001b[0m     \u001b[0;32mdef\u001b[0m \u001b[0m_response_to_json\u001b[0m\u001b[0;34m(\u001b[0m\u001b[0mself\u001b[0m\u001b[0;34m,\u001b[0m \u001b[0mresponse\u001b[0m\u001b[0;34m:\u001b[0m \u001b[0mrequests\u001b[0m\u001b[0;34m.\u001b[0m\u001b[0mResponse\u001b[0m\u001b[0;34m)\u001b[0m \u001b[0;34m->\u001b[0m \u001b[0mdict\u001b[0m\u001b[0;34m:\u001b[0m\u001b[0;34m\u001b[0m\u001b[0;34m\u001b[0m\u001b[0m\n",
      "\u001b[0;32m~/anaconda3/envs/aqbt/lib/python3.8/site-packages/pydent/aqhttp.py\u001b[0m in \u001b[0;36m_response_to_json\u001b[0;34m(self, response)\u001b[0m\n\u001b[1;32m    287\u001b[0m                     \u001b[0merrors\u001b[0m \u001b[0;34m=\u001b[0m \u001b[0;34m\"\\n\"\u001b[0m\u001b[0;34m.\u001b[0m\u001b[0mjoin\u001b[0m\u001b[0;34m(\u001b[0m\u001b[0merrors\u001b[0m\u001b[0;34m)\u001b[0m\u001b[0;34m\u001b[0m\u001b[0;34m\u001b[0m\u001b[0m\n\u001b[1;32m    288\u001b[0m                 \u001b[0mmsg\u001b[0m \u001b[0;34m=\u001b[0m \u001b[0;34m\"Error response:\\n{}\"\u001b[0m\u001b[0;34m.\u001b[0m\u001b[0mformat\u001b[0m\u001b[0;34m(\u001b[0m\u001b[0merrors\u001b[0m\u001b[0;34m)\u001b[0m\u001b[0;34m\u001b[0m\u001b[0;34m\u001b[0m\u001b[0m\n\u001b[0;32m--> 289\u001b[0;31m                 \u001b[0;32mraise\u001b[0m \u001b[0mTridentRequestError\u001b[0m\u001b[0;34m(\u001b[0m\u001b[0mmsg\u001b[0m\u001b[0;34m,\u001b[0m \u001b[0mresponse\u001b[0m\u001b[0;34m)\u001b[0m\u001b[0;34m\u001b[0m\u001b[0;34m\u001b[0m\u001b[0m\n\u001b[0m\u001b[1;32m    290\u001b[0m         \u001b[0;32mreturn\u001b[0m \u001b[0mresponse_json\u001b[0m\u001b[0;34m\u001b[0m\u001b[0;34m\u001b[0m\u001b[0m\n\u001b[1;32m    291\u001b[0m \u001b[0;34m\u001b[0m\u001b[0m\n",
      "\u001b[0;31mTridentRequestError\u001b[0m: Error response:\nName The sample name '(SD2) pp2-pGRR-W10W8-ps' is the name of an existing sample"
     ]
    }
   ],
   "source": [
    "for f in tqdm(new_frags):\n",
    "    f.save()\n",
    "    \n",
    "    f_ = aq.Sample.find_by_name(f.name)\n",
    "    f_.update_properties({'Template': f_})\n",
    "    f_.save()"
   ]
  },
  {
   "cell_type": "code",
   "execution_count": null,
   "id": "distinguished-october",
   "metadata": {},
   "outputs": [],
   "source": [
    "frags = aq"
   ]
  }
 ],
 "metadata": {
  "kernelspec": {
   "display_name": "Python 3",
   "language": "python",
   "name": "python3"
  },
  "language_info": {
   "codemirror_mode": {
    "name": "ipython",
    "version": 3
   },
   "file_extension": ".py",
   "mimetype": "text/x-python",
   "name": "python",
   "nbconvert_exporter": "python",
   "pygments_lexer": "ipython3",
   "version": "3.8.5"
  }
 },
 "nbformat": 4,
 "nbformat_minor": 5
}
