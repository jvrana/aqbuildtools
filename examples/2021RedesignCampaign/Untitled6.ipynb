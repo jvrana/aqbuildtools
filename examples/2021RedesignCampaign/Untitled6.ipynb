{
 "cells": [
  {
   "cell_type": "code",
   "execution_count": 1,
   "id": "exclusive-crime",
   "metadata": {},
   "outputs": [],
   "source": [
    "import sys\n",
    "import os\n",
    "import pandas as pd\n",
    "\n",
    "path = os.path.abspath('../..')\n",
    "if path not in sys.path:\n",
    "    sys.path.insert(0, path)\n",
    "    \n",
    "sys.path\n",
    "\n",
    "from primer3plus.utils import reverse_complement as rc\n",
    "import primer3\n",
    "from aqbt.contrib.uwbf import primer_utils\n",
    "from aqbt import AquariumBuildTools\n",
    "aqtools = AquariumBuildTools.from_toml('creds.secret.toml')\n",
    "aqtools.sessions\n",
    "\n",
    "aq = aqtools.sessions['production']['aquarium']"
   ]
  },
  {
   "cell_type": "code",
   "execution_count": 32,
   "id": "downtown-electric",
   "metadata": {},
   "outputs": [
    {
     "data": {
      "text/html": [
       "<div>\n",
       "<style scoped>\n",
       "    .dataframe tbody tr th:only-of-type {\n",
       "        vertical-align: middle;\n",
       "    }\n",
       "\n",
       "    .dataframe tbody tr th {\n",
       "        vertical-align: top;\n",
       "    }\n",
       "\n",
       "    .dataframe thead th {\n",
       "        text-align: right;\n",
       "    }\n",
       "</style>\n",
       "<table border=\"1\" class=\"dataframe\">\n",
       "  <thead>\n",
       "    <tr style=\"text-align: right;\">\n",
       "      <th></th>\n",
       "      <th>Description</th>\n",
       "      <th>Haploid 1</th>\n",
       "      <th>Haploid 2</th>\n",
       "      <th>Marker</th>\n",
       "    </tr>\n",
       "  </thead>\n",
       "  <tbody>\n",
       "    <tr>\n",
       "      <th>0</th>\n",
       "      <td>DSGRN NOR (BAD)</td>\n",
       "      <td>36489</td>\n",
       "      <td>36501</td>\n",
       "      <td>TRP, LEU</td>\n",
       "    </tr>\n",
       "    <tr>\n",
       "      <th>1</th>\n",
       "      <td>DSGRN NOR (GOOD)</td>\n",
       "      <td>36536</td>\n",
       "      <td>36537</td>\n",
       "      <td>TRP, LEU</td>\n",
       "    </tr>\n",
       "    <tr>\n",
       "      <th>2</th>\n",
       "      <td>DSGRN OR (BAD)</td>\n",
       "      <td>36489</td>\n",
       "      <td>36497</td>\n",
       "      <td>TRP, BLEO</td>\n",
       "    </tr>\n",
       "    <tr>\n",
       "      <th>3</th>\n",
       "      <td>DSGRN OR (GOOD)</td>\n",
       "      <td>36498</td>\n",
       "      <td>36499</td>\n",
       "      <td>TRP, BLEO</td>\n",
       "    </tr>\n",
       "    <tr>\n",
       "      <th>4</th>\n",
       "      <td>GANDER NOR (BAD)</td>\n",
       "      <td>36399</td>\n",
       "      <td>36381</td>\n",
       "      <td>TRP, URA</td>\n",
       "    </tr>\n",
       "    <tr>\n",
       "      <th>5</th>\n",
       "      <td>GANDER NOR (GOOD)</td>\n",
       "      <td>36400</td>\n",
       "      <td>36382</td>\n",
       "      <td>TRP, URA</td>\n",
       "    </tr>\n",
       "    <tr>\n",
       "      <th>6</th>\n",
       "      <td>GANDER OR (BAD)</td>\n",
       "      <td>36500</td>\n",
       "      <td>36538</td>\n",
       "      <td>TRP, LEU</td>\n",
       "    </tr>\n",
       "    <tr>\n",
       "      <th>7</th>\n",
       "      <td>GANDER OR (GOOD)</td>\n",
       "      <td>36491</td>\n",
       "      <td>36539</td>\n",
       "      <td>TRP, LEU</td>\n",
       "    </tr>\n",
       "    <tr>\n",
       "      <th>8</th>\n",
       "      <td>GANDER OR (BAD) (v2)</td>\n",
       "      <td>36500</td>\n",
       "      <td>36540</td>\n",
       "      <td>TRP, LEU</td>\n",
       "    </tr>\n",
       "  </tbody>\n",
       "</table>\n",
       "</div>"
      ],
      "text/plain": [
       "            Description  Haploid 1  Haploid 2     Marker\n",
       "0       DSGRN NOR (BAD)      36489      36501   TRP, LEU\n",
       "1      DSGRN NOR (GOOD)      36536      36537   TRP, LEU\n",
       "2        DSGRN OR (BAD)      36489      36497  TRP, BLEO\n",
       "3       DSGRN OR (GOOD)      36498      36499  TRP, BLEO\n",
       "4      GANDER NOR (BAD)      36399      36381   TRP, URA\n",
       "5     GANDER NOR (GOOD)      36400      36382   TRP, URA\n",
       "6       GANDER OR (BAD)      36500      36538   TRP, LEU\n",
       "7      GANDER OR (GOOD)      36491      36539   TRP, LEU\n",
       "8  GANDER OR (BAD) (v2)      36500      36540   TRP, LEU"
      ]
     },
     "metadata": {},
     "output_type": "display_data"
    },
    {
     "ename": "TridentRequestError",
     "evalue": "Error response:\nName The sample name 'Dual Inducible NOR circuit (DSGRN topology, low performance CDM)' is the name of an existing sample",
     "output_type": "error",
     "traceback": [
      "\u001b[0;31m---------------------------------------------------------------------------\u001b[0m",
      "\u001b[0;31mTridentRequestError\u001b[0m                       Traceback (most recent call last)",
      "\u001b[0;32m<ipython-input-32-c6d5871caf87>\u001b[0m in \u001b[0;36m<module>\u001b[0;34m\u001b[0m\n\u001b[1;32m     69\u001b[0m         \u001b[0ms\u001b[0m\u001b[0;34m.\u001b[0m\u001b[0mname\u001b[0m \u001b[0;34m=\u001b[0m \u001b[0mname\u001b[0m \u001b[0;34m+\u001b[0m \u001b[0mversion\u001b[0m\u001b[0;34m\u001b[0m\u001b[0;34m\u001b[0m\u001b[0m\n\u001b[1;32m     70\u001b[0m         \u001b[0ms\u001b[0m\u001b[0;34m.\u001b[0m\u001b[0mdescription\u001b[0m \u001b[0;34m=\u001b[0m \u001b[0mdescription\u001b[0m\u001b[0;34m\u001b[0m\u001b[0;34m\u001b[0m\u001b[0m\n\u001b[0;32m---> 71\u001b[0;31m         \u001b[0ms\u001b[0m\u001b[0;34m.\u001b[0m\u001b[0msave\u001b[0m\u001b[0;34m(\u001b[0m\u001b[0;34m)\u001b[0m\u001b[0;34m\u001b[0m\u001b[0;34m\u001b[0m\u001b[0m\n\u001b[0m",
      "\u001b[0;32m~/anaconda3/envs/aqbt/lib/python3.8/site-packages/pydent/models/sample.py\u001b[0m in \u001b[0;36msave\u001b[0;34m(self)\u001b[0m\n\u001b[1;32m    172\u001b[0m             \u001b[0mself\u001b[0m\u001b[0;34m.\u001b[0m\u001b[0mupdate\u001b[0m\u001b[0;34m(\u001b[0m\u001b[0;34m)\u001b[0m\u001b[0;34m\u001b[0m\u001b[0;34m\u001b[0m\u001b[0m\n\u001b[1;32m    173\u001b[0m         \u001b[0;32melse\u001b[0m\u001b[0;34m:\u001b[0m\u001b[0;34m\u001b[0m\u001b[0;34m\u001b[0m\u001b[0m\n\u001b[0;32m--> 174\u001b[0;31m             \u001b[0mself\u001b[0m\u001b[0;34m.\u001b[0m\u001b[0mcreate\u001b[0m\u001b[0;34m(\u001b[0m\u001b[0;34m)\u001b[0m\u001b[0;34m\u001b[0m\u001b[0;34m\u001b[0m\u001b[0m\n\u001b[0m\u001b[1;32m    175\u001b[0m \u001b[0;34m\u001b[0m\u001b[0m\n\u001b[1;32m    176\u001b[0m     \u001b[0;32mdef\u001b[0m \u001b[0mupdate\u001b[0m\u001b[0;34m(\u001b[0m\u001b[0mself\u001b[0m\u001b[0;34m)\u001b[0m \u001b[0;34m->\u001b[0m \u001b[0;34m\"Sample\"\u001b[0m\u001b[0;34m:\u001b[0m\u001b[0;34m\u001b[0m\u001b[0;34m\u001b[0m\u001b[0m\n",
      "\u001b[0;32m~/anaconda3/envs/aqbt/lib/python3.8/site-packages/pydent/models/sample.py\u001b[0m in \u001b[0;36mcreate\u001b[0;34m(self)\u001b[0m\n\u001b[1;32m    138\u001b[0m         \"\"\"\n\u001b[1;32m    139\u001b[0m         \u001b[0mself\u001b[0m\u001b[0;34m.\u001b[0m\u001b[0mis_savable\u001b[0m\u001b[0;34m(\u001b[0m\u001b[0mdo_raise\u001b[0m\u001b[0;34m=\u001b[0m\u001b[0;32mTrue\u001b[0m\u001b[0;34m)\u001b[0m\u001b[0;34m\u001b[0m\u001b[0;34m\u001b[0m\u001b[0m\n\u001b[0;32m--> 140\u001b[0;31m         \u001b[0;32mreturn\u001b[0m \u001b[0mself\u001b[0m\u001b[0;34m.\u001b[0m\u001b[0msession\u001b[0m\u001b[0;34m.\u001b[0m\u001b[0mutils\u001b[0m\u001b[0;34m.\u001b[0m\u001b[0mcreate_samples\u001b[0m\u001b[0;34m(\u001b[0m\u001b[0;34m[\u001b[0m\u001b[0mself\u001b[0m\u001b[0;34m]\u001b[0m\u001b[0;34m)\u001b[0m\u001b[0;34m\u001b[0m\u001b[0;34m\u001b[0m\u001b[0m\n\u001b[0m\u001b[1;32m    141\u001b[0m \u001b[0;34m\u001b[0m\u001b[0m\n\u001b[1;32m    142\u001b[0m     \u001b[0;32mdef\u001b[0m \u001b[0mis_savable\u001b[0m\u001b[0;34m(\u001b[0m\u001b[0mself\u001b[0m\u001b[0;34m,\u001b[0m \u001b[0mdo_raise\u001b[0m\u001b[0;34m:\u001b[0m \u001b[0mbool\u001b[0m \u001b[0;34m=\u001b[0m \u001b[0;32mTrue\u001b[0m\u001b[0;34m)\u001b[0m \u001b[0;34m->\u001b[0m \u001b[0mTuple\u001b[0m\u001b[0;34m[\u001b[0m\u001b[0mbool\u001b[0m\u001b[0;34m,\u001b[0m \u001b[0mList\u001b[0m\u001b[0;34m[\u001b[0m\u001b[0mstr\u001b[0m\u001b[0;34m]\u001b[0m\u001b[0;34m]\u001b[0m\u001b[0;34m:\u001b[0m\u001b[0;34m\u001b[0m\u001b[0;34m\u001b[0m\u001b[0m\n",
      "\u001b[0;32m~/anaconda3/envs/aqbt/lib/python3.8/site-packages/pydent/interfaces.py\u001b[0m in \u001b[0;36mcreate_samples\u001b[0;34m(self, samples)\u001b[0m\n\u001b[1;32m    219\u001b[0m         \u001b[0mjson_data\u001b[0m \u001b[0;34m=\u001b[0m \u001b[0;34m[\u001b[0m\u001b[0ms\u001b[0m\u001b[0;34m.\u001b[0m\u001b[0mdump\u001b[0m\u001b[0;34m(\u001b[0m\u001b[0minclude\u001b[0m\u001b[0;34m=\u001b[0m\u001b[0;34m(\u001b[0m\u001b[0;34m\"field_values\"\u001b[0m\u001b[0;34m,\u001b[0m\u001b[0;34m)\u001b[0m\u001b[0;34m)\u001b[0m \u001b[0;32mfor\u001b[0m \u001b[0ms\u001b[0m \u001b[0;32min\u001b[0m \u001b[0msamples\u001b[0m\u001b[0;34m]\u001b[0m\u001b[0;34m\u001b[0m\u001b[0;34m\u001b[0m\u001b[0m\n\u001b[1;32m    220\u001b[0m \u001b[0;34m\u001b[0m\u001b[0m\n\u001b[0;32m--> 221\u001b[0;31m         updated_sample_data = self.aqhttp.post(\n\u001b[0m\u001b[1;32m    222\u001b[0m             \u001b[0;34m\"browser/create_samples\"\u001b[0m\u001b[0;34m,\u001b[0m \u001b[0;34m{\u001b[0m\u001b[0;34m\"samples\"\u001b[0m\u001b[0;34m:\u001b[0m \u001b[0mjson_data\u001b[0m\u001b[0;34m}\u001b[0m\u001b[0;34m\u001b[0m\u001b[0;34m\u001b[0m\u001b[0m\n\u001b[1;32m    223\u001b[0m         )\n",
      "\u001b[0;32m~/anaconda3/envs/aqbt/lib/python3.8/site-packages/pydent/aqhttp.py\u001b[0m in \u001b[0;36mpost\u001b[0;34m(self, path, json_data, timeout, allow_none, **kwargs)\u001b[0m\n\u001b[1;32m    328\u001b[0m         \u001b[0;34m:\u001b[0m\u001b[0mrtype\u001b[0m\u001b[0;34m:\u001b[0m \u001b[0mdict\u001b[0m\u001b[0;34m\u001b[0m\u001b[0;34m\u001b[0m\u001b[0m\n\u001b[1;32m    329\u001b[0m         \"\"\"\n\u001b[0;32m--> 330\u001b[0;31m         return self.request(\n\u001b[0m\u001b[1;32m    331\u001b[0m             \u001b[0;34m\"post\"\u001b[0m\u001b[0;34m,\u001b[0m\u001b[0;34m\u001b[0m\u001b[0;34m\u001b[0m\u001b[0m\n\u001b[1;32m    332\u001b[0m             \u001b[0mpath\u001b[0m\u001b[0;34m,\u001b[0m\u001b[0;34m\u001b[0m\u001b[0;34m\u001b[0m\u001b[0m\n",
      "\u001b[0;32m~/anaconda3/envs/aqbt/lib/python3.8/site-packages/pydent/aqhttp.py\u001b[0m in \u001b[0;36mrequest\u001b[0;34m(self, method, path, timeout, allow_none, **kwargs)\u001b[0m\n\u001b[1;32m    259\u001b[0m         \u001b[0mself\u001b[0m\u001b[0;34m.\u001b[0m\u001b[0mlog\u001b[0m\u001b[0;34m.\u001b[0m\u001b[0minfo\u001b[0m\u001b[0;34m(\u001b[0m\u001b[0mself\u001b[0m\u001b[0;34m.\u001b[0m\u001b[0m_format_response_info\u001b[0m\u001b[0;34m(\u001b[0m\u001b[0mresponse\u001b[0m\u001b[0;34m)\u001b[0m\u001b[0;34m)\u001b[0m\u001b[0;34m\u001b[0m\u001b[0;34m\u001b[0m\u001b[0m\n\u001b[1;32m    260\u001b[0m         \u001b[0mself\u001b[0m\u001b[0;34m.\u001b[0m\u001b[0m_dispatch_response\u001b[0m\u001b[0;34m(\u001b[0m\u001b[0mresponse\u001b[0m\u001b[0;34m)\u001b[0m\u001b[0;34m\u001b[0m\u001b[0;34m\u001b[0m\u001b[0m\n\u001b[0;32m--> 261\u001b[0;31m         \u001b[0;32mreturn\u001b[0m \u001b[0mself\u001b[0m\u001b[0;34m.\u001b[0m\u001b[0m_response_to_json\u001b[0m\u001b[0;34m(\u001b[0m\u001b[0mresponse\u001b[0m\u001b[0;34m)\u001b[0m\u001b[0;34m\u001b[0m\u001b[0;34m\u001b[0m\u001b[0m\n\u001b[0m\u001b[1;32m    262\u001b[0m \u001b[0;34m\u001b[0m\u001b[0m\n\u001b[1;32m    263\u001b[0m     \u001b[0;32mdef\u001b[0m \u001b[0m_response_to_json\u001b[0m\u001b[0;34m(\u001b[0m\u001b[0mself\u001b[0m\u001b[0;34m,\u001b[0m \u001b[0mresponse\u001b[0m\u001b[0;34m:\u001b[0m \u001b[0mrequests\u001b[0m\u001b[0;34m.\u001b[0m\u001b[0mResponse\u001b[0m\u001b[0;34m)\u001b[0m \u001b[0;34m->\u001b[0m \u001b[0mdict\u001b[0m\u001b[0;34m:\u001b[0m\u001b[0;34m\u001b[0m\u001b[0;34m\u001b[0m\u001b[0m\n",
      "\u001b[0;32m~/anaconda3/envs/aqbt/lib/python3.8/site-packages/pydent/aqhttp.py\u001b[0m in \u001b[0;36m_response_to_json\u001b[0;34m(self, response)\u001b[0m\n\u001b[1;32m    287\u001b[0m                     \u001b[0merrors\u001b[0m \u001b[0;34m=\u001b[0m \u001b[0;34m\"\\n\"\u001b[0m\u001b[0;34m.\u001b[0m\u001b[0mjoin\u001b[0m\u001b[0;34m(\u001b[0m\u001b[0merrors\u001b[0m\u001b[0;34m)\u001b[0m\u001b[0;34m\u001b[0m\u001b[0;34m\u001b[0m\u001b[0m\n\u001b[1;32m    288\u001b[0m                 \u001b[0mmsg\u001b[0m \u001b[0;34m=\u001b[0m \u001b[0;34m\"Error response:\\n{}\"\u001b[0m\u001b[0;34m.\u001b[0m\u001b[0mformat\u001b[0m\u001b[0;34m(\u001b[0m\u001b[0merrors\u001b[0m\u001b[0;34m)\u001b[0m\u001b[0;34m\u001b[0m\u001b[0;34m\u001b[0m\u001b[0m\n\u001b[0;32m--> 289\u001b[0;31m                 \u001b[0;32mraise\u001b[0m \u001b[0mTridentRequestError\u001b[0m\u001b[0;34m(\u001b[0m\u001b[0mmsg\u001b[0m\u001b[0;34m,\u001b[0m \u001b[0mresponse\u001b[0m\u001b[0;34m)\u001b[0m\u001b[0;34m\u001b[0m\u001b[0;34m\u001b[0m\u001b[0m\n\u001b[0m\u001b[1;32m    290\u001b[0m         \u001b[0;32mreturn\u001b[0m \u001b[0mresponse_json\u001b[0m\u001b[0;34m\u001b[0m\u001b[0;34m\u001b[0m\u001b[0m\n\u001b[1;32m    291\u001b[0m \u001b[0;34m\u001b[0m\u001b[0m\n",
      "\u001b[0;31mTridentRequestError\u001b[0m: Error response:\nName The sample name 'Dual Inducible NOR circuit (DSGRN topology, low performance CDM)' is the name of an existing sample"
     ]
    }
   ],
   "source": [
    "from IPython.display import display\n",
    "\n",
    "yeast_type = aq.SampleType.find_by_name('Yeast Strain')\n",
    "\n",
    "def mating(a, b, marker, description):\n",
    "    y1 = aq.Sample.find(a)\n",
    "    y2 = aq.Sample.find(b)\n",
    "    assert y1\n",
    "    assert y2\n",
    "    \n",
    "    haploids = sorted([y1, y2], key=lambda x: x.name)\n",
    "    \n",
    "    return aq.Sample.new(\n",
    "        name = description,\n",
    "        sample_type_id=yeast_type.id,\n",
    "        description=description,\n",
    "        project='SD2 2021 Redesigns',\n",
    "        properties={\n",
    "            'Haploids': haploids,\n",
    "            'Mating Type': 'Diploid',\n",
    "            'Has this strain passed QC?': 'Yes',\n",
    "            'Integrated Marker(s)': marker\n",
    "        }\n",
    "    )\n",
    "\n",
    "import pandas as pd\n",
    "\n",
    "x = ',Description,Haploid 1,Haploid 2,Marker\\n0,DSGRN NOR (BAD),36489,36501,\"TRP, LEU\"\\n1,DSGRN NOR (GOOD),36536,36537,\"TRP, LEU\"\\n2,DSGRN OR (BAD),36489,36497,\"TRP, BLEO\"\\n3,DSGRN OR (GOOD),36498,36499,\"TRP, BLEO\"\\n4,GANDER NOR (BAD),36399,36381,\"TRP, URA\"\\n5,GANDER NOR (GOOD),36400,36382,\"TRP, URA\"\\n6,GANDER OR (BAD),36500,36538,\"TRP, LEU\"\\n7,GANDER OR (GOOD),36491,36539,\"TRP, LEU\"\\n8,GANDER OR (BAD) (v2),36500,36540,\"TRP, LEU\"\\n'\n",
    "\n",
    "with open('mating.csv', 'w') as f:\n",
    "    f.write(x)\n",
    "    \n",
    "\n",
    "df = pd.read_csv('mating.csv', index_col=0)\n",
    "display(df)\n",
    "\n",
    "samples = []\n",
    "for _, row in df.iterrows():\n",
    "    s = mating(row['Haploid 1'], row['Haploid 2'], marker=row['Marker'], description=row['Description'])\n",
    "    samples.append(s)\n",
    "    \n",
    "for s in samples:\n",
    "    if aq.Sample.find_by_name(s.name):\n",
    "        tokens = s.name.split()\n",
    "        topo = tokens[0]\n",
    "        circuit = tokens[1]\n",
    "        cdm = tokens[2]\n",
    "        if len(tokens) == 4:\n",
    "            version = ' ' + tokens[3]\n",
    "        else:\n",
    "            version = ''\n",
    "            \n",
    "        if 'BAD' in cdm:\n",
    "            perf = 'low performance'\n",
    "            x='low'\n",
    "        else:\n",
    "            perf = 'high performance'\n",
    "            x='high'\n",
    "        name = 'Dual Inducible {circuit} circuit ({topo} topology, {perf} CDM)'.format(\n",
    "            circuit=circuit,\n",
    "            topo=topo,\n",
    "            perf=perf\n",
    "        )\n",
    "        description = 'Doxycycline and Beta-estradiol inducible {circuit} circuit. {topo} topology. Predicted {perf} gRNA selection by CDM.'.format(\n",
    "            circuit=circuit,\n",
    "            topo=topo,\n",
    "            perf=perf\n",
    "        )\n",
    "        s.name = name + version\n",
    "        s.description = description\n",
    "        s.save()\n"
   ]
  },
  {
   "cell_type": "code",
   "execution_count": 36,
   "id": "insured-charge",
   "metadata": {},
   "outputs": [
    {
     "name": "stdout",
     "output_type": "stream",
     "text": [
      "UWBF_36564\n",
      "UWBF_36565\n",
      "UWBF_36566\n",
      "UWBF_36567\n",
      "UWBF_36568\n",
      "UWBF_36569\n",
      "UWBF_36570\n",
      "UWBF_36571\n"
     ]
    }
   ],
   "source": [
    "s = [36564,\n",
    "36565,\n",
    "36566,\n",
    "36567,\n",
    "36568,\n",
    "36569,\n",
    "36570,\n",
    "36571]\n",
    "\n",
    "for sid in s:\n",
    "    print('UWBF_' + str(aq.Sample.find(sid).id))"
   ]
  },
  {
   "cell_type": "code",
   "execution_count": 25,
   "id": "overall-triumph",
   "metadata": {},
   "outputs": [
    {
     "data": {
      "text/plain": [
       "<pydent.models.sample.Sample at 0x7f7fb21fb700>"
      ]
     },
     "execution_count": 25,
     "metadata": {},
     "output_type": "execute_result"
    }
   ],
   "source": [
    "Doxycycline and Beta-estradiol inducible OR circuit. Gander topology. Predicted high performance gRNA selection by CDM."
   ]
  },
  {
   "cell_type": "code",
   "execution_count": 44,
   "id": "conscious-remains",
   "metadata": {},
   "outputs": [
    {
     "data": {
      "text/plain": [
       "'CEN.PK2 - MAT A ::: pMOD4G-dcas9-mxi1 | pMOD-HO-KanMX-pRPL18B-rtTA-VP16 | HIS-HIS<7XTetO-pMinCyc1-URGR-W8> | URA-URA<pGRR-W10W8-URGR-W5> (v2)'"
      ]
     },
     "execution_count": 44,
     "metadata": {},
     "output_type": "execute_result"
    }
   ],
   "source": [
    "aq.Sample.find(36566).properties['Haploids'][0].name"
   ]
  },
  {
   "cell_type": "code",
   "execution_count": null,
   "id": "herbal-milton",
   "metadata": {},
   "outputs": [],
   "source": []
  },
  {
   "cell_type": "code",
   "execution_count": 39,
   "id": "clean-ability",
   "metadata": {},
   "outputs": [
    {
     "data": {
      "text/plain": [
       "'CEN.PK2 - MAT A ::: pMOD4G-dcas9-mxi1 | pMOD6-GPD-UAS-25-pCYC1-yeGFP _X_ CEN.PK2 - MAT alpha ::: pMOD-HO-KanMX-pREV1-rtTA-VPR | pMOD8-7TetO-pMinCYC-RGR-r2'"
      ]
     },
     "execution_count": 39,
     "metadata": {},
     "output_type": "execute_result"
    }
   ],
   "source": [
    "aq.Sample.find(36109).name"
   ]
  },
  {
   "cell_type": "code",
   "execution_count": 45,
   "id": "noble-gauge",
   "metadata": {},
   "outputs": [
    {
     "name": "stdout",
     "output_type": "stream",
     "text": [
      "CEN.PK2 - MAT A ::: pMOD4G-dcas9-mxi1 _X_ CEN.PK2 - MAT alpha ::: pMOD-HO-KanMX-pRPL18B-rtTA-VP16 | pMOD8-7TetO-pMinCYC-yeGFP(broken)\n",
      "CEN.PK2 - MAT A ::: pMOD4G-dcas9-mxi1 | pMOD6-GPD-UAS-25-pCYC1-yeGFP _X_ CEN.PK2 - MAT alpha ::: pMOD-HO-KanMX-pRPL18B-rtTA-VP16 | pMOD8-7TetO-pMinCYC-RGR-r2\n",
      "CEN.PK2 - MAT A ::: pMOD4G-dcas9-mxi1 | pMOD6-pGRR-r9-yeGFP _X_ CEN.PK2 - MAT alpha ::: pMOD-HO-KanMX-pRPL18B-rtTA-VP16 | pMOD8-7TetO-pMinCYC-URGR-r9\n",
      "CEN.PK2 - MAT A ::: pMOD4G-dcas9-mxi1 | pMOD6-pGRR-r7-yeGFP _X_ CEN.PK2 - MAT alpha ::: pMOD-HO-KanMX-pRPL18B-rtTA-VP16 | pMOD8-7TetO-pMinCYC-URGR-r7\n",
      "CEN.PK2 - MAT A ::: pMOD4G-dcas9-mxi1 | pMOD6-pGRR-r10-yeGFP _X_ CEN.PK2 - MAT alpha ::: pMOD-HO-KanMX-pRPL18B-rtTA-VP16 | pMOD8-7TetO-pMinCYC-URGR-r10\n",
      "CEN.PK2 - MAT A ::: pMOD4G-dcas9-mxi1 | pMOD6-pGRR-r5-yeGFP _X_ CEN.PK2 - MAT alpha ::: pMOD-HO-KanMX-pRPL18B-rtTA-VP16 | pMOD8-7TetO-pMinCYC-URGR-r5\n",
      "CEN.PK2 - MAT A ::: pMOD4G-dcas9-mxi1 | pMOD6-pGRR-r1-yeGFP _X_ CEN.PK2 - MAT alpha ::: pMOD-HO-KanMX-pRPL18B-rtTA-VP16 | pMOD8-7TetO-pMinCYC-URGR-r1\n",
      "CEN.PK2 - MAT A ::: pMOD4G-dcas9-mxi1 | pMOD6-pGRR-r3-yeGFP _X_ CEN.PK2 - MAT alpha ::: pMOD-HO-KanMX-pRPL18B-rtTA-VP16 | pMOD8-7TetO-pMinCYC-URGR-r3\n",
      "CEN.PK2 - MAT A ::: pMOD4G-dcas9-mxi1 | pMOD6-pGRR-r2-yeGFP _X_ CEN.PK2 - MAT alpha ::: pMOD-HO-KanMX-pRPL18B-rtTA-VP16 | pMOD8-7TetO-pMinCYC-URGR-r2\n",
      "CEN.PK2 - MAT A ::: pMOD4G-dcas9-mxi1 _X_ CEN.PK2 - MAT alpha ::: pMOD-HO-KanMX-pRPL18B-rtTA-VP16 | pMOD8-7XTetO-minCyc1-yeGFP\n"
     ]
    }
   ],
   "source": [
    "s = [\n",
    "    36108,\n",
    "36109,\n",
    "36110,\n",
    "36111,\n",
    "36112,\n",
    "36113,\n",
    "36114,\n",
    "36115,\n",
    "36116,\n",
    "36117]\n",
    "\n",
    "for _s in s:\n",
    "    print(aq.Sample.find(_s).name)"
   ]
  }
 ],
 "metadata": {
  "kernelspec": {
   "display_name": "Python 3",
   "language": "python",
   "name": "python3"
  },
  "language_info": {
   "codemirror_mode": {
    "name": "ipython",
    "version": 3
   },
   "file_extension": ".py",
   "mimetype": "text/x-python",
   "name": "python",
   "nbconvert_exporter": "python",
   "pygments_lexer": "ipython3",
   "version": "3.8.5"
  }
 },
 "nbformat": 4,
 "nbformat_minor": 5
}
