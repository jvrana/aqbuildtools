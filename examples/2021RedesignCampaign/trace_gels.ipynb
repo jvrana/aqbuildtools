{
 "cells": [
  {
   "cell_type": "code",
   "execution_count": 4,
   "id": "minor-regression",
   "metadata": {},
   "outputs": [],
   "source": [
    "import sys\n",
    "import os\n",
    "import pandas as pd\n",
    "\n",
    "path = os.path.abspath('../..')\n",
    "if path not in sys.path:\n",
    "    sys.path.insert(0, path)\n",
    "    \n",
    "sys.path\n",
    "\n",
    "from primer3plus.utils import reverse_complement as rc\n",
    "import primer3\n",
    "from aqbt.contrib.uwbf import primer_utils\n",
    "from aqbt import AquariumBuildTools\n",
    "aqtools = AquariumBuildTools.from_toml('creds.secret.toml')\n",
    "aqtools.sessions\n",
    "\n",
    "aq = aqtools.sessions['production']['aquarium']"
   ]
  },
  {
   "cell_type": "markdown",
   "id": "extreme-familiar",
   "metadata": {},
   "source": [
    "# Evaluate Homologies\n",
    "\n",
    "Evaluate sequences and homologies for all fragments. Evaluate appropriate melting temperatues."
   ]
  },
  {
   "cell_type": "markdown",
   "id": "referenced-matthew",
   "metadata": {},
   "source": [
    "# Evaluate Gels"
   ]
  },
  {
   "cell_type": "code",
   "execution_count": 15,
   "id": "statutory-belarus",
   "metadata": {},
   "outputs": [
    {
     "name": "stdout",
     "output_type": "stream",
     "text": [
      "<Item id=511997 rid=36>\n"
     ]
    }
   ],
   "source": [
    "item = aq.Item.find(512001)\n",
    "\n",
    "fvs = aq.FieldValue.where({'role': 'output', 'child_item_id': item.id})\n",
    "op = fvs[0].operation\n",
    "\n",
    "for fv in op.inputs:\n",
    "    print(fv.item)"
   ]
  },
  {
   "cell_type": "code",
   "execution_count": 48,
   "id": "equivalent-inside",
   "metadata": {},
   "outputs": [
    {
     "data": {
      "image/png": "[encoded data removed]",
      "text/plain": [
       "<Figure size 432x288 with 1 Axes>"
      ]
     },
     "metadata": {},
     "output_type": "display_data"
    }
   ],
   "source": [
    "import networkx as nx\n",
    "\n",
    "\n",
    "def get_predecessors_ops(item):\n",
    "    fvs = aq.FieldValue.where({'role': 'output', 'child_item_id': item.id})\n",
    "    for fv in fvs:\n",
    "        yield fv.operation\n",
    "        \n",
    "def get_predecessor_items(op):\n",
    "    for fv in op.inputs:\n",
    "        if fv.item:\n",
    "            yield fv.item\n",
    "\n",
    "class SampleGraph(object):\n",
    "    \n",
    "    def __init__(self):\n",
    "        self.g = nx.DiGraph()\n",
    "        \n",
    "    def to_hash(self, x):\n",
    "        return (x.__class__.__name__, x.id)\n",
    "        \n",
    "    def add_node(self, x):\n",
    "        k = self.to_hash(x)\n",
    "        data = x.dump()\n",
    "        self.g.add_node(k, data=data)\n",
    "        return k, data\n",
    "    \n",
    "    def add_edge(self, m1, m2, **kwargs):\n",
    "        n1, _ = self.add_node(m1)\n",
    "        n2, _ = self.add_node(m2)\n",
    "        self.g.add_edge(n1, n2, **kwargs)\n",
    "\n",
    "g = SampleGraph()\n",
    "\n",
    "items = [aq.Item.find(512001)]\n",
    "depth = 0\n",
    "while items and depth < 4:\n",
    "    depth += 1\n",
    "    visited = []\n",
    "    for i2 in items:\n",
    "        ops = get_predecessors_ops(i2)\n",
    "        for op in ops:\n",
    "            for i1 in get_predecessor_items(op):\n",
    "                g.add_edge(i1, i2)\n",
    "                visited.append(i1)\n",
    "    items = visited\n",
    "\n",
    "nx.draw(g.g)"
   ]
  },
  {
   "cell_type": "code",
   "execution_count": 27,
   "id": "sustained-logistics",
   "metadata": {},
   "outputs": [
    {
     "data": {
      "text/plain": [
       "'Gel Slice'"
      ]
     },
     "execution_count": 27,
     "metadata": {},
     "output_type": "execute_result"
    }
   ],
   "source": [
    "item[0].object_type.name"
   ]
  }
 ],
 "metadata": {
  "kernelspec": {
   "display_name": "Python 3",
   "language": "python",
   "name": "python3"
  },
  "language_info": {
   "codemirror_mode": {
    "name": "ipython",
    "version": 3
   },
   "file_extension": ".py",
   "mimetype": "text/x-python",
   "name": "python",
   "nbconvert_exporter": "python",
   "pygments_lexer": "ipython3",
   "version": "3.8.5"
  }
 },
 "nbformat": 4,
 "nbformat_minor": 5
}
