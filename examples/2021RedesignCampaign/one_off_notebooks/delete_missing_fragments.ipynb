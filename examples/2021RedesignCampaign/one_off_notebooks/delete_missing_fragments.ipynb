{
 "cells": [
  {
   "cell_type": "code",
   "execution_count": 15,
   "id": "fluid-hindu",
   "metadata": {},
   "outputs": [
    {
     "data": {
      "text/plain": [
       "['/home/justin/Github/aqbuildtools',\n",
       " '/home/justin/Github/aqbuildtools/examples/2021RedesignCampaign',\n",
       " '/home/justin/anaconda3/envs/aqbt/lib/python38.zip',\n",
       " '/home/justin/anaconda3/envs/aqbt/lib/python3.8',\n",
       " '/home/justin/anaconda3/envs/aqbt/lib/python3.8/lib-dynload',\n",
       " '',\n",
       " '/home/justin/anaconda3/envs/aqbt/lib/python3.8/site-packages',\n",
       " '/home/justin/anaconda3/envs/aqbt/lib/python3.8/site-packages/IPython/extensions',\n",
       " '/home/justin/.ipython']"
      ]
     },
     "execution_count": 15,
     "metadata": {},
     "output_type": "execute_result"
    }
   ],
   "source": [
    "import sys\n",
    "import os\n",
    "\n",
    "path = os.path.abspath('../..')\n",
    "if path not in sys.path:\n",
    "    sys.path.insert(0, path)\n",
    "    \n",
    "sys.path"
   ]
  },
  {
   "cell_type": "code",
   "execution_count": 16,
   "id": "surrounded-yugoslavia",
   "metadata": {},
   "outputs": [],
   "source": [
    "from aqbt import AquariumBuildTools\n",
    "aqtools = AquariumBuildTools.from_toml('creds.secret.toml')\n",
    "aqtools.sessions\n",
    "\n",
    "aq = aqtools.sessions['production']['aquarium']\n",
    "aq.set_timeout(70)"
   ]
  },
  {
   "cell_type": "code",
   "execution_count": 13,
   "id": "cross-football",
   "metadata": {},
   "outputs": [],
   "source": [
    "jas = aq.JobAssociation.where({'job_id': [115733,\n",
    "                                   ]})\n",
    "\n",
    "\n",
    "op_ids = [ja.operation_id for ja in jas]\n",
    "operations = aq.Operation.where({'id': op_ids})\n",
    "\n",
    "outputs = []\n",
    "for op in operations:\n",
    "    outputs.extend(op.outputs)"
   ]
  },
  {
   "cell_type": "code",
   "execution_count": 14,
   "id": "artistic-captain",
   "metadata": {},
   "outputs": [
    {
     "data": {
      "application/vnd.jupyter.widget-view+json": {
       "model_id": "3eb65d98eb464a9bbecdfb791be9940b",
       "version_major": 2,
       "version_minor": 0
      },
      "text/plain": [
       "  0%|          | 0/16 [00:00<?, ?it/s]"
      ]
     },
     "metadata": {},
     "output_type": "display_data"
    }
   ],
   "source": [
    "from tqdm.auto import tqdm\n",
    "\n",
    "def delete_item(item, session=None):\n",
    "    session = session or item.session\n",
    "    if isinstance(item, int):\n",
    "        item_id = item\n",
    "    else:\n",
    "        item_id = item.id\n",
    "    session._aqhttp.delete('items/{}.json'.format(item_id))\n",
    "\n",
    "for fv in tqdm(outputs):\n",
    "    item = fv.item\n",
    "    if item:\n",
    "        if item.location != 'deleted':\n",
    "            delete_item(item)"
   ]
  },
  {
   "cell_type": "code",
   "execution_count": 10,
   "id": "chicken-miracle",
   "metadata": {},
   "outputs": [],
   "source": [
    "def delete_item(item, session=None):\n",
    "    session = session or item.session\n",
    "    if isinstance(item, int):\n",
    "        item_id = item\n",
    "    else:\n",
    "        item_id = item.id\n",
    "    session._aqhttp.delete('items/{}.json'.format(item_id))"
   ]
  },
  {
   "cell_type": "code",
   "execution_count": 11,
   "id": "moving-basket",
   "metadata": {},
   "outputs": [],
   "source": [
    "delete_item(449601, session=aq)"
   ]
  },
  {
   "cell_type": "code",
   "execution_count": 40,
   "id": "handed-hebrew",
   "metadata": {},
   "outputs": [
    {
     "data": {
      "text/plain": [
       "<pydent.models.inventory.Item at 0x7fcfe0dd5ac0>"
      ]
     },
     "execution_count": 40,
     "metadata": {},
     "output_type": "execute_result"
    }
   ],
   "source": [
    "76586, 11594\n",
    "M20.12.15.38\n",
    "\n",
    "11594\n",
    "M20.2.13.60"
   ]
  }
 ],
 "metadata": {
  "kernelspec": {
   "display_name": "Python 3",
   "language": "python",
   "name": "python3"
  },
  "language_info": {
   "codemirror_mode": {
    "name": "ipython",
    "version": 3
   },
   "file_extension": ".py",
   "mimetype": "text/x-python",
   "name": "python",
   "nbconvert_exporter": "python",
   "pygments_lexer": "ipython3",
   "version": "3.8.5"
  }
 },
 "nbformat": 4,
 "nbformat_minor": 5
}
