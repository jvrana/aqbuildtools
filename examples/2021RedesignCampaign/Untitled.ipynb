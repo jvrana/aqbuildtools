{
 "cells": [
  {
   "cell_type": "code",
   "execution_count": 1,
   "id": "exceptional-jurisdiction",
   "metadata": {},
   "outputs": [
    {
     "data": {
      "text/plain": [
       "['/home/justin/Github/aqbuildtools',\n",
       " '/home/justin/Github/aqbuildtools/examples/2021RedesignCampaign',\n",
       " '/home/justin/anaconda3/envs/aqbt/lib/python38.zip',\n",
       " '/home/justin/anaconda3/envs/aqbt/lib/python3.8',\n",
       " '/home/justin/anaconda3/envs/aqbt/lib/python3.8/lib-dynload',\n",
       " '',\n",
       " '/home/justin/anaconda3/envs/aqbt/lib/python3.8/site-packages',\n",
       " '/home/justin/anaconda3/envs/aqbt/lib/python3.8/site-packages/IPython/extensions',\n",
       " '/home/justin/.ipython']"
      ]
     },
     "execution_count": 1,
     "metadata": {},
     "output_type": "execute_result"
    }
   ],
   "source": [
    "import sys\n",
    "import os\n",
    "\n",
    "path = os.path.abspath('../..')\n",
    "if path not in sys.path:\n",
    "    sys.path.insert(0, path)\n",
    "    \n",
    "sys.path"
   ]
  },
  {
   "cell_type": "code",
   "execution_count": 2,
   "id": "imposed-policy",
   "metadata": {},
   "outputs": [],
   "source": [
    "from aqbt import AquariumBuildTools\n",
    "aqtools = AquariumBuildTools.from_toml('creds.secret.toml')\n",
    "aqtools.sessions\n",
    "\n",
    "aq = aqtools.sessions['production']['aquarium']\n",
    "aq.set_timeout(70)"
   ]
  },
  {
   "cell_type": "code",
   "execution_count": 5,
   "id": "modern-brief",
   "metadata": {},
   "outputs": [],
   "source": [
    "\n",
    "\n",
    "registry = aqtools.sessions['production']['registry']\n"
   ]
  },
  {
   "cell_type": "code",
   "execution_count": 8,
   "id": "french-drove",
   "metadata": {},
   "outputs": [],
   "source": [
    "from aqbt.aquarium.resolve_sequences import Resolver\n",
    "\n",
    "resolver = Resolver(aq, registry)"
   ]
  },
  {
   "cell_type": "code",
   "execution_count": 11,
   "id": "moderate-reservation",
   "metadata": {},
   "outputs": [],
   "source": [
    "sample = aq.Sample.find_by_name(\"TRP-pp2_5'hom__v2\")\n"
   ]
  },
  {
   "cell_type": "code",
   "execution_count": 12,
   "id": "saving-assets",
   "metadata": {},
   "outputs": [
    {
     "name": "stdout",
     "output_type": "stream",
     "text": [
      "Resolving sequence for 'TRP-pp2_5'hom__v2'\n"
     ]
    },
    {
     "data": {
      "text/plain": [
       "<DNASequence (DNASequence) at 140036229335456>"
      ]
     },
     "execution_count": 12,
     "metadata": {},
     "output_type": "execute_result"
    }
   ],
   "source": [
    "resolver.resolve_sequence(sample)"
   ]
  },
  {
   "cell_type": "code",
   "execution_count": 15,
   "id": "cooked-postage",
   "metadata": {},
   "outputs": [
    {
     "data": {
      "text/plain": [
       "<DNASequence (DNASequence) at 140036229335456>"
      ]
     },
     "execution_count": 15,
     "metadata": {},
     "output_type": "execute_result"
    }
   ],
   "source": [
    "resolver.registry.find_in_cache(sample)"
   ]
  },
  {
   "cell_type": "code",
   "execution_count": 39,
   "id": "graduate-syria",
   "metadata": {},
   "outputs": [
    {
     "data": {
      "text/plain": [
       "<DNASequence (DNASequence) at 140036188273680>"
      ]
     },
     "execution_count": 39,
     "metadata": {},
     "output_type": "execute_result"
    }
   ],
   "source": [
    "from aqbt.aquarium.parsers.pgrr_plasmid import parse_name\n",
    "\n",
    "seq = parse_name('pMOD-LTR2-Bleo-pGRR-W17W17-RGR-W19')\n",
    "\n",
    "seq.annotations['name'] = 'pMOD-LTR2-Bleo-pGRR-W17W17-RGR-W19'\n",
    "\n",
    "from aqbt.bioadapter import convert\n",
    "\n",
    "\n",
    "folder = benchling.Folder.find_by_name('2021Campaign')\n",
    "dna = convert(seq, to='DNASequence', benchling_session=aqtools.sessions['production']['benchling'], benchling_folder_id=folder.id)\n",
    "dna.save()"
   ]
  },
  {
   "cell_type": "code",
   "execution_count": 40,
   "id": "facial-decline",
   "metadata": {},
   "outputs": [
    {
     "data": {
      "text/plain": [
       "'/jvrana/f/lib_XsOL3ite-2021campaign/seq_OrePqyKb-pmod-ltr2-bleo-pgrr-w17w17-rgr-w19/edit'"
      ]
     },
     "execution_count": 40,
     "metadata": {},
     "output_type": "execute_result"
    }
   ],
   "source": [
    "dna.url"
   ]
  },
  {
   "cell_type": "code",
   "execution_count": 31,
   "id": "satellite-russell",
   "metadata": {},
   "outputs": [],
   "source": [
    "benchling = aqtools.sessions['production']['benchling']"
   ]
  },
  {
   "cell_type": "code",
   "execution_count": 32,
   "id": "completed-underground",
   "metadata": {},
   "outputs": [
    {
     "data": {
      "text/plain": [
       "<Folder (Folder) at 140036188995936>"
      ]
     },
     "execution_count": 32,
     "metadata": {},
     "output_type": "execute_result"
    }
   ],
   "source": [
    "folder = benchling.Folder.find_by_name('2021Campaign')\n"
   ]
  }
 ],
 "metadata": {
  "kernelspec": {
   "display_name": "Python 3",
   "language": "python",
   "name": "python3"
  },
  "language_info": {
   "codemirror_mode": {
    "name": "ipython",
    "version": 3
   },
   "file_extension": ".py",
   "mimetype": "text/x-python",
   "name": "python",
   "nbconvert_exporter": "python",
   "pygments_lexer": "ipython3",
   "version": "3.8.5"
  }
 },
 "nbformat": 4,
 "nbformat_minor": 5
}
