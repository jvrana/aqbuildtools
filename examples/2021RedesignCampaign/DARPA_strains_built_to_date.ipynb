{
 "cells": [
  {
   "cell_type": "code",
   "execution_count": 4,
   "id": "efficient-blanket",
   "metadata": {},
   "outputs": [],
   "source": [
    "import sys\n",
    "import os\n",
    "import pandas as pd\n",
    "\n",
    "path = os.path.abspath('../..')\n",
    "if path not in sys.path:\n",
    "    sys.path.insert(0, path)\n",
    "    \n",
    "sys.path\n",
    "\n",
    "from primer3plus.utils import reverse_complement as rc\n",
    "import primer3\n",
    "from aqbt.contrib.uwbf import primer_utils\n",
    "from aqbt import AquariumBuildTools\n",
    "aqtools = AquariumBuildTools.from_toml('creds.secret.toml')\n",
    "aqtools.sessions\n",
    "\n",
    "aq = aqtools.sessions['production']['aquarium']"
   ]
  },
  {
   "cell_type": "code",
   "execution_count": 6,
   "id": "charming-setup",
   "metadata": {},
   "outputs": [
    {
     "data": {
      "text/plain": [
       "{'budget_id': 77,\n",
       " 'user_id': 209,\n",
       " 'created_at': '2021-04-27T10:01:22.000-07:00',\n",
       " 'rid': 167,\n",
       " 'status': None,\n",
       " 'updated_at': '2021-04-27T10:05:11.000-07:00',\n",
       " 'folder': None,\n",
       " 'name': 'Xinru_a5b1_sorted_library_NGSprep',\n",
       " 'id': 41306,\n",
       " 'cost_limit': None,\n",
       " 'layout': '{\"id\": 0, \"parent_id\": -1, \"name\": \"no_name\", \"width\": 160, \"height\": 60, \"input\": null, \"output\": null, \"documentation\": \"No documentation for this module\", \"children\": null, \"wires\": null, \"text_boxes\": null}'}"
      ]
     },
     "execution_count": 6,
     "metadata": {},
     "output_type": "execute_result"
    }
   ],
   "source": [
    "aq.Plan.last()[0]"
   ]
  },
  {
   "cell_type": "markdown",
   "id": "excess-yorkshire",
   "metadata": {},
   "source": [
    "# Count and Bin Yeast Strains"
   ]
  },
  {
   "cell_type": "code",
   "execution_count": 61,
   "id": "secure-charleston",
   "metadata": {},
   "outputs": [],
   "source": [
    "yeast_type = aq.SampleType.find_by_name(\"Yeast Strain\")\n",
    "\n",
    "samples = aq.Sample.where({'sample_type_id': yeast_type.id, 'user_id': 66})\n",
    "\n",
    "\n",
    "filtered_samples = []\n",
    "for s in samples:\n",
    "    if arrow.get(s.created_at) > arrow.Arrow(year=2018, month=6, day=1):\n",
    "        filtered_samples.append(s)\n",
    "\n",
    "all_items = []\n",
    "\n",
    "for otname in ['Yeast Glycerol Stock', 'Yeast Plate']:\n",
    "    ot = aq.ObjectType.find_by_name(otname)\n",
    "    items = aq.Item.where({'sample_id': [s.id for s in filtered_samples], 'object_type_id': ot.id})\n",
    "    all_items.extend(items)"
   ]
  },
  {
   "cell_type": "code",
   "execution_count": 62,
   "id": "chicken-infrared",
   "metadata": {},
   "outputs": [
    {
     "data": {
      "text/plain": [
       "431"
      ]
     },
     "execution_count": 62,
     "metadata": {},
     "output_type": "execute_result"
    }
   ],
   "source": [
    "unique_ids = list(set([item.sample_id for item in all_items]))\n",
    "\n",
    "len(unique_ids)"
   ]
  },
  {
   "cell_type": "code",
   "execution_count": 63,
   "id": "illegal-novelty",
   "metadata": {},
   "outputs": [
    {
     "name": "stdout",
     "output_type": "stream",
     "text": [
      "(1, 2018) 0\n",
      "(4, 2018) 7\n",
      "(7, 2018) 77\n",
      "(10, 2018) 132\n",
      "(1, 2019) 100\n",
      "(4, 2019) 75\n",
      "(7, 2019) 0\n",
      "(10, 2019) 2\n",
      "(1, 2020) 113\n",
      "(4, 2020) 0\n",
      "(7, 2020) 0\n",
      "(10, 2020) 5\n",
      "(1, 2021) 28\n",
      "(4, 2021) 0\n",
      "(7, 2021) 0\n"
     ]
    }
   ],
   "source": [
    "import arrow\n",
    "\n",
    "times = []\n",
    "\n",
    "def pairwise(x):\n",
    "    for a, b in zip(x[:-1], x[1:]):\n",
    "        yield a, b\n",
    "\n",
    "bins = []\n",
    "quarters = []\n",
    "\n",
    "for year in [2018, 2019, 2020, 2021]:\n",
    "    for month in [1, 4, 7, 10]:\n",
    "        quarters.append((month, year))\n",
    "        \n",
    "for month, year in quarters:\n",
    "    times.append(arrow.Arrow(year=year, month=month, day=1))\n",
    "    bins.append([])\n",
    "bins = bins[:-1]\n",
    "\n",
    "groupby_sample = {}\n",
    "\n",
    "for item in all_items:\n",
    "    groupby_sample.setdefault(item.sample_id, list())\n",
    "    groupby_sample[item.sample_id].append(item)\n",
    "    \n",
    "groupby_sample = {k: sorted(items, key=lambda x: arrow.get(item.created_at)) for k, items in groupby_sample.items()}\n",
    "\n",
    "for sid, items in groupby_sample.items():\n",
    "    for item in items:\n",
    "        for i, (t1, t2) in enumerate(pairwise(times)):\n",
    "            t3 = arrow.get(item.created_at)\n",
    "            if t1 < t3 < t2:\n",
    "                bins[i].append(item)\n",
    "            \n",
    "bin_sids = [list(set([i.sample_id for i in b])) for b in bins]\n",
    "\n",
    "for q, b in zip(quarters, bin_sids):\n",
    "    print(q, len(b))"
   ]
  },
  {
   "cell_type": "code",
   "execution_count": 58,
   "id": "disturbed-philadelphia",
   "metadata": {},
   "outputs": [
    {
     "name": "stdout",
     "output_type": "stream",
     "text": [
      "(1, 2018) 3\n",
      "(4, 2018) 10\n",
      "(7, 2018) 70\n",
      "(10, 2018) 134\n",
      "(1, 2019) 94\n",
      "(4, 2019) 78\n",
      "(7, 2019) 0\n",
      "(10, 2019) 4\n",
      "(1, 2020) 112\n",
      "(4, 2020) 0\n",
      "(7, 2020) 0\n",
      "(10, 2020) 5\n",
      "(1, 2021) 28\n",
      "(4, 2021) 0\n",
      "(7, 2021) 0\n"
     ]
    }
   ],
   "source": [
    "for q, b in zip(quarters, bin_sids):\n",
    "    print(q, len(b))"
   ]
  },
  {
   "cell_type": "code",
   "execution_count": 64,
   "id": "brutal-deviation",
   "metadata": {},
   "outputs": [
    {
     "data": {
      "text/html": [
       "<div>\n",
       "<style scoped>\n",
       "    .dataframe tbody tr th:only-of-type {\n",
       "        vertical-align: middle;\n",
       "    }\n",
       "\n",
       "    .dataframe tbody tr th {\n",
       "        vertical-align: top;\n",
       "    }\n",
       "\n",
       "    .dataframe thead th {\n",
       "        text-align: right;\n",
       "    }\n",
       "</style>\n",
       "<table border=\"1\" class=\"dataframe\">\n",
       "  <thead>\n",
       "    <tr style=\"text-align: right;\">\n",
       "      <th></th>\n",
       "      <th>0</th>\n",
       "      <th>1</th>\n",
       "      <th>2</th>\n",
       "      <th>3</th>\n",
       "      <th>4</th>\n",
       "      <th>5</th>\n",
       "      <th>6</th>\n",
       "      <th>7</th>\n",
       "      <th>8</th>\n",
       "      <th>9</th>\n",
       "      <th>10</th>\n",
       "      <th>11</th>\n",
       "      <th>12</th>\n",
       "      <th>13</th>\n",
       "      <th>14</th>\n",
       "    </tr>\n",
       "  </thead>\n",
       "  <tbody>\n",
       "    <tr>\n",
       "      <th>0</th>\n",
       "      <td>0</td>\n",
       "      <td>18</td>\n",
       "      <td>148</td>\n",
       "      <td>150</td>\n",
       "      <td>123</td>\n",
       "      <td>126</td>\n",
       "      <td>0</td>\n",
       "      <td>2</td>\n",
       "      <td>209</td>\n",
       "      <td>0</td>\n",
       "      <td>0</td>\n",
       "      <td>13</td>\n",
       "      <td>55</td>\n",
       "      <td>0</td>\n",
       "      <td>0</td>\n",
       "    </tr>\n",
       "  </tbody>\n",
       "</table>\n",
       "</div>"
      ],
      "text/plain": [
       "   0   1    2    3    4    5   6   7    8   9   10  11  12  13  14\n",
       "0   0  18  148  150  123  126   0   2  209   0   0  13  55   0   0"
      ]
     },
     "execution_count": 64,
     "metadata": {},
     "output_type": "execute_result"
    }
   ],
   "source": [
    "import pandas as pd\n",
    "\n",
    "pd.DataFrame([len(b) for b in bins]).T"
   ]
  },
  {
   "cell_type": "markdown",
   "id": "expensive-girlfriend",
   "metadata": {},
   "source": [
    "# Count and Bin Genetic Parts"
   ]
  },
  {
   "cell_type": "code",
   "execution_count": 11,
   "id": "killing-springfield",
   "metadata": {
    "tags": []
   },
   "outputs": [],
   "source": [
    "import arrow\n",
    "\n",
    "sample_type = aq.SampleType.find_by_name(\"Yeast Strain\")\n",
    "\n",
    "samples = aq.Sample.where({'sample_type_id': sample_type.id, 'user_id': 66})\n",
    "\n",
    "\n",
    "filtered_samples = []\n",
    "for s in samples:\n",
    "    if arrow.get(s.created_at) > arrow.Arrow(year=2018, month=6, day=1):\n",
    "        filtered_samples.append(s)\n",
    "\n",
    "all_items = []\n",
    "\n",
    "with aq.with_cache(timeout=67) as sess:\n",
    "    for otname in ['Yeast Plate']:\n",
    "        ot = sess.ObjectType.find_by_name(otname)\n",
    "        items = sess.Item.where({'sample_id': [s.id for s in filtered_samples], 'object_type_id': ot.id})\n",
    "        all_items.extend(items)"
   ]
  },
  {
   "cell_type": "code",
   "execution_count": 12,
   "id": "cleared-pathology",
   "metadata": {},
   "outputs": [
    {
     "name": "stdout",
     "output_type": "stream",
     "text": [
      "(1, 2018) 0\n",
      "(4, 2018) 7\n",
      "(7, 2018) 53\n",
      "(10, 2018) 56\n",
      "(1, 2019) 55\n",
      "(4, 2019) 23\n",
      "(7, 2019) 0\n",
      "(10, 2019) 0\n",
      "(1, 2020) 112\n",
      "(4, 2020) 0\n",
      "(7, 2020) 0\n",
      "(10, 2020) 4\n",
      "(1, 2021) 18\n",
      "(4, 2021) 0\n",
      "(7, 2021) 0\n"
     ]
    },
    {
     "data": {
      "text/html": [
       "<div>\n",
       "<style scoped>\n",
       "    .dataframe tbody tr th:only-of-type {\n",
       "        vertical-align: middle;\n",
       "    }\n",
       "\n",
       "    .dataframe tbody tr th {\n",
       "        vertical-align: top;\n",
       "    }\n",
       "\n",
       "    .dataframe thead th {\n",
       "        text-align: right;\n",
       "    }\n",
       "</style>\n",
       "<table border=\"1\" class=\"dataframe\">\n",
       "  <thead>\n",
       "    <tr style=\"text-align: right;\">\n",
       "      <th></th>\n",
       "      <th>0</th>\n",
       "      <th>1</th>\n",
       "      <th>2</th>\n",
       "      <th>3</th>\n",
       "      <th>4</th>\n",
       "      <th>5</th>\n",
       "      <th>6</th>\n",
       "      <th>7</th>\n",
       "      <th>8</th>\n",
       "      <th>9</th>\n",
       "      <th>10</th>\n",
       "      <th>11</th>\n",
       "      <th>12</th>\n",
       "      <th>13</th>\n",
       "      <th>14</th>\n",
       "    </tr>\n",
       "  </thead>\n",
       "  <tbody>\n",
       "    <tr>\n",
       "      <th>0</th>\n",
       "      <td>0</td>\n",
       "      <td>17</td>\n",
       "      <td>79</td>\n",
       "      <td>72</td>\n",
       "      <td>73</td>\n",
       "      <td>50</td>\n",
       "      <td>0</td>\n",
       "      <td>2</td>\n",
       "      <td>146</td>\n",
       "      <td>0</td>\n",
       "      <td>0</td>\n",
       "      <td>8</td>\n",
       "      <td>35</td>\n",
       "      <td>0</td>\n",
       "      <td>0</td>\n",
       "    </tr>\n",
       "  </tbody>\n",
       "</table>\n",
       "</div>"
      ],
      "text/plain": [
       "   0   1   2   3   4   5   6   7    8   9   10  11  12  13  14\n",
       "0   0  17  79  72  73  50   0   2  146   0   0   8  35   0   0"
      ]
     },
     "execution_count": 12,
     "metadata": {},
     "output_type": "execute_result"
    }
   ],
   "source": [
    "import arrow\n",
    "from copy import deepcopy\n",
    "\n",
    "times = []\n",
    "\n",
    "def pairwise(x):\n",
    "    for a, b in zip(x[:-1], x[1:]):\n",
    "        yield a, b\n",
    "\n",
    "bins = []\n",
    "quarters = []\n",
    "\n",
    "for year in [2018, 2019, 2020, 2021]:\n",
    "    for month in [1, 4, 7, 10]:\n",
    "        quarters.append((month, year))\n",
    "        \n",
    "for month, year in quarters:\n",
    "    times.append(arrow.Arrow(year=year, month=month, day=1))\n",
    "    bins.append([])\n",
    "    \n",
    "bins = bins[:-1]\n",
    "\n",
    "groupby_sample = {}\n",
    "\n",
    "for item in all_items:\n",
    "    groupby_sample.setdefault(item.sample_id, list())\n",
    "    groupby_sample[item.sample_id].append(item)\n",
    "    \n",
    "groupby_sample = {k: sorted(items, key=lambda x: arrow.get(item.created_at)) for k, items in groupby_sample.items()}\n",
    "\n",
    "first_item_bins = deepcopy(bins)\n",
    "\n",
    "for sid, items in groupby_sample.items():\n",
    "    first_item = items[0]\n",
    "    \n",
    "    for item in items[:1]:\n",
    "        for i, (t1, t2) in enumerate(pairwise(times)):\n",
    "            t3 = arrow.get(item.created_at)\n",
    "            if t1 < t3 < t2:\n",
    "                first_item_bins[i].append(item)\n",
    "                \n",
    "    for item in items:\n",
    "        for i, (t1, t2) in enumerate(pairwise(times)):\n",
    "            t3 = arrow.get(item.created_at)\n",
    "            if t1 < t3 < t2:\n",
    "                bins[i].append(item)\n",
    "            \n",
    "bin_sids = [list(set([i.sample_id for i in b])) for b in first_item_bins]\n",
    "\n",
    "for q, b in zip(quarters, bin_sids):\n",
    "    print(q, len(b))\n",
    "    \n",
    "    \n",
    "import pandas as pd\n",
    "\n",
    "pd.DataFrame([len(b) for b in bins]).T"
   ]
  },
  {
   "cell_type": "code",
   "execution_count": 13,
   "id": "indie-graphic",
   "metadata": {},
   "outputs": [
    {
     "data": {
      "text/html": [
       "<div>\n",
       "<style scoped>\n",
       "    .dataframe tbody tr th:only-of-type {\n",
       "        vertical-align: middle;\n",
       "    }\n",
       "\n",
       "    .dataframe tbody tr th {\n",
       "        vertical-align: top;\n",
       "    }\n",
       "\n",
       "    .dataframe thead th {\n",
       "        text-align: right;\n",
       "    }\n",
       "</style>\n",
       "<table border=\"1\" class=\"dataframe\">\n",
       "  <thead>\n",
       "    <tr style=\"text-align: right;\">\n",
       "      <th></th>\n",
       "      <th>0</th>\n",
       "      <th>1</th>\n",
       "      <th>2</th>\n",
       "      <th>3</th>\n",
       "      <th>4</th>\n",
       "      <th>5</th>\n",
       "      <th>6</th>\n",
       "      <th>7</th>\n",
       "      <th>8</th>\n",
       "      <th>9</th>\n",
       "      <th>10</th>\n",
       "      <th>11</th>\n",
       "      <th>12</th>\n",
       "      <th>13</th>\n",
       "      <th>14</th>\n",
       "    </tr>\n",
       "  </thead>\n",
       "  <tbody>\n",
       "    <tr>\n",
       "      <th>0</th>\n",
       "      <td>0</td>\n",
       "      <td>7</td>\n",
       "      <td>53</td>\n",
       "      <td>56</td>\n",
       "      <td>55</td>\n",
       "      <td>23</td>\n",
       "      <td>0</td>\n",
       "      <td>0</td>\n",
       "      <td>112</td>\n",
       "      <td>0</td>\n",
       "      <td>0</td>\n",
       "      <td>4</td>\n",
       "      <td>18</td>\n",
       "      <td>0</td>\n",
       "      <td>0</td>\n",
       "    </tr>\n",
       "  </tbody>\n",
       "</table>\n",
       "</div>"
      ],
      "text/plain": [
       "   0   1   2   3   4   5   6   7    8   9   10  11  12  13  14\n",
       "0   0   7  53  56  55  23   0   0  112   0   0   4  18   0   0"
      ]
     },
     "execution_count": 13,
     "metadata": {},
     "output_type": "execute_result"
    }
   ],
   "source": []
  }
 ],
 "metadata": {
  "kernelspec": {
   "display_name": "Python 3",
   "language": "python",
   "name": "python3"
  },
  "language_info": {
   "codemirror_mode": {
    "name": "ipython",
    "version": 3
   },
   "file_extension": ".py",
   "mimetype": "text/x-python",
   "name": "python",
   "nbconvert_exporter": "python",
   "pygments_lexer": "ipython3",
   "version": "3.8.5"
  }
 },
 "nbformat": 4,
 "nbformat_minor": 5
}
