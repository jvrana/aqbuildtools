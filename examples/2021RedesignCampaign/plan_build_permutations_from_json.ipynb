{
 "cells": [
  {
   "cell_type": "code",
   "execution_count": 2,
   "id": "clean-survival",
   "metadata": {},
   "outputs": [],
   "source": [
    "import sys\n",
    "import os\n",
    "import pandas as pd\n",
    "\n",
    "path = os.path.abspath('../..')\n",
    "if path not in sys.path:\n",
    "    sys.path.insert(0, path)\n",
    "    \n",
    "sys.path\n",
    "\n",
    "from primer3plus.utils import reverse_complement as rc\n",
    "import primer3\n",
    "from aqbt.contrib.uwbf import primer_utils\n",
    "from aqbt import AquariumBuildTools\n",
    "aqtools = AquariumBuildTools.from_toml('creds.secret.toml')\n",
    "aqtools.sessions\n",
    "\n",
    "aq = aqtools.sessions['production']['aquarium']"
   ]
  },
  {
   "cell_type": "markdown",
   "id": "exclusive-secondary",
   "metadata": {},
   "source": [
    "# Utils"
   ]
  },
  {
   "cell_type": "code",
   "execution_count": 139,
   "id": "unable-trinidad",
   "metadata": {},
   "outputs": [],
   "source": [
    "from pydent.base import ModelBase\n",
    "from pydent import Planner\n",
    "from tqdm.auto import tqdm \n",
    "from pydent import Planner\n",
    "from itertools import zip_longest\n",
    "from typing import *\n",
    "from pydent.models import Plan\n",
    "from matplotlib import pylab as plt\n",
    "\n",
    "\n",
    "def get_sample(session, x, *args, **kwargs):\n",
    "    if isinstance(x, int):\n",
    "        return session.Sample.find(x, *args, **kwargs)\n",
    "    elif isinstance(x, str):\n",
    "        return session.Sample.find_by_name(x, *args, **kwargs)\n",
    "    elif isinstance(x, dict):\n",
    "        return session.Sample.where(x, *args, **kwargs)\n",
    "    elif issubclass(x.__class__, ModelBase):\n",
    "        return x\n",
    "    \n",
    "\n",
    "def from_template(template):\n",
    "    template = Planner(template.session, plan_id=template.id)\n",
    "    planner = template.copy()\n",
    "    planner.plan.status = 'planning'\n",
    "    return planner\n",
    "    \n",
    "def grouper(iterable, n, fillvalue=...):\n",
    "    args = [iter(iterable)] * n\n",
    "    for x in zip_longest(*args, fillvalue=fillvalue):\n",
    "        if fillvalue is not ...:\n",
    "            yield x\n",
    "        else:\n",
    "            yield tuple([_x for _x in x if _x is not ...])\n",
    "\n",
    "\n",
    "def from_template(template):\n",
    "    template = Planner(template)\n",
    "    planner = template.copy()\n",
    "    planner.plan.status = 'planning'\n",
    "    return planner\n",
    "\n",
    "def combine(plans: List[Plan]) -> \"Planner\":\n",
    "    \"\"\"Merges a list of plans into a single plan by combining operations\n",
    "    and wires.\n",
    "\n",
    "    :param plans: list of Aquarium Plans instances\n",
    "    :return: new Plan\n",
    "    \"\"\"\n",
    "    copied_plans = [c.copy() for c in plans]\n",
    "\n",
    "    sessions = {p.session for p in plans}\n",
    "#     if len(sessions) > 1:\n",
    "#         raise PlannerException(\n",
    "#             \"Cannot combine plans, plans must all derive from same session instance\"\n",
    "#         )\n",
    "    session = sessions.pop()\n",
    "\n",
    "    new_plan = Planner(session)\n",
    "    new_plan.plan.operations = []\n",
    "    for p in copied_plans:\n",
    "        new_plan.plan.operations += p.plan.operations\n",
    "        new_plan.plan.wires += p.plan.wires\n",
    "    return new_plan\n",
    "\n",
    "\n",
    "def submit_oe(session, sample):\n",
    "    template = session.Plan.where({'name': '(SD2) Overlap Extension PCR Template', 'status': 'template'})[0]\n",
    "\n",
    "    planner = from_template(template)\n",
    "\n",
    "    op = planner.get_op_by_name('Stitch by Overlap Extension')[0]\n",
    "    op.set_field_value_array('Fragment Mix', 'input', [{'sample': s} for s in sample.properties['Fragment Mix Array']])\n",
    "    planner.set_field_value_and_propogate(op.outputs[0], sample=sample)\n",
    "    op = planner.get_op_by_name('Make PCR Fragment')[0]\n",
    "    planner.set_field_value_and_propogate(op.outputs[0], sample=sample)\n",
    "    planner.set_inputs_using_sample_properties(op, sample=sample)\n",
    "    planner.set_field_value(op.input('Template'), object_type=aq.ObjectType.find_by_name('Unverified Fragment PCR Fragment'))\n",
    "    planner.plan.name = 'OE Ext {}'.format(sample.name)\n",
    "    return planner"
   ]
  },
  {
   "cell_type": "markdown",
   "id": "administrative-animation",
   "metadata": {},
   "source": [
    "# Load Data"
   ]
  },
  {
   "cell_type": "code",
   "execution_count": 4,
   "id": "convenient-warning",
   "metadata": {},
   "outputs": [],
   "source": [
    "import json \n",
    "\n",
    "with open('build_permutations_2021-03-08T10:16:09.773080-08:00.json', 'r') as f:\n",
    "    builds_json = json.load(f)"
   ]
  },
  {
   "cell_type": "markdown",
   "id": "signal-george",
   "metadata": {},
   "source": [
    "## Submit Alpha Strains"
   ]
  },
  {
   "cell_type": "code",
   "execution_count": 55,
   "id": "french-zealand",
   "metadata": {
    "tags": []
   },
   "outputs": [
    {
     "name": "stdout",
     "output_type": "stream",
     "text": [
      "URA-URA<pGRR-W10W20-yeGFP>\n",
      "URA-URA<pGRR-W17W34-yeGFP>\n",
      "URA-URA<pGRR-W17W17-yeGFP>\n",
      "URA-URA<pGRR-W10W17-yeGFP>\n",
      "URA-URA<pGRR-W20W36-yeGFP>\n",
      "URA-URA<pGRR-W5W36-yeGFP>\n",
      "URA-URA<pGRR-W36W36-yeGFP>\n",
      "URA-URA<pGRR-W36W5-yeGFP>\n"
     ]
    }
   ],
   "source": [
    "transformations = set()\n",
    "\n",
    "for circuit in builds_json:\n",
    "    for part in circuit['parts']:\n",
    "        if 'yeGFP' in part['sample']['name']:\n",
    "            transformations.add((part['haploid'], part['sample']['name']))\n",
    "            \n",
    "for _, name in transformations:\n",
    "    frag = aq.Sample.find_by_name(name)\n",
    "    frag_stock = aq.Item.where({'sample_id': frag.id, 'object_type_id': aq.ObjectType.find_by_name('Fragment Stock').id})\n",
    "    print(name)"
   ]
  },
  {
   "cell_type": "code",
   "execution_count": 95,
   "id": "shaped-issue",
   "metadata": {},
   "outputs": [
    {
     "data": {
      "application/vnd.jupyter.widget-view+json": {
       "model_id": "9bff1c59134c425e802ea730d1969991",
       "version_major": 2,
       "version_minor": 0
      },
      "text/plain": [
       "  0%|          | 0/5 [00:00<?, ?it/s]"
      ]
     },
     "metadata": {},
     "output_type": "display_data"
    },
    {
     "data": {
      "application/vnd.jupyter.widget-view+json": {
       "model_id": "669eddc602414f688feeca916e3bd2fe",
       "version_major": 2,
       "version_minor": 0
      },
      "text/plain": [
       "  0%|          | 0/5 [00:00<?, ?it/s]"
      ]
     },
     "metadata": {},
     "output_type": "display_data"
    }
   ],
   "source": [
    "def get_gfp_part(circuit):\n",
    "    return [part for part in circuit['parts'] if 'gfp' in part['sample']['name'].lower()][0]\n",
    "\n",
    "def get_galz4_part(circuit):\n",
    "    return [part for part in circuit['parts'] if 'galz4' in part['sample']['name'].lower()][0]\n",
    "\n",
    "get_gfp_part(builds_json[0])\n",
    "get_galz4_part(builds_json[0])\n",
    "\n",
    "def create_transformation(circuit):\n",
    "    base_name = 'CEN.PK2 - MAT alpha ::: pMODKan-HO-pACT1-ZEV4 | ' + get_galz4_part(circuit)['sample']['name']\n",
    "    parent = aq.Sample.find_by_name(base_name)\n",
    "    \n",
    "    integrant = aq.Sample.find_by_name(get_gfp_part(circuit)['sample']['name'])\n",
    "    return base_name, {'parent': parent, 'integrant': integrant}\n",
    "    \n",
    "create_transformation(builds_json[0])\n",
    "\n",
    "def create_new_strain(parent, integrant, qc1, qc2, qcl):\n",
    "    parent = get_sample(aq, parent)\n",
    "    integrant = get_sample(aq, integrant)\n",
    "\n",
    "    properties = {\n",
    "        'Parent': parent,\n",
    "        'Integrant': integrant,\n",
    "        'Plasmid': None,\n",
    "        'Integrated Marker(s)': integrant.properties['Yeast Marker'],\n",
    "        'Mating Type': parent.properties['Mating Type'],\n",
    "        'Comp_cell_limit': 'No',\n",
    "        'Has this strain passed QC?': 'No',\n",
    "        'Haploids': [],\n",
    "        'QC Primer1': get_sample(aq, qc1),\n",
    "        'QC Primer2': get_sample(aq, qc2),\n",
    "        'QC_length': qcl\n",
    "    }\n",
    "\n",
    "    return aq.Sample.new(\n",
    "        name = parent.name + ' | ' + integrant.name,\n",
    "        description='',\n",
    "        sample_type_id=parent.sample_type_id,\n",
    "        project='SD2 2021 Redesigns',\n",
    "        properties=properties\n",
    "    )\n",
    "\n",
    "new_strains = dict([create_transformation(c) for c in builds_json])\n",
    "\n",
    "new_samples = []\n",
    "for x in tqdm(list(new_strains.values())):\n",
    "    sample = create_new_strain(x['parent'], x['integrant'], 'ColonyPCR_URA3_F(pMOD)', 'PS_Rev', 798)\n",
    "    existing = aq.Sample.find_by_name(sample.name)\n",
    "    if existing is None:\n",
    "        new_samples.append(sample)\n",
    "        \n",
    "for s in tqdm(new_samples):\n",
    "    s.save()\n",
    "    "
   ]
  },
  {
   "cell_type": "code",
   "execution_count": 108,
   "id": "comfortable-helena",
   "metadata": {},
   "outputs": [
    {
     "name": "stdout",
     "output_type": "stream",
     "text": [
      "CEN.PK2 - MAT alpha ::: pMODKan-HO-pACT1-ZEV4 | pMOD8-pGALZ4-URGR-W10 | URA-URA<pGRR-W5W36-yeGFP>\n",
      "CEN.PK2 - MAT alpha ::: pMODKan-HO-pACT1-ZEV4 | pMOD8-pGALZ4-URGR-W8 | URA-URA<pGRR-W17W17-yeGFP>\n",
      "CEN.PK2 - MAT alpha ::: pMODKan-HO-pACT1-ZEV4 | pMOD8-pGALZ4-URGR-W36 | URA-URA<pGRR-W36W5-yeGFP>\n",
      "CEN.PK2 - MAT alpha ::: pMODKan-HO-pACT1-ZEV4 | pMOD8-pGALZ4-URGR-W17 | URA-URA<pGRR-W17W34-yeGFP>\n",
      "CEN.PK2 - MAT alpha ::: pMODKan-HO-pACT1-ZEV4 | pMOD8-pGALZ4-URGR-W5 | URA-URA<pGRR-W36W36-yeGFP>\n"
     ]
    }
   ],
   "source": [
    "for x in new_samples:\n",
    "    s = aq.Sample.find_by_name(x.name)\n",
    "    print(s.name)"
   ]
  },
  {
   "cell_type": "code",
   "execution_count": 124,
   "id": "special-fiber",
   "metadata": {},
   "outputs": [
    {
     "data": {
      "application/vnd.jupyter.widget-view+json": {
       "model_id": "36b9689c83c0437fb76c202901b0c8ab",
       "version_major": 2,
       "version_minor": 0
      },
      "text/plain": [
       "  0%|          | 0/5 [00:00<?, ?it/s]"
      ]
     },
     "metadata": {},
     "output_type": "display_data"
    },
    {
     "name": "stdout",
     "output_type": "stream",
     "text": [
      "http:/52.27.43.242/plans?plan_id=40842\n",
      "http:/52.27.43.242/plans?plan_id=40843\n",
      "http:/52.27.43.242/plans?plan_id=40844\n",
      "http:/52.27.43.242/plans?plan_id=40845\n",
      "http:/52.27.43.242/plans?plan_id=40846\n"
     ]
    }
   ],
   "source": [
    "from pydent import Planner\n",
    "\n",
    "for sample in tqdm(new_samples):\n",
    "    planner = Planner(aq)\n",
    "\n",
    "    planner.chain(\n",
    "        'Yeast Transformation', \n",
    "        'Check Yeast Plate', \n",
    "        'Yeast Overnight Suspension', \n",
    "        'Inoculate Yeast Comp Cells', \n",
    "        'Make Yeast Comp Cells'\n",
    "    )\n",
    "    op = planner.get_op_by_name('Yeast Overnight Suspension')[0]\n",
    "    planner.set_field_value(op.input('Type of Media'), value='YPAD')\n",
    "    planner.set_field_value(op.input('Require QC?'), value='yes')\n",
    "    planner.chain(op, 'Yeast Glycerol Stock')\n",
    "\n",
    "    op = planner.get_op_by_name('Check Yeast Plate')[0]\n",
    "    for i in range(4):\n",
    "        planner.chain(op, 'Yeast Lysate', 'Colony PCR', 'Fragment Analyzing')\n",
    "\n",
    "    op = planner.get_op_by_name('Yeast Transformation')[0]\n",
    "    planner.set_field_value_and_propogate(op.outputs[0], sample=sample)\n",
    "    planner.set_inputs_using_sample_properties(op, sample=sample)\n",
    "    planner.set_field_value(op.input('Genetic Material'), sample=sample.properties['Integrant'])\n",
    "    for op in planner.get_op_by_name('Colony PCR'):\n",
    "        planner.set_inputs_using_sample_properties(op, sample=sample)\n",
    "\n",
    "    planner.prettify()\n",
    "    planner.name = 'Transform {}'.format(sample.name)\n",
    "    planner.save()\n",
    "    \n",
    "    print(planner.url)"
   ]
  },
  {
   "cell_type": "markdown",
   "id": "processed-genetics",
   "metadata": {},
   "source": [
    "# Submit A Strains"
   ]
  },
  {
   "cell_type": "code",
   "execution_count": 146,
   "id": "closing-membrane",
   "metadata": {},
   "outputs": [
    {
     "data": {
      "text/plain": [
       "{'HIS-HIS<7XTetO-pMinCyc1-URGR-W34>',\n",
       " 'HIS-HIS<7XTetO-pMinCyc1-URGR-W5>',\n",
       " 'HIS-HIS<7XTetO-pMinCyc1-URGR-W8>'}"
      ]
     },
     "execution_count": 146,
     "metadata": {},
     "output_type": "execute_result"
    }
   ],
   "source": [
    "integrants = set()\n",
    "\n",
    "for circuit in builds_json:\n",
    "    parts = circuit['parts']\n",
    "    mataparts = [part for part in parts if part['haploid'] == 'Mat A']\n",
    "    integrant = [x['sample']['name'] for x in mataparts if 'teto' in x['sample']['name'].lower()][0]\n",
    "    integrants.add(integrant)\n",
    "integrants"
   ]
  },
  {
   "cell_type": "code",
   "execution_count": 150,
   "id": "rocky-spyware",
   "metadata": {},
   "outputs": [],
   "source": [
    "base_strains = [\n",
    "    'CEN.PK2 - MAT A ::: pMOD4G-dcas9-mxi1',\n",
    "    'CEN.PK2 - MAT A ::: pMOD4G-dcas9-mxi1 | pMOD-HO-KanMX-pTDH3-rtTA-VP16',\n",
    "    'CEN.PK2 - MAT A ::: pMOD4G-dcas9-mxi1 | pMOD-HO-KanMX-pTDH3-rtTA-VPR',\n",
    "    'CEN.PK2 - MAT A ::: pMOD4G-dcas9-mxi1 | pMOD-HO-KanMX-pREV1-rtTA-VP16',\n",
    "    'CEN.PK2 - MAT A ::: pMOD4G-dcas9-mxi1 | pMOD-HO-KanMX-pREV1-rtTA-VPR',\n",
    "    'CEN.PK2 - MAT A ::: pMOD4G-dcas9-mxi1 | pMOD-HO-KanMX-pRPL18B-rtTA-VP16'\n",
    "]\n",
    "\n",
    "new_strains = []\n",
    "for base in base_strains:\n",
    "    parent = aq.Sample.find_by_name(base)\n",
    "    assert parent\n",
    "    for integrant in integrants:\n",
    "        new_strains.append(create_new_strain(parent, integrant, qc1='ColonyPCR_HIS3_F(pMOD)', qc2='PS_Rev', qcl=2837))"
   ]
  },
  {
   "cell_type": "code",
   "execution_count": 153,
   "id": "necessary-combat",
   "metadata": {},
   "outputs": [],
   "source": [
    "for sample in new_strains:\n",
    "    existing = aq.Sample.find_by_name(sample.name)\n",
    "    if existing:\n",
    "        print('{} exists'.format(sample.name))\n",
    "    else:\n",
    "        sample.save()"
   ]
  },
  {
   "cell_type": "code",
   "execution_count": 155,
   "id": "circular-combining",
   "metadata": {},
   "outputs": [
    {
     "data": {
      "application/vnd.jupyter.widget-view+json": {
       "model_id": "4fd542f0d410435e844ee76770984700",
       "version_major": 2,
       "version_minor": 0
      },
      "text/plain": [
       "  0%|          | 0/18 [00:00<?, ?it/s]"
      ]
     },
     "metadata": {},
     "output_type": "display_data"
    },
    {
     "name": "stdout",
     "output_type": "stream",
     "text": [
      "http:/52.27.43.242/plans?plan_id=40848\n",
      "http:/52.27.43.242/plans?plan_id=40849\n",
      "http:/52.27.43.242/plans?plan_id=40850\n",
      "http:/52.27.43.242/plans?plan_id=40851\n",
      "http:/52.27.43.242/plans?plan_id=40852\n",
      "http:/52.27.43.242/plans?plan_id=40853\n",
      "http:/52.27.43.242/plans?plan_id=40854\n",
      "http:/52.27.43.242/plans?plan_id=40855\n",
      "http:/52.27.43.242/plans?plan_id=40856\n",
      "http:/52.27.43.242/plans?plan_id=40857\n",
      "http:/52.27.43.242/plans?plan_id=40858\n"
     ]
    },
    {
     "name": "stderr",
     "output_type": "stream",
     "text": [
      "Future exception was never retrieved\n",
      "future: <Future finished exception=KeyError(18627)>\n",
      "Traceback (most recent call last):\n",
      "  File \"/home/justin/anaconda3/envs/aqbt/lib/python3.8/concurrent/futures/thread.py\", line 57, in run\n",
      "    result = self.fn(*self.args, **self.kwargs)\n",
      "  File \"/home/justin/anaconda3/envs/aqbt/lib/python3.8/site-packages/pydent/utils/async_requests.py\", line 20, in wrapped\n",
      "    return (i, fxn(*args, **kwargs))\n",
      "  File \"/home/justin/anaconda3/envs/aqbt/lib/python3.8/site-packages/pydent/planner/graph.py\", line 70, in add_wires\n",
      "    raise e\n",
      "  File \"/home/justin/anaconda3/envs/aqbt/lib/python3.8/site-packages/pydent/planner/graph.py\", line 66, in add_wires\n",
      "    from_id = _id_getter(fv_to_op_dict[wire.source.rid])\n",
      "KeyError: 18627\n"
     ]
    },
    {
     "name": "stdout",
     "output_type": "stream",
     "text": [
      "http:/52.27.43.242/plans?plan_id=40859\n",
      "http:/52.27.43.242/plans?plan_id=40860\n",
      "http:/52.27.43.242/plans?plan_id=40861\n",
      "http:/52.27.43.242/plans?plan_id=40862\n",
      "http:/52.27.43.242/plans?plan_id=40863\n",
      "http:/52.27.43.242/plans?plan_id=40864\n",
      "http:/52.27.43.242/plans?plan_id=40866\n"
     ]
    }
   ],
   "source": [
    "from pydent import Planner\n",
    "\n",
    "for sample in tqdm(new_strains):\n",
    "    planner = Planner(aq)\n",
    "\n",
    "    planner.chain(\n",
    "        'Yeast Transformation', \n",
    "        'Check Yeast Plate', \n",
    "        'Yeast Overnight Suspension', \n",
    "        'Inoculate Yeast Comp Cells', \n",
    "        'Make Yeast Comp Cells'\n",
    "    )\n",
    "    op = planner.get_op_by_name('Yeast Overnight Suspension')[0]\n",
    "    planner.set_field_value(op.input('Type of Media'), value='YPAD')\n",
    "    planner.set_field_value(op.input('Require QC?'), value='yes')\n",
    "    planner.chain(op, 'Yeast Glycerol Stock')\n",
    "\n",
    "    op = planner.get_op_by_name('Check Yeast Plate')[0]\n",
    "    for i in range(4):\n",
    "        planner.chain(op, 'Yeast Lysate', 'Colony PCR', 'Fragment Analyzing')\n",
    "\n",
    "    op = planner.get_op_by_name('Yeast Transformation')[0]\n",
    "    planner.set_field_value_and_propogate(op.outputs[0], sample=sample)\n",
    "    planner.set_inputs_using_sample_properties(op, sample=sample)\n",
    "    planner.set_field_value(op.input('Genetic Material'), sample=sample.properties['Integrant'])\n",
    "    for op in planner.get_op_by_name('Colony PCR'):\n",
    "        planner.set_inputs_using_sample_properties(op, sample=sample)\n",
    "\n",
    "    planner.prettify()\n",
    "    planner.name = 'Transform {}'.format(sample.name)\n",
    "    planner.save()\n",
    "    \n",
    "    print(planner.url)"
   ]
  }
 ],
 "metadata": {
  "kernelspec": {
   "display_name": "Python 3",
   "language": "python",
   "name": "python3"
  },
  "language_info": {
   "codemirror_mode": {
    "name": "ipython",
    "version": 3
   },
   "file_extension": ".py",
   "mimetype": "text/x-python",
   "name": "python",
   "nbconvert_exporter": "python",
   "pygments_lexer": "ipython3",
   "version": "3.8.5"
  }
 },
 "nbformat": 4,
 "nbformat_minor": 5
}
