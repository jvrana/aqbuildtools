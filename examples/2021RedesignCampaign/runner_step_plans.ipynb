{
 "cells": [
  {
   "cell_type": "code",
   "execution_count": 1,
   "id": "tender-horizon",
   "metadata": {},
   "outputs": [],
   "source": [
    "import sys\n",
    "import os\n",
    "\n",
    "path = os.path.abspath('../..')\n",
    "if path not in sys.path:\n",
    "    sys.path.insert(0, path)\n",
    "    \n",
    "sys.path\n",
    "\n",
    "from aqbt import AquariumBuildTools\n",
    "aqtools = AquariumBuildTools.from_toml('creds.secret.toml')\n",
    "aqtools.sessions\n",
    "\n",
    "aq = aqtools.sessions['production']['aquarium']\n",
    "aq.set_timeout(70)"
   ]
  },
  {
   "cell_type": "code",
   "execution_count": null,
   "id": "original-enlargement",
   "metadata": {},
   "outputs": [
    {
     "data": {
      "application/vnd.jupyter.widget-view+json": {
       "model_id": "deb19b7e62cc468bb63af37eaf2fe7f9",
       "version_major": 2,
       "version_minor": 0
      },
      "text/plain": [
       "  0%|          | 0/99 [00:00<?, ?it/s]"
      ]
     },
     "metadata": {},
     "output_type": "display_data"
    },
    {
     "name": "stdout",
     "output_type": "stream",
     "text": [
      "Plan 40842 has been updated at 2021-03-15T08:03:21.603582-07:00\n",
      "Plan 40842 has been updated at 2021-03-15T08:03:24.138355-07:00\n",
      "Plan 40843 has been updated at 2021-03-15T08:03:28.375484-07:00\n",
      "Plan 40843 has been updated at 2021-03-15T08:03:30.923434-07:00\n",
      "Plan 40844 has been updated at 2021-03-15T08:03:35.111297-07:00\n",
      "Plan 40844 has been updated at 2021-03-15T08:03:37.615067-07:00\n",
      "Plan 40845 has been updated at 2021-03-15T08:03:41.958428-07:00\n",
      "Plan 40846 has been updated at 2021-03-15T08:03:45.898347-07:00\n",
      "Plan 40850 has been updated at 2021-03-15T08:03:59.300716-07:00\n",
      "Plan 40851 has been updated at 2021-03-15T08:04:04.359857-07:00\n",
      "Plan 40852 has been updated at 2021-03-15T08:04:08.206919-07:00\n",
      "Plan 40853 has been updated at 2021-03-15T08:04:12.265014-07:00\n",
      "Plan 40853 has been updated at 2021-03-15T08:04:14.767781-07:00\n",
      "Plan 40856 has been updated at 2021-03-15T08:04:24.076709-07:00\n",
      "Plan 40856 has been updated at 2021-03-15T08:04:26.575324-07:00\n",
      "Plan 40859 has been updated at 2021-03-15T08:04:34.443991-07:00\n",
      "Plan 40859 has been updated at 2021-03-15T08:04:38.304858-07:00\n",
      "Plan 40862 has been updated at 2021-03-15T08:04:46.763540-07:00\n",
      "Plan 40862 has been updated at 2021-03-15T08:04:49.258315-07:00\n",
      "Plan 40866 has been updated at 2021-03-15T08:05:00.545190-07:00\n",
      "Plan 40866 has been updated at 2021-03-15T08:05:03.117058-07:00\n",
      "Plan 40868 has been updated at 2021-03-15T08:05:07.008628-07:00\n",
      "Plan 40868 has been updated at 2021-03-15T08:05:15.222657-07:00\n"
     ]
    },
    {
     "data": {
      "application/vnd.jupyter.widget-view+json": {
       "model_id": "7ca41a0c415b4101887635f6b2819001",
       "version_major": 2,
       "version_minor": 0
      },
      "text/plain": [
       "  0%|          | 0/99 [00:00<?, ?it/s]"
      ]
     },
     "metadata": {},
     "output_type": "display_data"
    },
    {
     "data": {
      "application/vnd.jupyter.widget-view+json": {
       "model_id": "c767ef047a3b4677bbc103f38d845dca",
       "version_major": 2,
       "version_minor": 0
      },
      "text/plain": [
       "  0%|          | 0/99 [00:00<?, ?it/s]"
      ]
     },
     "metadata": {},
     "output_type": "display_data"
    },
    {
     "data": {
      "application/vnd.jupyter.widget-view+json": {
       "model_id": "c606c533793b4f94ab6957138dbcc235",
       "version_major": 2,
       "version_minor": 0
      },
      "text/plain": [
       "  0%|          | 0/99 [00:00<?, ?it/s]"
      ]
     },
     "metadata": {},
     "output_type": "display_data"
    },
    {
     "data": {
      "application/vnd.jupyter.widget-view+json": {
       "model_id": "465b42175ecb472a8df7cfd432fd4f6e",
       "version_major": 2,
       "version_minor": 0
      },
      "text/plain": [
       "  0%|          | 0/99 [00:00<?, ?it/s]"
      ]
     },
     "metadata": {},
     "output_type": "display_data"
    },
    {
     "data": {
      "application/vnd.jupyter.widget-view+json": {
       "model_id": "68a5b99f7fd249c3acf4b6ae7fbf2a03",
       "version_major": 2,
       "version_minor": 0
      },
      "text/plain": [
       "  0%|          | 0/99 [00:00<?, ?it/s]"
      ]
     },
     "metadata": {},
     "output_type": "display_data"
    },
    {
     "data": {
      "application/vnd.jupyter.widget-view+json": {
       "model_id": "a4a544402bf044788d1f8c1258b08c11",
       "version_major": 2,
       "version_minor": 0
      },
      "text/plain": [
       "  0%|          | 0/99 [00:00<?, ?it/s]"
      ]
     },
     "metadata": {},
     "output_type": "display_data"
    },
    {
     "data": {
      "application/vnd.jupyter.widget-view+json": {
       "model_id": "cec90d54800f40ae993ae46d46bdffde",
       "version_major": 2,
       "version_minor": 0
      },
      "text/plain": [
       "  0%|          | 0/99 [00:00<?, ?it/s]"
      ]
     },
     "metadata": {},
     "output_type": "display_data"
    },
    {
     "data": {
      "application/vnd.jupyter.widget-view+json": {
       "model_id": "b992904325ac4cbb9ec328ea7a1d911c",
       "version_major": 2,
       "version_minor": 0
      },
      "text/plain": [
       "  0%|          | 0/99 [00:00<?, ?it/s]"
      ]
     },
     "metadata": {},
     "output_type": "display_data"
    },
    {
     "data": {
      "application/vnd.jupyter.widget-view+json": {
       "model_id": "1e6401acb1bf47d7b854683aa6528053",
       "version_major": 2,
       "version_minor": 0
      },
      "text/plain": [
       "  0%|          | 0/99 [00:00<?, ?it/s]"
      ]
     },
     "metadata": {},
     "output_type": "display_data"
    },
    {
     "data": {
      "application/vnd.jupyter.widget-view+json": {
       "model_id": "1452f0d9351944fa99ba50c09e0acc7c",
       "version_major": 2,
       "version_minor": 0
      },
      "text/plain": [
       "  0%|          | 0/99 [00:00<?, ?it/s]"
      ]
     },
     "metadata": {},
     "output_type": "display_data"
    },
    {
     "data": {
      "application/vnd.jupyter.widget-view+json": {
       "model_id": "039fe3da615d4f5ca3f8557c1bde3a7c",
       "version_major": 2,
       "version_minor": 0
      },
      "text/plain": [
       "  0%|          | 0/99 [00:00<?, ?it/s]"
      ]
     },
     "metadata": {},
     "output_type": "display_data"
    },
    {
     "data": {
      "application/vnd.jupyter.widget-view+json": {
       "model_id": "e069a83b90674c8ab0bf96a3fc7ea857",
       "version_major": 2,
       "version_minor": 0
      },
      "text/plain": [
       "  0%|          | 0/99 [00:00<?, ?it/s]"
      ]
     },
     "metadata": {},
     "output_type": "display_data"
    },
    {
     "name": "stdout",
     "output_type": "stream",
     "text": [
      "Plan 40869 has been updated at 2021-03-15T10:20:30.295469-07:00\n",
      "Plan 40870 has been updated at 2021-03-15T10:20:30.987709-07:00\n",
      "Plan 40871 has been updated at 2021-03-15T10:20:31.484817-07:00\n"
     ]
    },
    {
     "data": {
      "application/vnd.jupyter.widget-view+json": {
       "model_id": "2af29d3fc3dc448abb884944202e65a0",
       "version_major": 2,
       "version_minor": 0
      },
      "text/plain": [
       "  0%|          | 0/99 [00:00<?, ?it/s]"
      ]
     },
     "metadata": {},
     "output_type": "display_data"
    },
    {
     "data": {
      "application/vnd.jupyter.widget-view+json": {
       "model_id": "152391d5dfa948079243622ca8708b2d",
       "version_major": 2,
       "version_minor": 0
      },
      "text/plain": [
       "  0%|          | 0/103 [00:00<?, ?it/s]"
      ]
     },
     "metadata": {},
     "output_type": "display_data"
    },
    {
     "name": "stdout",
     "output_type": "stream",
     "text": [
      "Plan 40883 has been updated at 2021-03-15T10:43:17.484436-07:00\n",
      "Plan 40883 has been updated at 2021-03-15T10:43:19.770714-07:00\n"
     ]
    },
    {
     "data": {
      "application/vnd.jupyter.widget-view+json": {
       "model_id": "34e3a2010d324b4fbac5d53e893d9adc",
       "version_major": 2,
       "version_minor": 0
      },
      "text/plain": [
       "  0%|          | 0/103 [00:00<?, ?it/s]"
      ]
     },
     "metadata": {},
     "output_type": "display_data"
    },
    {
     "data": {
      "application/vnd.jupyter.widget-view+json": {
       "model_id": "c260bc382f154303b16bdaf25bdfa036",
       "version_major": 2,
       "version_minor": 0
      },
      "text/plain": [
       "  0%|          | 0/103 [00:00<?, ?it/s]"
      ]
     },
     "metadata": {},
     "output_type": "display_data"
    },
    {
     "name": "stdout",
     "output_type": "stream",
     "text": [
      "Plan 40884 has been updated at 2021-03-15T11:06:20.499776-07:00\n",
      "Plan 40884 has been updated at 2021-03-15T11:06:28.695747-07:00\n"
     ]
    },
    {
     "data": {
      "application/vnd.jupyter.widget-view+json": {
       "model_id": "a9fbee993c704f0a9dad54536ef375ec",
       "version_major": 2,
       "version_minor": 0
      },
      "text/plain": [
       "  0%|          | 0/103 [00:00<?, ?it/s]"
      ]
     },
     "metadata": {},
     "output_type": "display_data"
    },
    {
     "data": {
      "application/vnd.jupyter.widget-view+json": {
       "model_id": "e0787943017046588328e0ab98b96303",
       "version_major": 2,
       "version_minor": 0
      },
      "text/plain": [
       "  0%|          | 0/103 [00:00<?, ?it/s]"
      ]
     },
     "metadata": {},
     "output_type": "display_data"
    },
    {
     "data": {
      "application/vnd.jupyter.widget-view+json": {
       "model_id": "397602b94e4b4bb8aa72a75bcba8db0a",
       "version_major": 2,
       "version_minor": 0
      },
      "text/plain": [
       "  0%|          | 0/103 [00:00<?, ?it/s]"
      ]
     },
     "metadata": {},
     "output_type": "display_data"
    },
    {
     "data": {
      "application/vnd.jupyter.widget-view+json": {
       "model_id": "351e8481d3274cf4b684a7978a189f73",
       "version_major": 2,
       "version_minor": 0
      },
      "text/plain": [
       "  0%|          | 0/103 [00:00<?, ?it/s]"
      ]
     },
     "metadata": {},
     "output_type": "display_data"
    },
    {
     "data": {
      "application/vnd.jupyter.widget-view+json": {
       "model_id": "fb8fa754bda241a484be0fec41d33961",
       "version_major": 2,
       "version_minor": 0
      },
      "text/plain": [
       "  0%|          | 0/103 [00:00<?, ?it/s]"
      ]
     },
     "metadata": {},
     "output_type": "display_data"
    },
    {
     "data": {
      "application/vnd.jupyter.widget-view+json": {
       "model_id": "4f58d74dbba440dfb1f466a6a3f1ec3f",
       "version_major": 2,
       "version_minor": 0
      },
      "text/plain": [
       "  0%|          | 0/103 [00:00<?, ?it/s]"
      ]
     },
     "metadata": {},
     "output_type": "display_data"
    },
    {
     "data": {
      "application/vnd.jupyter.widget-view+json": {
       "model_id": "8edaa3d3ae8a4c0697fe5d1f3d929703",
       "version_major": 2,
       "version_minor": 0
      },
      "text/plain": [
       "  0%|          | 0/103 [00:00<?, ?it/s]"
      ]
     },
     "metadata": {},
     "output_type": "display_data"
    },
    {
     "data": {
      "application/vnd.jupyter.widget-view+json": {
       "model_id": "ebeabaa58284431c8efc493a4c07a696",
       "version_major": 2,
       "version_minor": 0
      },
      "text/plain": [
       "  0%|          | 0/103 [00:00<?, ?it/s]"
      ]
     },
     "metadata": {},
     "output_type": "display_data"
    },
    {
     "data": {
      "application/vnd.jupyter.widget-view+json": {
       "model_id": "af0edf71e40740beb329905aedfc7c8c",
       "version_major": 2,
       "version_minor": 0
      },
      "text/plain": [
       "  0%|          | 0/103 [00:00<?, ?it/s]"
      ]
     },
     "metadata": {},
     "output_type": "display_data"
    }
   ],
   "source": [
    "from tqdm.auto import tqdm\n",
    "import time\n",
    "import arrow\n",
    "def get_plan_op_status(plan):\n",
    "    ops = plan.operations\n",
    "    ops.sort(key=lambda op: op.id)\n",
    "    statuses = [op.status for op in ops]\n",
    "    return statuses\n",
    "\n",
    "SECS = 60\n",
    "minutes = 10\n",
    "\n",
    "def step(plan):\n",
    "    old_status = get_plan_op_status(plan)\n",
    "    plan.step()\n",
    "    new_status = get_plan_op_status(aq.Plan.find(plan.id))\n",
    "    if old_status != new_status:\n",
    "        return True\n",
    "    return False\n",
    "\n",
    "while True:\n",
    "    plans = aq.Plan.where({'folder': 'SD2 CRISPR Redesign 2021'})\n",
    "    for plan in tqdm(plans):\n",
    "        mx = 3\n",
    "        i = 0\n",
    "        while step(plan) and i < mx:\n",
    "            print('Plan {} has been updated at {}'.format(plan.id, arrow.now()))\n",
    "            i += 1\n",
    "            plan = aq.Plan.find(plan.id)\n",
    "    time.sleep(SECS*minutes)"
   ]
  }
 ],
 "metadata": {
  "kernelspec": {
   "display_name": "Python 3",
   "language": "python",
   "name": "python3"
  },
  "language_info": {
   "codemirror_mode": {
    "name": "ipython",
    "version": 3
   },
   "file_extension": ".py",
   "mimetype": "text/x-python",
   "name": "python",
   "nbconvert_exporter": "python",
   "pygments_lexer": "ipython3",
   "version": "3.8.5"
  }
 },
 "nbformat": 4,
 "nbformat_minor": 5
}
