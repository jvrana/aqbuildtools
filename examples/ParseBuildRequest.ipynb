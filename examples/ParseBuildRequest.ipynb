{
 "cells": [
  {
   "cell_type": "markdown",
   "metadata": {},
   "source": [
    "# Parsing Build Request from Google Sheet\n",
    "\n",
    "**Inputs**\n",
    "\n",
    "* Google spreadsheetId\n",
    "* Sheetname\n",
    "* Token path\n",
    "* `credentials.json` (required from Google)\n",
    "* backbone sequences\n",
    "* *additional modifications to sequences?*\n",
    "\n",
    "**Outputs**\n",
    "\n",
    "* `output_plasmids/*.gb`"
   ]
  },
  {
   "cell_type": "code",
   "execution_count": 182,
   "metadata": {},
   "outputs": [],
   "source": [
    "\n",
    "# inputs\n",
    "spreadsheet_id = '1aDZv-A8JRGZbtVFugOsB6w-001pni8DDIoj1IXdRcMQ'\n",
    "sheetname = 'Design'\n",
    "\n",
    "token_path = 'token.pickle'\n",
    "creds_path = 'credentials.json'"
   ]
  },
  {
   "cell_type": "markdown",
   "metadata": {},
   "source": [
    "## Get build request data from GoogleSheets"
   ]
  },
  {
   "cell_type": "code",
   "execution_count": 183,
   "metadata": {},
   "outputs": [],
   "source": [
    "from __future__ import print_function\n",
    "import pickle\n",
    "import os.path\n",
    "from googleapiclient.discovery import build\n",
    "from google_auth_oauthlib.flow import InstalledAppFlow\n",
    "from google.auth.transport.requests import Request\n",
    "\n",
    "\n",
    "SCOPES = ['https://www.googleapis.com/auth/spreadsheets.readonly']\n",
    "\n",
    "\n",
    "def get_creds():\n",
    "    creds = None\n",
    "\n",
    "    if os.path.exists(token_path):\n",
    "        with open(token_path, 'rb') as token:\n",
    "            creds = pickle.load(token)\n",
    "\n",
    "    # If there are no (valid) credentials available, let the user log in.\n",
    "    if not creds or not creds.valid:\n",
    "        if creds and creds.expired and creds.refresh_token:\n",
    "            creds.refresh(Request())\n",
    "        else:\n",
    "            flow = InstalledAppFlow.from_client_secrets_file(\n",
    "                creds_path, SCOPES)\n",
    "            creds = flow.run_local_server(port=0)\n",
    "        # Save the credentials for the next run\n",
    "        with open(token_path, 'wb') as token:\n",
    "            pickle.dump(creds, token)\n",
    "    return creds\n",
    "\n",
    "creds = get_creds()\n",
    "service = build('sheets', 'v4', credentials=creds)"
   ]
  },
  {
   "cell_type": "code",
   "execution_count": 184,
   "metadata": {},
   "outputs": [],
   "source": [
    "# execute the request\n",
    "request = service.spreadsheets().values().get(spreadsheetId=spreadsheet_id, range=sheetname)\n",
    "data = request.execute()"
   ]
  },
  {
   "cell_type": "code",
   "execution_count": null,
   "metadata": {},
   "outputs": [],
   "source": [
    "# parse the values\n",
    "from aqbt.build_request import parse_parts, CellValue\n",
    "\n",
    "values = CellValue.to_cell_values(data['values'])\n",
    "\n",
    "parts = parse_parts(values)\n",
    "\n",
    "name_to_part_dict = {p['name'].lower().strip(): p for p in parts}\n",
    "\n",
    "def get_part(name):\n",
    "    return name_to_part_dict[name.lower().strip()]\n",
    "\n"
   ]
  },
  {
   "cell_type": "code",
   "execution_count": null,
   "metadata": {},
   "outputs": [],
   "source": [
    "assert len(name_to_part_dict) == len(parts)\n",
    "\n",
    "composite_parts = [p for p in parts if p['partType'] == 'composite part']\n",
    "\n",
    "strains = [s for s in composite_parts if 'strain' in s['name'].lower()]\n",
    "plasmids = [s for s in composite_parts if 'strain' not in s['name'].lower()]\n",
    "\n",
    "for s in strains:\n",
    "    for p in s['parts']:\n",
    "        part = name_to_part_dict[p.lower()]\n",
    "        if part['partType'] == 'basic part':\n",
    "            raise Exception(\"{} is not a composite part\".format(p))"
   ]
  },
  {
   "cell_type": "markdown",
   "metadata": {},
   "source": [
    "## BioLinter"
   ]
  },
  {
   "cell_type": "code",
   "execution_count": 186,
   "metadata": {},
   "outputs": [],
   "source": [
    "import re\n",
    "import bisect\n",
    "from pprint import pformat\n",
    "\n",
    "class BioLinter(object):\n",
    "    \n",
    "    PROMOTER = ['promoter', 'http://identifiers.org/so/SO:0000167']\n",
    "    TERMINATOR = ['terminator', 'http://identifiers.org/so/SO:0000141']\n",
    "    \n",
    "    def find_features(self, record, feature_types):\n",
    "        features = []\n",
    "        for f in record.features:\n",
    "            if f.type.strip().lower() in [t.lower() for t in feature_types]:\n",
    "                features.append(f)\n",
    "        return features\n",
    "    \n",
    "    def find_promoter(self, record):\n",
    "        return self.find_features(record, self.PROMOTER)\n",
    "    \n",
    "    def find_terminator(self, record):\n",
    "        return self.find_features(record, self.TERMINATOR)\n",
    "    \n",
    "    def find_seq(self, record, pattern, ignore_case=False):\n",
    "        if ignore_case:\n",
    "            list(re.finditer(pattern, str(record.seq), re.IGNORECASE))\n",
    "        return list(re.finditer(pattern, str(record.seq)))\n",
    "    \n",
    "    def find_start(self, record):\n",
    "        return self.find_seq(record, 'ATG', ignore_case=True)\n",
    "    \n",
    "    def find_stop(self, record):\n",
    "        return self.find_seq(record, 'TAG|TAA|TGA', ignore_case=True)\n",
    "    \n",
    "    @staticmethod\n",
    "    def _by_frame(matches):\n",
    "        frames = {\n",
    "            0: [],\n",
    "            1: [],\n",
    "            2: []\n",
    "        }\n",
    "        for match in matches:\n",
    "            frame = match.span()[0] % 3\n",
    "            frames[frame].append((match.span()[0], match))\n",
    "            \n",
    "        for v in frames.values():\n",
    "            v.sort()\n",
    "        return frames\n",
    "    \n",
    "    def find_cds(self, record, i, j):\n",
    "        region = record[i:j]\n",
    "        starts = self.find_start(region)\n",
    "        ends = self.find_stop(region)\n",
    "        start_frames = self._by_frame(starts)\n",
    "        end_frames = self._by_frame(ends)\n",
    "            \n",
    "        cds = []\n",
    "        for f in [0, 1, 2]:\n",
    "            _starts = start_frames[f]\n",
    "            _ends = end_frames[f]\n",
    "                \n",
    "            for start in _starts:\n",
    "                end_index = bisect.bisect_right([_x[0] for _x in _ends], start[0])\n",
    "                if not end_index == len(_ends):\n",
    "                    cds.append((f, start[0]+i, _ends[end_index][0]+i))\n",
    "        return cds\n",
    "    \n",
    "    \n",
    "    \n",
    "    def validate_cds(self, record, threshold=30):\n",
    "        errors = []\n",
    "        promoters = self.find_promoter(record)\n",
    "        terminators = self.find_terminator(record)\n",
    "        if not promoters:\n",
    "            errors.append('Error: {} has no promoters'.format(record.name))\n",
    "        if not terminators:\n",
    "            errors.append('Error: {} has no terminators'.format(record.name))\n",
    "            \n",
    "        if len(promoters) > 1:\n",
    "            errors.append(\"Error: {} more than one promoter: {}\".format(record.name, promoters))\n",
    "        if len(terminators) > 1:\n",
    "            errors.append(\"Error: {} more than one terminator: {}\".format(record.name, terminators))\n",
    "        if not errors:\n",
    "            start_index = promoters[0].location.end\n",
    "            end_index = terminators[0].location.start\n",
    "            cds_list = self.find_cds(record, start_index, end_index)\n",
    "            \n",
    "            valid_cds = []\n",
    "            for cds in cds_list:\n",
    "                near_promoter = False\n",
    "                near_terminator = False\n",
    "                within_bp = threshold\n",
    "                if start_index <= cds[1] and cds[1] <= start_index + within_bp:\n",
    "                    near_promoter = True\n",
    "                if end_index - within_bp <= cds[2] and cds[2] <= end_index:\n",
    "                    near_terminator = True\n",
    "                if (near_promoter and near_terminator):\n",
    "                    valid_cds.append(cds)\n",
    "            if not valid_cds:\n",
    "                msg = \"Error: No valid CDS\"\n",
    "                msg += \"\\n\\tRecord: {}\".format(record.name)\n",
    "                msg += \"\\n\\tPromoter End: {}\".format(start_index)\n",
    "                msg += \"\\n\\tTerminator Start: {}\".format(end_index)\n",
    "                msg += \"\\n\\tCDS List: {}\".format((cds_list))\n",
    "                errors.append(msg)\n",
    "                \n",
    "                    \n",
    "            \n",
    "        return errors\n",
    "    \n",
    "    def errors(self, record):\n",
    "        errors = []\n",
    "        errors += self.validate_cds(record)\n",
    "        return errors\n",
    "\n",
    "    def lint(self, records):\n",
    "        assert isinstance(records, list)\n",
    "        for record in records:\n",
    "            \n",
    "            errs = self.errors(record)\n",
    "            if errs:\n",
    "                for err in errs:\n",
    "                    print(err)\n",
    "                print()\n",
    "                \n",
    "                \n",
    "linter = BioLinter()\n"
   ]
  },
  {
   "cell_type": "markdown",
   "metadata": {},
   "source": [
    "## Export"
   ]
  },
  {
   "cell_type": "code",
   "execution_count": 188,
   "metadata": {},
   "outputs": [],
   "source": [
    "from aqbt import biopython"
   ]
  },
  {
   "cell_type": "code",
   "execution_count": 189,
   "metadata": {},
   "outputs": [
    {
     "name": "stdout",
     "output_type": "stream",
     "text": [
      "Error: No valid CDS\n",
      "\tRecord: Input_node_doxy_anac102\n",
      "\tPromoter End: 477\n",
      "\tTerminator Start: 2004\n",
      "\tCDS List: [(0, 477, 1620), (0, 813, 1620), (0, 975, 1620), (0, 1188, 1620), (0, 1299, 1620), (0, 1344, 1620), (0, 1482, 1620), (0, 1854, 1863), (0, 1866, 1887), (0, 1983, 2001), (1, 1210, 1249), (1, 1258, 1345), (1, 1468, 1594), (1, 1471, 1594), (1, 1510, 1594), (2, 896, 914), (2, 959, 989), (2, 998, 1016), (2, 1364, 1403), (2, 1433, 1439), (2, 1928, 1949), (2, 1955, 1973)]\n",
      "\n",
      "Error: No valid CDS\n",
      "\tRecord: Input_node_be_anac102\n",
      "\tPromoter End: 316\n",
      "\tTerminator Start: 1843\n",
      "\tCDS List: [(0, 316, 1459), (0, 652, 1459), (0, 814, 1459), (0, 1027, 1459), (0, 1138, 1459), (0, 1183, 1459), (0, 1321, 1459), (0, 1693, 1702), (0, 1705, 1726), (0, 1822, 1840), (1, 1049, 1088), (1, 1097, 1184), (1, 1307, 1433), (1, 1310, 1433), (1, 1349, 1433), (2, 735, 753), (2, 798, 828), (2, 837, 855), (2, 1203, 1242), (2, 1272, 1278), (2, 1767, 1788), (2, 1794, 1812)]\n",
      "\n"
     ]
    }
   ],
   "source": [
    "import operator\n",
    "import functools\n",
    "\n",
    "def build_sequence(part):\n",
    "    \"\"\"Build a SeqRecord from a part\"\"\"\n",
    "    if part['partType'] == 'basic part':\n",
    "        seq_str = part['sequence']\n",
    "        seq = biopython.new_sequence(seq_str, name=part['name'], auto_annotate=True, cyclic=False, annotation_type=part['roles'][0])\n",
    "        return seq\n",
    "    elif part['partType'] == 'composite part':\n",
    "        subparts = [get_part(name) for name in part['parts']]\n",
    "        subsequences = [build_sequence(part) for part in subparts]\n",
    "        seq = functools.reduce(operator.add, subsequences)\n",
    "        biopython.annotate(seq, name=part['name'])\n",
    "        return seq\n",
    "    else:\n",
    "        raise Exception(\"'{}' is not a recognized partType\".format(part['partType']))\n",
    "    \n",
    "def add_backbone(backbone, insert, jxn1, jxn2):\n",
    "    seq = insert + jxn2 + backbone + jxn1\n",
    "    seq.name = backbone.name + '_' + insert.name\n",
    "    return seq\n",
    "\n",
    "pp2 = biopython.new_sequence('CCTTAACCAGATTCGAAAAGCGGC', name='PP2', auto_annotate=True)\n",
    "ts = biopython.new_sequence('TGATACCGTCGACCTCGAGTCA', name='TS', auto_annotate=True)\n",
    "    \n",
    "build_sequence(strains[0])\n",
    "\n",
    "from Bio import SeqIO\n",
    "\n",
    "with open('pmod8_backbone.gb', 'r') as f:\n",
    "    bb1 = SeqIO.read(f, format='genbank')\n",
    "    \n",
    "with open('pmod6_backbone.gb', 'r') as f:\n",
    "    bb2 = SeqIO.read(f, format='genbank')\n",
    "    \n",
    "with open('pmod-ho-kanmx.gb', 'r') as f:\n",
    "    bb3 = SeqIO.read(f, format='genbank')\n",
    "backbones = [bb1, bb2, bb3]\n",
    "\n",
    "complete_plasmids = {}\n",
    "\n",
    "from Bio.Alphabet import generic_dna\n",
    "\n",
    "for strain in strains:\n",
    "    for i, plasmid_name in enumerate(strain['parts']):\n",
    "        if plasmid_name not in complete_plasmids:\n",
    "            insert_seq = build_sequence(get_part(plasmid_name))\n",
    "            insert_seq.name = '{}'.format(plasmid_name)\n",
    "            linter.lint([insert_seq])\n",
    "            backbone = backbones[i]\n",
    "            plasmid_seq = add_backbone(backbone=backbone, insert=insert_seq, jxn1=pp2, jxn2=ts)\n",
    "            plasmid_seq.seq.alphabet = generic_dna\n",
    "            complete_plasmids[plasmid_name] = biopython.make_cyclic([plasmid_seq])\n",
    "       \n",
    "from os.path import join\n",
    "\n",
    "\n",
    "\n",
    "for pname, p in complete_plasmids.items():\n",
    "    path = join('output_plasmids', '{}.gb'.format(p.name))\n",
    "    with open(path, 'w') as f:\n",
    "        SeqIO.write(p, f, format='genbank')"
   ]
  },
  {
   "cell_type": "code",
   "execution_count": 169,
   "metadata": {},
   "outputs": [
    {
     "name": "stdout",
     "output_type": "stream",
     "text": [
      "Error: strong_exp_med_ad_tet more than one promoter: [SeqFeature(FeatureLocation(ExactPosition(0), ExactPosition(680), strand=1), type='Promoter'), SeqFeature(FeatureLocation(ExactPosition(5387), ExactPosition(5699), strand=1), type='promoter')]\n",
      "Error: strong_exp_med_ad_tet more than one terminator: [SeqFeature(FeatureLocation(ExactPosition(1427), ExactPosition(1652), strand=1), type='Terminator'), SeqFeature(FeatureLocation(ExactPosition(6359), ExactPosition(6541), strand=1), type='terminator'), SeqFeature(FeatureLocation(ExactPosition(1696), ExactPosition(1936), strand=1), type='terminator')]\n",
      "\n",
      "Error: Input_node_doxy_ataf1 more than one promoter: [SeqFeature(FeatureLocation(ExactPosition(252), ExactPosition(477), strand=1), type='Promoter'), SeqFeature(FeatureLocation(ExactPosition(5018), ExactPosition(5266), strand=-1), type='promoter'), SeqFeature(FeatureLocation(ExactPosition(4665), ExactPosition(4694), strand=1), type='promoter'), SeqFeature(FeatureLocation(ExactPosition(2602), ExactPosition(2619), strand=1), type='promoter')]\n",
      "Error: Input_node_doxy_ataf1 more than one terminator: [SeqFeature(FeatureLocation(ExactPosition(1554), ExactPosition(1802), strand=1), type='Terminator'), SeqFeature(FeatureLocation(ExactPosition(1828), ExactPosition(2068), strand=-1), type='terminator'), SeqFeature(FeatureLocation(ExactPosition(6070), ExactPosition(6252), strand=-1), type='terminator')]\n",
      "\n",
      "Error: output_node_2b2_ataf1_stable_gfp more than one terminator: [SeqFeature(FeatureLocation(ExactPosition(1029), ExactPosition(1277), strand=1), type='Terminator'), SeqFeature(FeatureLocation(ExactPosition(1321), ExactPosition(1561), strand=1), type='terminator')]\n",
      "\n",
      "Error: medium_exp_med_ad_tet more than one promoter: [SeqFeature(FeatureLocation(ExactPosition(0), ExactPosition(700), strand=1), type='Promoter'), SeqFeature(FeatureLocation(ExactPosition(5407), ExactPosition(5719), strand=1), type='promoter')]\n",
      "Error: medium_exp_med_ad_tet more than one terminator: [SeqFeature(FeatureLocation(ExactPosition(1447), ExactPosition(1672), strand=1), type='Terminator'), SeqFeature(FeatureLocation(ExactPosition(6379), ExactPosition(6561), strand=1), type='terminator'), SeqFeature(FeatureLocation(ExactPosition(1716), ExactPosition(1956), strand=1), type='terminator')]\n",
      "\n",
      "Error: weak_exp_med_ad_tet more than one promoter: [SeqFeature(FeatureLocation(ExactPosition(0), ExactPosition(700), strand=1), type='Promoter'), SeqFeature(FeatureLocation(ExactPosition(5407), ExactPosition(5719), strand=1), type='promoter')]\n",
      "Error: weak_exp_med_ad_tet more than one terminator: [SeqFeature(FeatureLocation(ExactPosition(1447), ExactPosition(1672), strand=1), type='Terminator'), SeqFeature(FeatureLocation(ExactPosition(6379), ExactPosition(6561), strand=1), type='terminator'), SeqFeature(FeatureLocation(ExactPosition(1716), ExactPosition(1956), strand=1), type='terminator')]\n",
      "\n",
      "Error: strong_exp_strong_ad_tet more than one promoter: [SeqFeature(FeatureLocation(ExactPosition(0), ExactPosition(680), strand=1), type='Promoter'), SeqFeature(FeatureLocation(ExactPosition(6962), ExactPosition(7274), strand=1), type='promoter')]\n",
      "Error: strong_exp_strong_ad_tet more than one terminator: [SeqFeature(FeatureLocation(ExactPosition(3002), ExactPosition(3227), strand=1), type='Terminator'), SeqFeature(FeatureLocation(ExactPosition(7934), ExactPosition(8116), strand=1), type='terminator'), SeqFeature(FeatureLocation(ExactPosition(3271), ExactPosition(3511), strand=1), type='terminator')]\n",
      "\n",
      "Error: medium_exp_strong_ad_tet more than one promoter: [SeqFeature(FeatureLocation(ExactPosition(0), ExactPosition(700), strand=1), type='Promoter'), SeqFeature(FeatureLocation(ExactPosition(6982), ExactPosition(7294), strand=1), type='promoter')]\n",
      "Error: medium_exp_strong_ad_tet more than one terminator: [SeqFeature(FeatureLocation(ExactPosition(3022), ExactPosition(3247), strand=1), type='Terminator'), SeqFeature(FeatureLocation(ExactPosition(7954), ExactPosition(8136), strand=1), type='terminator'), SeqFeature(FeatureLocation(ExactPosition(3291), ExactPosition(3531), strand=1), type='terminator')]\n",
      "\n",
      "Error: weak_exp_strong_ad_tet more than one promoter: [SeqFeature(FeatureLocation(ExactPosition(0), ExactPosition(700), strand=1), type='Promoter'), SeqFeature(FeatureLocation(ExactPosition(6982), ExactPosition(7294), strand=1), type='promoter')]\n",
      "Error: weak_exp_strong_ad_tet more than one terminator: [SeqFeature(FeatureLocation(ExactPosition(3022), ExactPosition(3247), strand=1), type='Terminator'), SeqFeature(FeatureLocation(ExactPosition(7954), ExactPosition(8136), strand=1), type='terminator'), SeqFeature(FeatureLocation(ExactPosition(3291), ExactPosition(3531), strand=1), type='terminator')]\n",
      "\n",
      "Error: output_node_4b2_ataf1_stable_gfp more than one terminator: [SeqFeature(FeatureLocation(ExactPosition(1113), ExactPosition(1361), strand=1), type='Terminator'), SeqFeature(FeatureLocation(ExactPosition(1405), ExactPosition(1645), strand=1), type='terminator')]\n",
      "\n",
      "Error: output_node_6b2_ataf1_stable_gfp more than one terminator: [SeqFeature(FeatureLocation(ExactPosition(1197), ExactPosition(1445), strand=1), type='Terminator'), SeqFeature(FeatureLocation(ExactPosition(1489), ExactPosition(1729), strand=1), type='terminator')]\n",
      "\n",
      "Error: strong_exp_med_ad_zev more than one promoter: [SeqFeature(FeatureLocation(ExactPosition(0), ExactPosition(680), strand=1), type='Promoter'), SeqFeature(FeatureLocation(ExactPosition(5114), ExactPosition(5426), strand=1), type='promoter')]\n",
      "Error: strong_exp_med_ad_zev more than one terminator: [SeqFeature(FeatureLocation(ExactPosition(1154), ExactPosition(1379), strand=1), type='Terminator'), SeqFeature(FeatureLocation(ExactPosition(6086), ExactPosition(6268), strand=1), type='terminator'), SeqFeature(FeatureLocation(ExactPosition(1423), ExactPosition(1663), strand=1), type='terminator')]\n",
      "\n",
      "Error: Input_node_be_ataf1 more than one promoter: [SeqFeature(FeatureLocation(ExactPosition(91), ExactPosition(316), strand=1), type='Promoter'), SeqFeature(FeatureLocation(ExactPosition(4857), ExactPosition(5105), strand=-1), type='promoter'), SeqFeature(FeatureLocation(ExactPosition(4504), ExactPosition(4533), strand=1), type='promoter'), SeqFeature(FeatureLocation(ExactPosition(2441), ExactPosition(2458), strand=1), type='promoter')]\n",
      "Error: Input_node_be_ataf1 more than one terminator: [SeqFeature(FeatureLocation(ExactPosition(1393), ExactPosition(1641), strand=1), type='Terminator'), SeqFeature(FeatureLocation(ExactPosition(1667), ExactPosition(1907), strand=-1), type='terminator'), SeqFeature(FeatureLocation(ExactPosition(5909), ExactPosition(6091), strand=-1), type='terminator')]\n",
      "\n",
      "Error: medium_exp_med_ad_zev more than one promoter: [SeqFeature(FeatureLocation(ExactPosition(0), ExactPosition(700), strand=1), type='Promoter'), SeqFeature(FeatureLocation(ExactPosition(5134), ExactPosition(5446), strand=1), type='promoter')]\n",
      "Error: medium_exp_med_ad_zev more than one terminator: [SeqFeature(FeatureLocation(ExactPosition(1174), ExactPosition(1399), strand=1), type='Terminator'), SeqFeature(FeatureLocation(ExactPosition(6106), ExactPosition(6288), strand=1), type='terminator'), SeqFeature(FeatureLocation(ExactPosition(1443), ExactPosition(1683), strand=1), type='terminator')]\n",
      "\n",
      "Error: weak_exp_med_ad_zev more than one promoter: [SeqFeature(FeatureLocation(ExactPosition(0), ExactPosition(700), strand=1), type='Promoter'), SeqFeature(FeatureLocation(ExactPosition(5134), ExactPosition(5446), strand=1), type='promoter')]\n",
      "Error: weak_exp_med_ad_zev more than one terminator: [SeqFeature(FeatureLocation(ExactPosition(1174), ExactPosition(1399), strand=1), type='Terminator'), SeqFeature(FeatureLocation(ExactPosition(6106), ExactPosition(6288), strand=1), type='terminator'), SeqFeature(FeatureLocation(ExactPosition(1443), ExactPosition(1683), strand=1), type='terminator')]\n",
      "\n",
      "Error: strong_exp_strong_ad_zev more than one promoter: [SeqFeature(FeatureLocation(ExactPosition(0), ExactPosition(680), strand=1), type='Promoter'), SeqFeature(FeatureLocation(ExactPosition(6689), ExactPosition(7001), strand=1), type='promoter')]\n",
      "Error: strong_exp_strong_ad_zev more than one terminator: [SeqFeature(FeatureLocation(ExactPosition(2729), ExactPosition(2954), strand=1), type='Terminator'), SeqFeature(FeatureLocation(ExactPosition(7661), ExactPosition(7843), strand=1), type='terminator'), SeqFeature(FeatureLocation(ExactPosition(2998), ExactPosition(3238), strand=1), type='terminator')]\n",
      "\n",
      "Error: medium_exp_strong_ad_zev more than one promoter: [SeqFeature(FeatureLocation(ExactPosition(0), ExactPosition(700), strand=1), type='Promoter'), SeqFeature(FeatureLocation(ExactPosition(6709), ExactPosition(7021), strand=1), type='promoter')]\n",
      "Error: medium_exp_strong_ad_zev more than one terminator: [SeqFeature(FeatureLocation(ExactPosition(2749), ExactPosition(2974), strand=1), type='Terminator'), SeqFeature(FeatureLocation(ExactPosition(7681), ExactPosition(7863), strand=1), type='terminator'), SeqFeature(FeatureLocation(ExactPosition(3018), ExactPosition(3258), strand=1), type='terminator')]\n",
      "\n",
      "Error: weak_exp_strong_ad_zev more than one promoter: [SeqFeature(FeatureLocation(ExactPosition(0), ExactPosition(700), strand=1), type='Promoter'), SeqFeature(FeatureLocation(ExactPosition(6709), ExactPosition(7021), strand=1), type='promoter')]\n",
      "Error: weak_exp_strong_ad_zev more than one terminator: [SeqFeature(FeatureLocation(ExactPosition(2749), ExactPosition(2974), strand=1), type='Terminator'), SeqFeature(FeatureLocation(ExactPosition(7681), ExactPosition(7863), strand=1), type='terminator'), SeqFeature(FeatureLocation(ExactPosition(3018), ExactPosition(3258), strand=1), type='terminator')]\n",
      "\n",
      "Error: Input_node_doxy_anac102 more than one promoter: [SeqFeature(FeatureLocation(ExactPosition(252), ExactPosition(477), strand=1), type='Promoter'), SeqFeature(FeatureLocation(ExactPosition(5465), ExactPosition(5713), strand=-1), type='promoter'), SeqFeature(FeatureLocation(ExactPosition(5112), ExactPosition(5141), strand=1), type='promoter'), SeqFeature(FeatureLocation(ExactPosition(3049), ExactPosition(3066), strand=1), type='promoter')]\n",
      "Error: Input_node_doxy_anac102 more than one terminator: [SeqFeature(FeatureLocation(ExactPosition(2001), ExactPosition(2249), strand=1), type='Terminator'), SeqFeature(FeatureLocation(ExactPosition(2275), ExactPosition(2515), strand=-1), type='terminator'), SeqFeature(FeatureLocation(ExactPosition(6517), ExactPosition(6699), strand=-1), type='terminator')]\n",
      "\n",
      "Error: output_node_2b2_anac102_stable_gfp more than one terminator: [SeqFeature(FeatureLocation(ExactPosition(1053), ExactPosition(1301), strand=1), type='Terminator'), SeqFeature(FeatureLocation(ExactPosition(1345), ExactPosition(1585), strand=1), type='terminator')]\n",
      "\n",
      "Error: output_node_4b2_anac102_stable_gfp more than one terminator: [SeqFeature(FeatureLocation(ExactPosition(1161), ExactPosition(1409), strand=1), type='Terminator'), SeqFeature(FeatureLocation(ExactPosition(1453), ExactPosition(1693), strand=1), type='terminator')]\n",
      "\n",
      "Error: output_node_6b2_anac102_stable_gfp more than one terminator: [SeqFeature(FeatureLocation(ExactPosition(1269), ExactPosition(1517), strand=1), type='Terminator'), SeqFeature(FeatureLocation(ExactPosition(1561), ExactPosition(1801), strand=1), type='terminator')]\n",
      "\n",
      "Error: Input_node_be_anac102 more than one promoter: [SeqFeature(FeatureLocation(ExactPosition(91), ExactPosition(316), strand=1), type='Promoter'), SeqFeature(FeatureLocation(ExactPosition(5304), ExactPosition(5552), strand=-1), type='promoter'), SeqFeature(FeatureLocation(ExactPosition(4951), ExactPosition(4980), strand=1), type='promoter'), SeqFeature(FeatureLocation(ExactPosition(2888), ExactPosition(2905), strand=1), type='promoter')]\n",
      "Error: Input_node_be_anac102 more than one terminator: [SeqFeature(FeatureLocation(ExactPosition(1840), ExactPosition(2088), strand=1), type='Terminator'), SeqFeature(FeatureLocation(ExactPosition(2114), ExactPosition(2354), strand=-1), type='terminator'), SeqFeature(FeatureLocation(ExactPosition(6356), ExactPosition(6538), strand=-1), type='terminator')]\n",
      "\n",
      "Error: Input_node_doxy_jub1 more than one promoter: [SeqFeature(FeatureLocation(ExactPosition(252), ExactPosition(477), strand=1), type='Promoter'), SeqFeature(FeatureLocation(ExactPosition(4976), ExactPosition(5224), strand=-1), type='promoter'), SeqFeature(FeatureLocation(ExactPosition(4623), ExactPosition(4652), strand=1), type='promoter'), SeqFeature(FeatureLocation(ExactPosition(2560), ExactPosition(2577), strand=1), type='promoter')]\n",
      "Error: Input_node_doxy_jub1 more than one terminator: [SeqFeature(FeatureLocation(ExactPosition(1512), ExactPosition(1760), strand=1), type='Terminator'), SeqFeature(FeatureLocation(ExactPosition(1786), ExactPosition(2026), strand=-1), type='terminator'), SeqFeature(FeatureLocation(ExactPosition(6028), ExactPosition(6210), strand=-1), type='terminator')]\n",
      "\n",
      "Error: output_node_2b2_jub1_stable_gfp more than one terminator: [SeqFeature(FeatureLocation(ExactPosition(1045), ExactPosition(1293), strand=1), type='Terminator'), SeqFeature(FeatureLocation(ExactPosition(1337), ExactPosition(1577), strand=1), type='terminator')]\n",
      "\n",
      "Error: output_node_4b2_jub1_stable_gfp more than one terminator: [SeqFeature(FeatureLocation(ExactPosition(1145), ExactPosition(1393), strand=1), type='Terminator'), SeqFeature(FeatureLocation(ExactPosition(1437), ExactPosition(1677), strand=1), type='terminator')]\n",
      "\n",
      "Error: output_node_6b2_jub1_stable_gfp more than one terminator: [SeqFeature(FeatureLocation(ExactPosition(1245), ExactPosition(1493), strand=1), type='Terminator'), SeqFeature(FeatureLocation(ExactPosition(1537), ExactPosition(1777), strand=1), type='terminator')]\n",
      "\n",
      "Error: Input_node_be_jub1 more than one promoter: [SeqFeature(FeatureLocation(ExactPosition(91), ExactPosition(316), strand=1), type='Promoter'), SeqFeature(FeatureLocation(ExactPosition(4815), ExactPosition(5063), strand=-1), type='promoter'), SeqFeature(FeatureLocation(ExactPosition(4462), ExactPosition(4491), strand=1), type='promoter'), SeqFeature(FeatureLocation(ExactPosition(2399), ExactPosition(2416), strand=1), type='promoter')]\n",
      "Error: Input_node_be_jub1 more than one terminator: [SeqFeature(FeatureLocation(ExactPosition(1351), ExactPosition(1599), strand=1), type='Terminator'), SeqFeature(FeatureLocation(ExactPosition(1625), ExactPosition(1865), strand=-1), type='terminator'), SeqFeature(FeatureLocation(ExactPosition(5867), ExactPosition(6049), strand=-1), type='terminator')]\n",
      "\n",
      "Error: Input_node_doxy_ant more than one promoter: [SeqFeature(FeatureLocation(ExactPosition(252), ExactPosition(477), strand=1), type='Promoter'), SeqFeature(FeatureLocation(ExactPosition(5816), ExactPosition(6064), strand=-1), type='promoter'), SeqFeature(FeatureLocation(ExactPosition(5463), ExactPosition(5492), strand=1), type='promoter'), SeqFeature(FeatureLocation(ExactPosition(3400), ExactPosition(3417), strand=1), type='promoter')]\n",
      "Error: Input_node_doxy_ant more than one terminator: [SeqFeature(FeatureLocation(ExactPosition(2352), ExactPosition(2600), strand=1), type='Terminator'), SeqFeature(FeatureLocation(ExactPosition(2626), ExactPosition(2866), strand=-1), type='terminator'), SeqFeature(FeatureLocation(ExactPosition(6868), ExactPosition(7050), strand=-1), type='terminator')]\n",
      "\n",
      "Error: output_node_2b2_ant_stable_gfp more than one terminator: [SeqFeature(FeatureLocation(ExactPosition(1042), ExactPosition(1290), strand=1), type='Terminator'), SeqFeature(FeatureLocation(ExactPosition(1334), ExactPosition(1574), strand=1), type='terminator')]\n",
      "\n",
      "Error: output_node_4b2_ant_stable_gfp more than one terminator: [SeqFeature(FeatureLocation(ExactPosition(1139), ExactPosition(1387), strand=1), type='Terminator'), SeqFeature(FeatureLocation(ExactPosition(1431), ExactPosition(1671), strand=1), type='terminator')]\n",
      "\n",
      "Error: output_node_6b2_ant_stable_gfp more than one terminator: [SeqFeature(FeatureLocation(ExactPosition(1236), ExactPosition(1484), strand=1), type='Terminator'), SeqFeature(FeatureLocation(ExactPosition(1528), ExactPosition(1768), strand=1), type='terminator')]\n",
      "\n",
      "Error: Input_node_be_ant more than one promoter: [SeqFeature(FeatureLocation(ExactPosition(91), ExactPosition(316), strand=1), type='Promoter'), SeqFeature(FeatureLocation(ExactPosition(5655), ExactPosition(5903), strand=-1), type='promoter'), SeqFeature(FeatureLocation(ExactPosition(5302), ExactPosition(5331), strand=1), type='promoter'), SeqFeature(FeatureLocation(ExactPosition(3239), ExactPosition(3256), strand=1), type='promoter')]\n",
      "Error: Input_node_be_ant more than one terminator: [SeqFeature(FeatureLocation(ExactPosition(2191), ExactPosition(2439), strand=1), type='Terminator'), SeqFeature(FeatureLocation(ExactPosition(2465), ExactPosition(2705), strand=-1), type='terminator'), SeqFeature(FeatureLocation(ExactPosition(6707), ExactPosition(6889), strand=-1), type='terminator')]\n",
      "\n"
     ]
    }
   ],
   "source": [
    "linter.lint(list(complete_plasmids.values()))"
   ]
  },
  {
   "cell_type": "code",
   "execution_count": null,
   "metadata": {},
   "outputs": [],
   "source": []
  },
  {
   "cell_type": "code",
   "execution_count": 103,
   "metadata": {},
   "outputs": [],
   "source": [
    "mkdir 'output_plasmids'"
   ]
  },
  {
   "cell_type": "code",
   "execution_count": 69,
   "metadata": {},
   "outputs": [],
   "source": [
    "strain = strains[0]\n",
    "\n",
    "for pname in strain['parts']:\n",
    "    part = get_part(pname)\n",
    "    if not"
   ]
  },
  {
   "cell_type": "markdown",
   "metadata": {},
   "source": [
    "## Preprocessing"
   ]
  },
  {
   "cell_type": "code",
   "execution_count": 53,
   "metadata": {},
   "outputs": [
    {
     "ename": "KeyError",
     "evalue": "'Input_node_doxy_jub1'",
     "output_type": "error",
     "traceback": [
      "\u001b[0;31m---------------------------------------------------------------------------\u001b[0m",
      "\u001b[0;31mKeyError\u001b[0m                                  Traceback (most recent call last)",
      "\u001b[0;32m<ipython-input-53-d562cd7dc8ba>\u001b[0m in \u001b[0;36m<module>\u001b[0;34m\u001b[0m\n\u001b[0;32m----> 1\u001b[0;31m \u001b[0mname_to_part_dict\u001b[0m\u001b[0;34m[\u001b[0m\u001b[0;34m'Input_node_doxy_jub1'\u001b[0m\u001b[0;34m]\u001b[0m\u001b[0;34m\u001b[0m\u001b[0;34m\u001b[0m\u001b[0m\n\u001b[0m",
      "\u001b[0;31mKeyError\u001b[0m: 'Input_node_doxy_jub1'"
     ]
    }
   ],
   "source": [
    "name_to_part_dict['Input_node_doxy_jub1']"
   ]
  },
  {
   "cell_type": "markdown",
   "metadata": {},
   "source": [
    "# Errors\n",
    "\n",
    "White space in between section headings???"
   ]
  },
  {
   "cell_type": "markdown",
   "metadata": {},
   "source": [
    "## Submit Plasmids"
   ]
  },
  {
   "cell_type": "code",
   "execution_count": 11,
   "metadata": {},
   "outputs": [
    {
     "data": {
      "text/plain": [
       "{'name': 'medium_exp_med_ad_tet',\n",
       " 'collection': 'Inducer_receptors',\n",
       " 'partType': 'composite part',\n",
       " 'description': 'Tet protein is driven by a medium promoter and has a medium strength activation domain',\n",
       " 'parts': ['pRPL18B']}"
      ]
     },
     "execution_count": 11,
     "metadata": {},
     "output_type": "execute_result"
    }
   ],
   "source": [
    "markers = ['URA', 'HIS', 'TRP']\n",
    "\n",
    "backbones = []\n",
    "\n",
    "plasmids[1]"
   ]
  },
  {
   "cell_type": "markdown",
   "metadata": {},
   "source": [
    "## Build dependency graph"
   ]
  },
  {
   "cell_type": "code",
   "execution_count": null,
   "metadata": {},
   "outputs": [
    {
     "name": "stdout",
     "output_type": "stream",
     "text": [
      "Name: Dependency Graph\n",
      "Type: DiGraph\n",
      "Number of nodes: 211\n",
      "Number of edges: 577\n",
      "Average in degree:   2.7346\n",
      "Average out degree:   2.7346\n",
      "\n",
      "[18, 18, 18, 18, 18, 18, 18, 18, 12, 12, 12, 12, 12, 12, 12, 12, 12, 12, 12, 12, 12, 12, 12, 12, 12, 12, 12, 12, 12, 12, 12, 12]\n"
     ]
    }
   ],
   "source": [
    "import networkx as nx\n",
    "from typing import *\n",
    "\n",
    "name_to_part_dict = {p['name']: p for p in parts}\n",
    "assert len(name_to_part_dict) == len(parts)\n",
    "\n",
    "def get_dependency_graph(parts: List[dict]) -> nx.DiGraph:\n",
    "\n",
    "    # create dependency graph\n",
    "    g = nx.DiGraph()\n",
    "\n",
    "    for p in parts:\n",
    "        g.add_node(p['name'], part=p)\n",
    "\n",
    "    for p in parts:\n",
    "        if p['partType'] == 'composite part':\n",
    "            for p2 in p['parts']:\n",
    "                g.add_edge(p2, p['name'])\n",
    "    g.name = 'Dependency Graph'\n",
    "    return g\n",
    "\n",
    "g = get_dependency_graph(parts)\n",
    "\n",
    "print(nx.info(g))\n",
    "print()\n",
    "\n",
    "plasmid_to_strains = {}\n",
    "for p in plasmids:\n",
    "    successors = list(g.successors(p['name']))\n",
    "    plasmid_to_strains[p['name']] = successors\n",
    "    \n",
    "d = sorted(list(plasmid_to_strains.items()), key=lambda x: len(x[1]), reverse=True)\n",
    "\n",
    "print([len(_d[1]) for _d in d])"
   ]
  },
  {
   "cell_type": "markdown",
   "metadata": {},
   "source": [
    "## Build MST graph"
   ]
  },
  {
   "cell_type": "code",
   "execution_count": 148,
   "metadata": {},
   "outputs": [
    {
     "data": {
      "text/plain": [
       "[()]"
      ]
     },
     "execution_count": 148,
     "metadata": {},
     "output_type": "execute_result"
    }
   ],
   "source": [
    "list(combinations([1, 2], r=0))"
   ]
  },
  {
   "cell_type": "code",
   "execution_count": null,
   "metadata": {},
   "outputs": [
    {
     "data": {
      "image/png": "[encoded data removed]",
      "text/plain": [
       "<Figure size 432x288 with 2 Axes>"
      ]
     },
     "metadata": {
      "needs_background": "light"
     },
     "output_type": "display_data"
    },
    {
     "name": "stdout",
     "output_type": "stream",
     "text": [
      "144\n"
     ]
    }
   ],
   "source": [
    "from itertools import combinations\n",
    "\n",
    "strain = strains[-1]\n",
    "\n",
    "def get_intermediates(parts: List[str]):\n",
    "    x = []\n",
    "    for intermediate in combinations(parts, r=len(parts)-1):\n",
    "        x.append(tuple(list(sorted(intermediate))))\n",
    "    return [{\n",
    "        'name': _x,\n",
    "        'parts': _x\n",
    "    } for _x in x]\n",
    "\n",
    "\n",
    "def add_intermediates(strains, g):\n",
    "    remaining = []\n",
    "    \n",
    "    intermediate_strains = {}\n",
    "    for s1 in strains:\n",
    "        intermediates = get_intermediates(s1['parts'])\n",
    "        for s2 in intermediates:\n",
    "            if len(s2['parts']) > 0:\n",
    "                intermediate_strains[s2['name']] = s2\n",
    "            g.add_edge(s2['name'], s1['name'])\n",
    "    remaining = list(intermediate_strains.values())\n",
    "    if remaining:\n",
    "        add_intermediates(remaining, g)\n",
    "    return\n",
    "\n",
    "mst_graph = nx.DiGraph()\n",
    "add_intermediates(strains, mst_graph)\n",
    "for n in strains:\n",
    "    mst_graph.nodes[n['name']]['target'] = True\n",
    "# remaining\n",
    "\n",
    "s = sorted(strains, key=lambda x: len(x['parts']))\n",
    "s[-1]\n",
    "\n",
    "from networkx.algorithms.approximation import steiner_tree\n",
    "\n",
    "# solution = steiner_tree(mst_graph, terminal_nodes=[s['name'] for s in strains])\n",
    "\n",
    "# print(solution.number_of_nodes())\n",
    "\n",
    "%matplotlib inline\n",
    "nx.draw(solution, node_size=2)\n",
    "\n",
    "terminal_nodes = [s['name'] for s in strains]\n",
    "\n",
    "mst_graph_r = mst_graph.reverse()\n",
    "g = mst_graph_r.subgraph(terminal_nodes)\n",
    "print(len(terminal_nodes))\n",
    "g.number_of_edges()\n",
    "# for s in strain_names[:5]:\n",
    "#     print(s)\n",
    "#     s2_list = list(solution.neighbors(s))\n",
    "#     print(s2_list)\n",
    "# mst_graph.number_of_edges()\n",
    "# add_intermediates(remaining, mst_graph)\n",
    "# add_intermediates(remaining.values(), mst_graph)\n",
    "# mst_graph.number_of_edges()\n",
    "\n",
    "# nx.draw(mst_graph)\n",
    "# intermediates = []\n",
    "\n",
    "# for strain in strains:\n",
    "#     for intermediate in combinations(strain['parts'], r=2):\n",
    "        \n",
    "# strain['parts']\n",
    "# from networkx.algorithms.tree.branchings import minimum_spanning_arborescence\n",
    "\n",
    "# minimum_spanning_arborescence(mst_graph)\n",
    "%matplotlib inline\n",
    "w = nx.floyd_warshall_numpy(mst_graph)\n",
    "sns.heatmap(w, vmin=0, vmax=3)\n"
   ]
  },
  {
   "cell_type": "code",
   "execution_count": 249,
   "metadata": {},
   "outputs": [
    {
     "name": "stdout",
     "output_type": "stream",
     "text": [
      "Name: \n",
      "Type: DiGraph\n",
      "Number of nodes: 392\n",
      "Number of edges: 1296\n",
      "Average in degree:   3.3061\n",
      "Average out degree:   3.3061\n"
     ]
    },
    {
     "ename": "NetworkXException",
     "evalue": "No minimum spanning arborescence in G.",
     "output_type": "error",
     "traceback": [
      "\u001b[0;31m---------------------------------------------------------------------------\u001b[0m",
      "\u001b[0;31mNetworkXException\u001b[0m                         Traceback (most recent call last)",
      "\u001b[0;32m<ipython-input-249-f05732cf3dcf>\u001b[0m in \u001b[0;36m<module>\u001b[0;34m\u001b[0m\n\u001b[1;32m      9\u001b[0m \u001b[0mprint\u001b[0m\u001b[0;34m(\u001b[0m\u001b[0mnx\u001b[0m\u001b[0;34m.\u001b[0m\u001b[0minfo\u001b[0m\u001b[0;34m(\u001b[0m\u001b[0mtransitive_closure\u001b[0m\u001b[0;34m)\u001b[0m\u001b[0;34m)\u001b[0m\u001b[0;34m\u001b[0m\u001b[0;34m\u001b[0m\u001b[0m\n\u001b[1;32m     10\u001b[0m \u001b[0;34m\u001b[0m\u001b[0m\n\u001b[0;32m---> 11\u001b[0;31m \u001b[0msolution\u001b[0m \u001b[0;34m=\u001b[0m \u001b[0mnx\u001b[0m\u001b[0;34m.\u001b[0m\u001b[0mminimum_spanning_arborescence\u001b[0m\u001b[0;34m(\u001b[0m\u001b[0mtransitive_closure\u001b[0m\u001b[0;34m)\u001b[0m\u001b[0;34m\u001b[0m\u001b[0;34m\u001b[0m\u001b[0m\n\u001b[0m\u001b[1;32m     12\u001b[0m \u001b[0;34m\u001b[0m\u001b[0m\n\u001b[1;32m     13\u001b[0m \u001b[0mprint\u001b[0m\u001b[0;34m(\u001b[0m\u001b[0mnx\u001b[0m\u001b[0;34m.\u001b[0m\u001b[0minfo\u001b[0m\u001b[0;34m(\u001b[0m\u001b[0msolution\u001b[0m\u001b[0;34m)\u001b[0m\u001b[0;34m)\u001b[0m\u001b[0;34m\u001b[0m\u001b[0;34m\u001b[0m\u001b[0m\n",
      "\u001b[0;32m~/anaconda3/envs/aqbt/lib/python3.8/site-packages/networkx/algorithms/tree/branchings.py\u001b[0m in \u001b[0;36mminimum_spanning_arborescence\u001b[0;34m(G, attr, default, preserve_attrs)\u001b[0m\n\u001b[1;32m    665\u001b[0m     \u001b[0;32mif\u001b[0m \u001b[0;32mnot\u001b[0m \u001b[0mis_arborescence\u001b[0m\u001b[0;34m(\u001b[0m\u001b[0mB\u001b[0m\u001b[0;34m)\u001b[0m\u001b[0;34m:\u001b[0m\u001b[0;34m\u001b[0m\u001b[0;34m\u001b[0m\u001b[0m\n\u001b[1;32m    666\u001b[0m         \u001b[0mmsg\u001b[0m \u001b[0;34m=\u001b[0m \u001b[0;34m'No minimum spanning arborescence in G.'\u001b[0m\u001b[0;34m\u001b[0m\u001b[0;34m\u001b[0m\u001b[0m\n\u001b[0;32m--> 667\u001b[0;31m         \u001b[0;32mraise\u001b[0m \u001b[0mnx\u001b[0m\u001b[0;34m.\u001b[0m\u001b[0mexception\u001b[0m\u001b[0;34m.\u001b[0m\u001b[0mNetworkXException\u001b[0m\u001b[0;34m(\u001b[0m\u001b[0mmsg\u001b[0m\u001b[0;34m)\u001b[0m\u001b[0;34m\u001b[0m\u001b[0;34m\u001b[0m\u001b[0m\n\u001b[0m\u001b[1;32m    668\u001b[0m     \u001b[0;32mreturn\u001b[0m \u001b[0mB\u001b[0m\u001b[0;34m\u001b[0m\u001b[0;34m\u001b[0m\u001b[0m\n\u001b[1;32m    669\u001b[0m \u001b[0;34m\u001b[0m\u001b[0m\n",
      "\u001b[0;31mNetworkXException\u001b[0m: No minimum spanning arborescence in G."
     ]
    }
   ],
   "source": [
    "transitive_closure = nx.DiGraph()\n",
    "for i, j in permutations(list(range(len(nodelist))), r=2):\n",
    "    n1 = nodelist[i]\n",
    "    n2 = nodelist[j]\n",
    "    w = W[i, j]\n",
    "    if not np.isinf(w):\n",
    "        transitive_closure.add_edge(n1, n2, weight=w)\n",
    "        \n",
    "print(nx.info(transitive_closure))\n",
    "\n",
    "solution = nx.minimum_spanning_arborescence(transitive_closure)\n",
    "\n",
    "print(nx.info(solution))"
   ]
  },
  {
   "cell_type": "code",
   "execution_count": 266,
   "metadata": {},
   "outputs": [
    {
     "name": "stdout",
     "output_type": "stream",
     "text": [
      "Name: \n",
      "Type: DiGraph\n",
      "Number of nodes: 24\n",
      "Number of edges: 23\n",
      "Average in degree:   0.9583\n",
      "Average out degree:   0.9583\n",
      "Name: \n",
      "Type: DiGraph\n",
      "Number of nodes: 24\n",
      "Number of edges: 44\n",
      "Average in degree:   1.8333\n",
      "Average out degree:   1.8333\n",
      "SM_doxy_ataf1_2bs_stable_gfp_strain\n"
     ]
    },
    {
     "data": {
      "image/png": "[encoded data removed]",
      "text/plain": [
       "<Figure size 432x288 with 1 Axes>"
      ]
     },
     "metadata": {},
     "output_type": "display_data"
    },
    {
     "data": {
      "image/png": "[encoded data removed]",
      "text/plain": [
       "<Figure size 432x288 with 1 Axes>"
      ]
     },
     "metadata": {},
     "output_type": "display_data"
    },
    {
     "data": {
      "image/png": "[encoded data removed]",
      "text/plain": [
       "<Figure size 432x288 with 1 Axes>"
      ]
     },
     "metadata": {},
     "output_type": "display_data"
    },
    {
     "data": {
      "image/png": "[encoded data removed]",
      "text/plain": [
       "<Figure size 432x288 with 1 Axes>"
      ]
     },
     "metadata": {},
     "output_type": "display_data"
    },
    {
     "data": {
      "image/png": "[encoded data removed]",
      "text/plain": [
       "<Figure size 432x288 with 1 Axes>"
      ]
     },
     "metadata": {},
     "output_type": "display_data"
    }
   ],
   "source": [
    "import seaborn as sns\n",
    "from itertools import permutations\n",
    "import numpy as np\n",
    "import pylab as plt\n",
    "\n",
    "mst_graph = nx.DiGraph()\n",
    "add_intermediates(strains[:5], mst_graph)\n",
    "for n in strains[:5]:\n",
    "    mst_graph.nodes[n['name']]['target'] = True\n",
    "\n",
    "g = nx.maximum_branching(mst_graph)\n",
    "\n",
    "\n",
    "# tree = nx.bfs_tree(g.reverse(), strain_names[0])\n",
    "# nx.draw(tree)\n",
    "\n",
    "# tree = nx.bfs_tree(g.reverse(), list(tree.nodes())[1])\n",
    "# nx.draw(tree)\n",
    "\n",
    "print(nx.info(g))\n",
    "\n",
    "print(nx.info(mst_graph))\n",
    "nx.draw(g)\n",
    "print(strain_names[0])\n",
    "list(g.predecessors(strain_names[0]))\n",
    "\n",
    "for s in strains[:5]:\n",
    "    strain_name = s['name']\n",
    "    tree = nx.bfs_tree(g.reverse(), strain_name)\n",
    "    nx.draw(tree)\n",
    "    plt.show()\n",
    "# nodelist = list(mst_graph.nodes)\n",
    "\n",
    "# W = nx.floyd_warshall_numpy(mst_graph, nodelist=nodelist)\n",
    "\n",
    "# g = nx.transitive_closure(mst_graph)\n",
    "\n",
    "# # for i, j in permutations(list(range(len(nodelist))), r=2):\n",
    "# #     n1 = nodelist[i]\n",
    "# #     n2 = nodelist[j]\n",
    "# #     w = W[j, i]\n",
    "# #     print(w)\n",
    "# #     if not np.isnan(w):\n",
    "# #         g.edges[n1][n2]['weight'] = w\n",
    "# # closure = nx.transitive_closure(mst_graph)\n",
    "# # nx.floyd_warshall_numpy?\n",
    "# # edges = {}\n",
    "# # for n1, n2 in g.edges:\n",
    "# #     if n1 not in edges:\n",
    "# #         edges[n1] = {n2: {}}\n",
    "# # edges\n",
    "\n",
    "# g = nx.DiGraph()\n",
    "# for i, j in permutations(list(range(len(nodelist))), r=2):\n",
    "#     n1 = nodelist[i]\n",
    "#     n2 = nodelist[j]\n",
    "#     w = W[i, j]\n",
    "#     if not np.isinf(w):\n",
    "#         g.add_edge(n1, n2, weight=w)"
   ]
  },
  {
   "cell_type": "code",
   "execution_count": 278,
   "metadata": {},
   "outputs": [
    {
     "name": "stdout",
     "output_type": "stream",
     "text": [
      "Name: \n",
      "Type: DiGraph\n",
      "Number of nodes: 10\n",
      "Number of edges: 9\n",
      "Average in degree:   0.9000\n",
      "Average out degree:   0.9000\n"
     ]
    },
    {
     "data": {
      "image/png": "[encoded data removed]",
      "text/plain": [
       "<Figure size 432x288 with 1 Axes>"
      ]
     },
     "metadata": {},
     "output_type": "display_data"
    }
   ],
   "source": [
    "g = nx.DiGraph()\n",
    "\n",
    "g.add_edge(-1, 1)\n",
    "g.add_edge(-1, 2)\n",
    "g.add_edge(-1, 3)\n",
    "g.add_edge(-1, 4)\n",
    "\n",
    "g.add_edge(4, (1,4))\n",
    "g.add_edge(1, (1,4))\n",
    "g.add_edge(1, (1,2))\n",
    "g.add_edge(2, (1,2))\n",
    "g.add_edge(2, (2,3))\n",
    "g.add_edge(3, (2,3))\n",
    "g.add_edge((1,2), (1,2,3))\n",
    "g.add_edge((2,3), (1,2,3))\n",
    "g.add_edge((2,3), (2,3,4))\n",
    "\n",
    "tree = nx.minimum_spanning_arborescence(g)\n",
    "print(nx.info(tree))\n",
    "nx.draw(tree)"
   ]
  },
  {
   "cell_type": "code",
   "execution_count": 163,
   "metadata": {},
   "outputs": [
    {
     "ename": "NetworkXException",
     "evalue": "No maximum spanning arborescence in G.",
     "output_type": "error",
     "traceback": [
      "\u001b[0;31m---------------------------------------------------------------------------\u001b[0m",
      "\u001b[0;31mNetworkXException\u001b[0m                         Traceback (most recent call last)",
      "\u001b[0;32m<ipython-input-163-066d07d6f86f>\u001b[0m in \u001b[0;36m<module>\u001b[0;34m\u001b[0m\n\u001b[1;32m     13\u001b[0m \u001b[0;32mfrom\u001b[0m \u001b[0mnetworkx\u001b[0m\u001b[0;34m.\u001b[0m\u001b[0malgorithms\u001b[0m\u001b[0;34m.\u001b[0m\u001b[0mtree\u001b[0m\u001b[0;34m.\u001b[0m\u001b[0mbranchings\u001b[0m \u001b[0;32mimport\u001b[0m \u001b[0mmaximum_spanning_arborescence\u001b[0m\u001b[0;34m\u001b[0m\u001b[0;34m\u001b[0m\u001b[0m\n\u001b[1;32m     14\u001b[0m \u001b[0;34m\u001b[0m\u001b[0m\n\u001b[0;32m---> 15\u001b[0;31m \u001b[0mtree\u001b[0m \u001b[0;34m=\u001b[0m \u001b[0mmaximum_spanning_arborescence\u001b[0m\u001b[0;34m(\u001b[0m\u001b[0mg\u001b[0m\u001b[0;34m)\u001b[0m\u001b[0;34m\u001b[0m\u001b[0;34m\u001b[0m\u001b[0m\n\u001b[0m\u001b[1;32m     16\u001b[0m \u001b[0mnx\u001b[0m\u001b[0;34m.\u001b[0m\u001b[0mdraw\u001b[0m\u001b[0;34m(\u001b[0m\u001b[0mtree\u001b[0m\u001b[0;34m,\u001b[0m \u001b[0mnode_size\u001b[0m\u001b[0;34m=\u001b[0m\u001b[0;36m5\u001b[0m\u001b[0;34m)\u001b[0m\u001b[0;34m\u001b[0m\u001b[0;34m\u001b[0m\u001b[0m\n\u001b[1;32m     17\u001b[0m \u001b[0;31m# nx.draw(g, node_size=5)\u001b[0m\u001b[0;34m\u001b[0m\u001b[0;34m\u001b[0m\u001b[0;34m\u001b[0m\u001b[0m\n",
      "\u001b[0;32m~/anaconda3/envs/aqbt/lib/python3.8/site-packages/networkx/algorithms/tree/branchings.py\u001b[0m in \u001b[0;36mmaximum_spanning_arborescence\u001b[0;34m(G, attr, default, preserve_attrs)\u001b[0m\n\u001b[1;32m    654\u001b[0m     \u001b[0;32mif\u001b[0m \u001b[0;32mnot\u001b[0m \u001b[0mis_arborescence\u001b[0m\u001b[0;34m(\u001b[0m\u001b[0mB\u001b[0m\u001b[0;34m)\u001b[0m\u001b[0;34m:\u001b[0m\u001b[0;34m\u001b[0m\u001b[0;34m\u001b[0m\u001b[0m\n\u001b[1;32m    655\u001b[0m         \u001b[0mmsg\u001b[0m \u001b[0;34m=\u001b[0m \u001b[0;34m'No maximum spanning arborescence in G.'\u001b[0m\u001b[0;34m\u001b[0m\u001b[0;34m\u001b[0m\u001b[0m\n\u001b[0;32m--> 656\u001b[0;31m         \u001b[0;32mraise\u001b[0m \u001b[0mnx\u001b[0m\u001b[0;34m.\u001b[0m\u001b[0mexception\u001b[0m\u001b[0;34m.\u001b[0m\u001b[0mNetworkXException\u001b[0m\u001b[0;34m(\u001b[0m\u001b[0mmsg\u001b[0m\u001b[0;34m)\u001b[0m\u001b[0;34m\u001b[0m\u001b[0;34m\u001b[0m\u001b[0m\n\u001b[0m\u001b[1;32m    657\u001b[0m     \u001b[0;32mreturn\u001b[0m \u001b[0mB\u001b[0m\u001b[0;34m\u001b[0m\u001b[0;34m\u001b[0m\u001b[0m\n\u001b[1;32m    658\u001b[0m \u001b[0;34m\u001b[0m\u001b[0m\n",
      "\u001b[0;31mNetworkXException\u001b[0m: No maximum spanning arborescence in G."
     ]
    }
   ],
   "source": [
    "# transitive closure\n",
    "g = nx.DiGraph()\n",
    "for i, j in permutations(list(range(len(nodelist))), r=2):\n",
    "    n1 = nodelist[i]\n",
    "    n2 = nodelist[j]\n",
    "    w = W[i, j]\n",
    "    if not np.isinf(w):\n",
    "        g.add_edge(n1, n2, weight=w)\n",
    "   \n",
    "# subgraph\n",
    "# sg = g.subgraph(strain_names)\n",
    "\n",
    "from networkx.algorithms.tree.branchings import maximum_spanning_arborescence\n",
    "\n",
    "tree = maximum_spanning_arborescence(g)\n",
    "nx.draw(tree, node_size=5)\n",
    "# nx.draw(g, node_size=5)"
   ]
  },
  {
   "cell_type": "code",
   "execution_count": null,
   "metadata": {},
   "outputs": [],
   "source": [
    "def get_bipartite_graph(parts: List[dict]) -> nx.DiGraph:\n",
    "\n",
    "    # create dependency graph\n",
    "    g = nx.DiGraph()\n",
    "\n",
    "    for p in parts:\n",
    "        if p['partType'] == 'composite part':\n",
    "            g.add_node(p['name'], part=p)\n",
    "\n",
    "    for p in parts:\n",
    "        if p['partType'] == 'composite part':\n",
    "            for p2 in p['parts']:\n",
    "                g.add_edge(p2, p['name'])\n",
    "    g.name = 'Dependency Graph'\n",
    "    return g\n",
    "\n",
    "g = get_bipartite_graph(parts)\n",
    "nodes = [s['name'] for s in strains]\n",
    "pos = nx.bipartite_layout(g, nodes=nodes)\n",
    "\n",
    "nx.draw(g, pos=pos)metric_closure"
   ]
  },
  {
   "cell_type": "code",
   "execution_count": null,
   "metadata": {},
   "outputs": [],
   "source": []
  },
  {
   "cell_type": "markdown",
   "metadata": {},
   "source": [
    "## Build Rules\n",
    "\n",
    "List of rules to create junctions. Every junction needs to have at least one rule, even if it returns `None`.\n"
   ]
  },
  {
   "cell_type": "code",
   "execution_count": null,
   "metadata": {},
   "outputs": [],
   "source": [
    "build_rules = []\n"
   ]
  },
  {
   "cell_type": "code",
   "execution_count": null,
   "metadata": {},
   "outputs": [],
   "source": [
    "from networkx.drawing.nx_agraph import graphviz_layout\n",
    "\n",
    "\n",
    "# pos=nx.spectral_layout(g)\n",
    "nx.draw(g)\n"
   ]
  },
  {
   "cell_type": "code",
   "execution_count": null,
   "metadata": {},
   "outputs": [],
   "source": []
  }
 ],
 "metadata": {
  "kernelspec": {
   "display_name": "Python 3",
   "language": "python",
   "name": "python3"
  },
  "language_info": {
   "codemirror_mode": {
    "name": "ipython",
    "version": 3
   },
   "file_extension": ".py",
   "mimetype": "text/x-python",
   "name": "python",
   "nbconvert_exporter": "python",
   "pygments_lexer": "ipython3",
   "version": "3.8.3"
  }
 },
 "nbformat": 4,
 "nbformat_minor": 4
}
