{
 "cells": [
  {
   "cell_type": "markdown",
   "metadata": {},
   "source": [
    "# Aquarium Plan post-processing"
   ]
  },
  {
   "cell_type": "code",
   "execution_count": 1,
   "metadata": {},
   "outputs": [
    {
     "data": {
      "text/plain": [
       "{'default': {'aquarium': <AqSession(name=None, AqHTTP=<AqHTTP(user='vrana', url='http://52.27.43.242')>), parent=94009983669088)>,\n",
       "  'benchling': <benchlingapi.session.Session at 0x7f2e504d2340>,\n",
       "  'registry': <aqbt.aquarium.registry.LabDNARegistry at 0x7f2e504ef550>}}"
      ]
     },
     "execution_count": 1,
     "metadata": {},
     "output_type": "execute_result"
    }
   ],
   "source": [
    "# login to Benchling & Aquarium\n",
    "from aqbt.tools import config_to_sessions\n",
    "from aqbt.tools import parse_config\n",
    "import toml\n",
    "\n",
    "def config(config_path):\n",
    "    with open(config_path, \"r\") as f:\n",
    "        return parse_config(toml.load(f))\n",
    "\n",
    "\n",
    "def sessions(config):\n",
    "    return config_to_sessions(config)\n",
    "\n",
    "\n",
    "sessions = sessions(config('config.toml'))\n",
    "\n",
    "benchling = sessions['default']['benchling']\n",
    "registry = sessions['default']['registry']\n",
    "session = sessions['default']['aquarium']\n",
    "sessions"
   ]
  },
  {
   "cell_type": "code",
   "execution_count": 2,
   "metadata": {},
   "outputs": [],
   "source": [
    "PLAN_ID = 39388\n",
    "# http://52.27.43.242//plans?plan_id=39388\n",
    "# session.Plan.find(39380)\n"
   ]
  },
  {
   "cell_type": "markdown",
   "metadata": {},
   "source": [
    "## Optimize Plan"
   ]
  },
  {
   "cell_type": "code",
   "execution_count": 3,
   "metadata": {},
   "outputs": [
    {
     "name": "stdout",
     "output_type": "stream",
     "text": [
      "PLAN 39388\n",
      "loading planner...\n",
      "optimizing...\n",
      "splitting plans...\n",
      "\tsplit into 3 plans\n",
      "Saving plan to server. Please be patient.\n",
      "\tPlan: Part 1/3: Plant TF__1595361543_(Terrarium v0.1.5)\n",
      "\tNumOps: 123\n",
      "\tprettifying...\n",
      "\thttp:/52.27.43.242/plans?plan_id=39389\n",
      "Saving plan to server. Please be patient.\n",
      "\tPlan: Part 2/3: Plant TF__1595361543_(Terrarium v0.1.5)\n",
      "\tNumOps: 155\n",
      "\tprettifying...\n",
      "\thttp:/52.27.43.242/plans?plan_id=39390\n",
      "Saving plan to server. Please be patient.\n",
      "\tPlan: Part 3/3: Plant TF__1595361543_(Terrarium v0.1.5)\n",
      "\tNumOps: 100\n",
      "\tprettifying...\n",
      "\thttp:/52.27.43.242/plans?plan_id=39391\n"
     ]
    }
   ],
   "source": [
    "from pydent.planner import Planner\n",
    "\n",
    "with session.with_cache(timeout=120) as sess:\n",
    "    print(\"PLAN {}\".format(PLAN_ID))\n",
    "    plan = sess.Plan.find(PLAN_ID)\n",
    "\n",
    "    print('loading planner...')\n",
    "    planner = Planner(plan)\n",
    "\n",
    "    print('optimizing...')\n",
    "    planner.optimize()\n",
    "    \n",
    "    \n",
    "    \n",
    "    \n",
    "    print(\"splitting plans...\")\n",
    "    plans = planner.split()\n",
    "    print('\\tsplit into {} plans'.format(len(plans)))\n",
    "    \n",
    "    for i, p in enumerate(plans):\n",
    "        p.name = 'Part {}/{}: {}'.format(i+1, len(plans), plan.name)\n",
    "        print('Saving plan to server. Please be patient.')\n",
    "        \n",
    "        print('\\tPlan: {}'.format(p.name))\n",
    "        print('\\tNumOps: {}'.format(len(p.operations)))\n",
    "        print('\\tprettifying...')\n",
    "        p.prettify()\n",
    "        p.save()\n",
    "        print('\\t' + p.url)"
   ]
  },
  {
   "cell_type": "code",
   "execution_count": 12,
   "metadata": {},
   "outputs": [],
   "source": [
    "plans = planner.split()\n",
    "for p in plans:\n",
    "    print(\"\")"
   ]
  },
  {
   "cell_type": "code",
   "execution_count": 15,
   "metadata": {},
   "outputs": [
    {
     "data": {
      "text/plain": [
       "'http:/52.27.43.242/plans?plan_id=None'"
      ]
     },
     "execution_count": 15,
     "metadata": {},
     "output_type": "execute_result"
    }
   ],
   "source": [
    "plans[0].url"
   ]
  },
  {
   "cell_type": "code",
   "execution_count": 7,
   "metadata": {},
   "outputs": [
    {
     "name": "stdout",
     "output_type": "stream",
     "text": [
      "plan 0\n",
      "post processing...\n",
      "success\n",
      "prettifying...\n",
      "saving...\n",
      "plan 1\n",
      "post processing...\n",
      "success\n",
      "success\n",
      "success\n",
      "success\n",
      "success\n",
      "success\n",
      "success\n",
      "success\n",
      "success\n",
      "success\n",
      "success\n",
      "success\n",
      "success\n",
      "success\n",
      "success\n",
      "prettifying...\n",
      "saving...\n",
      "plan 2\n",
      "post processing...\n",
      "success\n",
      "success\n",
      "success\n",
      "success\n",
      "success\n",
      "success\n",
      "prettifying...\n",
      "saving...\n"
     ]
    }
   ],
   "source": [
    "from pydent.planner import Planner\n",
    "\n",
    "with session.with_cache(timeout=120) as sess:\n",
    "    for i, p in enumerate(plans):\n",
    "        print('plan {}'.format(i))\n",
    "        print('post processing...')\n",
    "        planner = Planner(sess.Plan.find(p.plan.id))\n",
    "\n",
    "        sess.browser.get([plan], {\"operations\": {'operation_type': {}, 'field_values': ['sample', 'item']}})\n",
    "\n",
    "        for op in planner.operations:\n",
    "            if op.operation_type.name == 'Order Primer':\n",
    "                op.input('Urgent?').value == 'yes'\n",
    "            elif op.operation_type.name == 'Run Gel':\n",
    "                fv = op.input('Gel')\n",
    "                pour_gel = planner.create_operation_by_name(\"Pour Gel\")\n",
    "                try:\n",
    "                    planner.quick_wire(pour_gel, op)\n",
    "                    print(\"success\")\n",
    "                except:\n",
    "                    pass\n",
    "            elif op.operation_type.name == 'Order gBlock Fragment':\n",
    "                fv = op.input('Bases')\n",
    "                fv.value = op.outputs[0].sample.properties['Sequence']\n",
    "            elif op.operation_type.name == 'Make Glycerol Stock':\n",
    "                fv = op.input('Needs Sequencing Results?')\n",
    "                fv.value = 'Yes'\n",
    "        print('prettifying...')\n",
    "        planner.prettify()\n",
    "        planner.save()\n",
    "        print('saving...')"
   ]
  },
  {
   "cell_type": "code",
   "execution_count": null,
   "metadata": {},
   "outputs": [],
   "source": []
  }
 ],
 "metadata": {
  "kernelspec": {
   "display_name": "Python 3",
   "language": "python",
   "name": "python3"
  },
  "language_info": {
   "codemirror_mode": {
    "name": "ipython",
    "version": 3
   },
   "file_extension": ".py",
   "mimetype": "text/x-python",
   "name": "python",
   "nbconvert_exporter": "python",
   "pygments_lexer": "ipython3",
   "version": "3.8.3"
  }
 },
 "nbformat": 4,
 "nbformat_minor": 4
}
