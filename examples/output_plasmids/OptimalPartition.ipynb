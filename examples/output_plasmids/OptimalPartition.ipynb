{
 "cells": [
  {
   "cell_type": "code",
   "execution_count": 1,
   "metadata": {},
   "outputs": [],
   "source": [
    "import dasi\n"
   ]
  },
  {
   "cell_type": "code",
   "execution_count": 2,
   "metadata": {},
   "outputs": [],
   "source": [
    "from dasi.utils.sequence import DNAStats"
   ]
  },
  {
   "cell_type": "code",
   "execution_count": 3,
   "metadata": {},
   "outputs": [],
   "source": [
    "from dasi.utils import biopython"
   ]
  },
  {
   "cell_type": "code",
   "execution_count": 146,
   "metadata": {},
   "outputs": [],
   "source": [
    "seq = biopython.random_sequence(1000)\n",
    "seq = seq[:500] + seq[(500-30):500] + seq[500:]\n",
    "\n",
    "\n",
    "def stats(seq):\n",
    "    return DNAStats(seq, 14, 20, 20)\n",
    "\n",
    "def partition(seq, w):\n",
    "    y = []\n",
    "    x = []\n",
    "    seqstats = stats(seq)\n",
    "    for i in range(1, len(seq)-1, w):\n",
    "        y.append(seqstats.cost(None, i) + seqstats.cost(i, None))\n",
    "        x.append(i)\n",
    "    return np.array([x, y])\n",
    "\n",
    "def optimal_partition(stats, window=None, window_size=None):\n",
    "    t = 10.\n",
    "    if window is None:\n",
    "        window = (0, len(stats.seq))\n",
    "        \n",
    "    if window_size is None:\n",
    "        window_size = int((window[1] - window[0]) / 5)\n",
    "    y, x = [], []\n",
    "    print(window)\n",
    "    for i in range(*window, window_size):\n",
    "        \n",
    "        y.append(stats.cost(None, i) + stats.cost(i, None))\n",
    "        x.append(i)\n",
    "    \n",
    "    \n",
    "#     z = np.array([x, y])\n",
    "#     t = z[1].min() + (z[1].max() - z[1].min()) * \n",
    "#     i = np.where(z[1] < t)[0]\n",
    "#     if not len(i):\n",
    "#         ws = window_size / 2.\n",
    "#     else:\n",
    "#         w = (i.min(), i.max())\n",
    "        \n",
    "#     return x, y\n",
    "# import seaborn as sns\n",
    "# import pylab as plt\n",
    "# %matplotlib inline\n",
    "\n",
    "# optimal_partition(stats(seq), window_size=10);\n",
    "# # plt.plot(*z)\n",
    "# # plt.show()\n",
    "# # g = np.gradient(z)\n",
    "# # dydx = g[1][1]/g[1][0]\n",
    "# # plt.plot(z[0], dydx)"
   ]
  },
  {
   "cell_type": "code",
   "execution_count": 145,
   "metadata": {},
   "outputs": [
    {
     "data": {
      "text/plain": [
       "[<matplotlib.lines.Line2D at 0x7f8a579b0ac0>]"
      ]
     },
     "execution_count": 145,
     "metadata": {},
     "output_type": "execute_result"
    },
    {
     "data": {
      "image/png": "[encoded data removed]",
      "text/plain": [
       "<Figure size 432x288 with 1 Axes>"
      ]
     },
     "metadata": {
      "needs_background": "light"
     },
     "output_type": "display_data"
    }
   ],
   "source": [
    "partition(seq, 100)[1].min()\n",
    "y = []\n",
    "x = []\n",
    "\n",
    "for i in np.linspace(10, 200, 11):\n",
    "    y.append(partition(seq, int(i))[1].min())\n",
    "    x.append(i)\n",
    "    \n",
    "plt.plot(x, y)\n",
    "# plt.plot(y)"
   ]
  },
  {
   "cell_type": "code",
   "execution_count": 135,
   "metadata": {},
   "outputs": [
    {
     "data": {
      "text/plain": [
       "18.96657359917018"
      ]
     },
     "execution_count": 135,
     "metadata": {},
     "output_type": "execute_result"
    }
   ],
   "source": [
    "partition(seq, 110)[1].min()"
   ]
  },
  {
   "cell_type": "code",
   "execution_count": null,
   "metadata": {},
   "outputs": [],
   "source": []
  }
 ],
 "metadata": {
  "kernelspec": {
   "display_name": "Python 3",
   "language": "python",
   "name": "python3"
  },
  "language_info": {
   "codemirror_mode": {
    "name": "ipython",
    "version": 3
   },
   "file_extension": ".py",
   "mimetype": "text/x-python",
   "name": "python",
   "nbconvert_exporter": "python",
   "pygments_lexer": "ipython3",
   "version": "3.8.3"
  }
 },
 "nbformat": 4,
 "nbformat_minor": 4
}
